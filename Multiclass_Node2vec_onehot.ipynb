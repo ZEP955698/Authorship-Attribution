{
 "cells": [
  {
   "cell_type": "code",
   "execution_count": 1,
   "id": "e4d44f02",
   "metadata": {},
   "outputs": [],
   "source": [
    "import warnings\n",
    "warnings.filterwarnings('ignore')"
   ]
  },
  {
   "cell_type": "code",
   "execution_count": 2,
   "id": "52f9686b",
   "metadata": {},
   "outputs": [],
   "source": [
    "import numpy as np\n",
    "import pandas as pd"
   ]
  },
  {
   "cell_type": "code",
   "execution_count": 3,
   "id": "b9f75cc5",
   "metadata": {},
   "outputs": [],
   "source": [
    "import matplotlib as mpl\n",
    "\n",
    "%matplotlib inline\n",
    "mpl.rcParams['figure.figsize'] = 18, 7\n",
    "pd.set_option('display.float_format', lambda x: '%.5f' % x)"
   ]
  },
  {
   "cell_type": "code",
   "execution_count": 4,
   "id": "13b5bf9e",
   "metadata": {},
   "outputs": [],
   "source": [
    "import json\n",
    "\n",
    "# read json file\n",
    "def read_json(path):\n",
    "    with open(path, 'r') as file:\n",
    "         temp = json.load(file)\n",
    "    df = pd.DataFrame(temp).T\n",
    "    return df"
   ]
  },
  {
   "cell_type": "code",
   "execution_count": 5,
   "id": "b0d37e86",
   "metadata": {},
   "outputs": [
    {
     "data": {
      "text/html": [
       "<div>\n",
       "<style scoped>\n",
       "    .dataframe tbody tr th:only-of-type {\n",
       "        vertical-align: middle;\n",
       "    }\n",
       "\n",
       "    .dataframe tbody tr th {\n",
       "        vertical-align: top;\n",
       "    }\n",
       "\n",
       "    .dataframe thead th {\n",
       "        text-align: right;\n",
       "    }\n",
       "</style>\n",
       "<table border=\"1\" class=\"dataframe\">\n",
       "  <thead>\n",
       "    <tr style=\"text-align: right;\">\n",
       "      <th></th>\n",
       "      <th>venue</th>\n",
       "      <th>keywords</th>\n",
       "      <th>year</th>\n",
       "      <th>author</th>\n",
       "    </tr>\n",
       "  </thead>\n",
       "  <tbody>\n",
       "    <tr>\n",
       "      <th>0</th>\n",
       "      <td></td>\n",
       "      <td>[64, 1, 322, 134, 136, 396, 270, 144, 476, 481...</td>\n",
       "      <td>2017</td>\n",
       "      <td>[1605, 759]</td>\n",
       "    </tr>\n",
       "    <tr>\n",
       "      <th>1</th>\n",
       "      <td>0</td>\n",
       "      <td>[258, 260, 389, 261, 390, 396, 400, 17, 146, 2...</td>\n",
       "      <td>2013</td>\n",
       "      <td>[2182]</td>\n",
       "    </tr>\n",
       "    <tr>\n",
       "      <th>2</th>\n",
       "      <td>1</td>\n",
       "      <td>[320, 454, 266, 462, 17, 339, 404, 342, 407, 2...</td>\n",
       "      <td>2007</td>\n",
       "      <td>[2176]</td>\n",
       "    </tr>\n",
       "    <tr>\n",
       "      <th>3</th>\n",
       "      <td>2</td>\n",
       "      <td>[260, 132, 333, 15, 400, 272, 146, 401, 278, 3...</td>\n",
       "      <td>2013</td>\n",
       "      <td>[1107]</td>\n",
       "    </tr>\n",
       "    <tr>\n",
       "      <th>4</th>\n",
       "      <td>3</td>\n",
       "      <td>[64, 385, 449, 450, 71, 73, 268, 80, 216, 25, ...</td>\n",
       "      <td>2009</td>\n",
       "      <td>[1414]</td>\n",
       "    </tr>\n",
       "  </tbody>\n",
       "</table>\n",
       "</div>"
      ],
      "text/plain": [
       "  venue                                           keywords  year       author\n",
       "0        [64, 1, 322, 134, 136, 396, 270, 144, 476, 481...  2017  [1605, 759]\n",
       "1     0  [258, 260, 389, 261, 390, 396, 400, 17, 146, 2...  2013       [2182]\n",
       "2     1  [320, 454, 266, 462, 17, 339, 404, 342, 407, 2...  2007       [2176]\n",
       "3     2  [260, 132, 333, 15, 400, 272, 146, 401, 278, 3...  2013       [1107]\n",
       "4     3  [64, 385, 449, 450, 71, 73, 268, 80, 216, 25, ...  2009       [1414]"
      ]
     },
     "execution_count": 5,
     "metadata": {},
     "output_type": "execute_result"
    }
   ],
   "source": [
    "train_df = read_json('comp90051-22-s1-p1/train.json')\n",
    "train_df.head(5)"
   ]
  },
  {
   "cell_type": "code",
   "execution_count": 6,
   "id": "9cd4e93b",
   "metadata": {},
   "outputs": [
    {
     "data": {
      "text/html": [
       "<div>\n",
       "<style scoped>\n",
       "    .dataframe tbody tr th:only-of-type {\n",
       "        vertical-align: middle;\n",
       "    }\n",
       "\n",
       "    .dataframe tbody tr th {\n",
       "        vertical-align: top;\n",
       "    }\n",
       "\n",
       "    .dataframe thead th {\n",
       "        text-align: right;\n",
       "    }\n",
       "</style>\n",
       "<table border=\"1\" class=\"dataframe\">\n",
       "  <thead>\n",
       "    <tr style=\"text-align: right;\">\n",
       "      <th></th>\n",
       "      <th>venue</th>\n",
       "      <th>keywords</th>\n",
       "      <th>year</th>\n",
       "      <th>coauthor</th>\n",
       "      <th>target</th>\n",
       "    </tr>\n",
       "  </thead>\n",
       "  <tbody>\n",
       "    <tr>\n",
       "      <th>0</th>\n",
       "      <td></td>\n",
       "      <td>[260, 6, 390, 136, 7, 11, 17, 285, 288, 162, 4...</td>\n",
       "      <td>2017</td>\n",
       "      <td>[]</td>\n",
       "      <td>988</td>\n",
       "    </tr>\n",
       "    <tr>\n",
       "      <th>1</th>\n",
       "      <td>94</td>\n",
       "      <td>[260, 454, 137, 14, 400, 274, 339, 213, 280, 2...</td>\n",
       "      <td>2019</td>\n",
       "      <td>[1001]</td>\n",
       "      <td>2123</td>\n",
       "    </tr>\n",
       "    <tr>\n",
       "      <th>2</th>\n",
       "      <td>31</td>\n",
       "      <td>[390, 198, 7, 461, 462, 14, 404, 277, 24, 473,...</td>\n",
       "      <td>2014</td>\n",
       "      <td>[]</td>\n",
       "      <td>1578</td>\n",
       "    </tr>\n",
       "    <tr>\n",
       "      <th>3</th>\n",
       "      <td>6</td>\n",
       "      <td>[195, 6, 390, 10, 459, 464, 338, 146, 276, 466...</td>\n",
       "      <td>2010</td>\n",
       "      <td>[1347]</td>\n",
       "      <td>2072</td>\n",
       "    </tr>\n",
       "    <tr>\n",
       "      <th>4</th>\n",
       "      <td>162</td>\n",
       "      <td>[64, 1, 260, 457, 73, 147, 282, 27, 156, 43, 3...</td>\n",
       "      <td>2016</td>\n",
       "      <td>[1107]</td>\n",
       "      <td>995</td>\n",
       "    </tr>\n",
       "  </tbody>\n",
       "</table>\n",
       "</div>"
      ],
      "text/plain": [
       "  venue                                           keywords  year coauthor  \\\n",
       "0        [260, 6, 390, 136, 7, 11, 17, 285, 288, 162, 4...  2017       []   \n",
       "1    94  [260, 454, 137, 14, 400, 274, 339, 213, 280, 2...  2019   [1001]   \n",
       "2    31  [390, 198, 7, 461, 462, 14, 404, 277, 24, 473,...  2014       []   \n",
       "3     6  [195, 6, 390, 10, 459, 464, 338, 146, 276, 466...  2010   [1347]   \n",
       "4   162  [64, 1, 260, 457, 73, 147, 282, 27, 156, 43, 3...  2016   [1107]   \n",
       "\n",
       "  target  \n",
       "0    988  \n",
       "1   2123  \n",
       "2   1578  \n",
       "3   2072  \n",
       "4    995  "
      ]
     },
     "execution_count": 6,
     "metadata": {},
     "output_type": "execute_result"
    }
   ],
   "source": [
    "test_df = read_json('comp90051-22-s1-p1/test.json')\n",
    "test_df.head(5)"
   ]
  },
  {
   "cell_type": "code",
   "execution_count": 7,
   "id": "2375b1aa",
   "metadata": {},
   "outputs": [
    {
     "name": "stdout",
     "output_type": "stream",
     "text": [
      "shape of train_df    = (26108, 4)\n",
      "shape of test_df     = (2000, 5)\n"
     ]
    }
   ],
   "source": [
    "# print dimension for each dataframe\n",
    "print(f\"shape of train_df    = {train_df.shape}\")\n",
    "print(f\"shape of test_df     = {test_df.shape}\")"
   ]
  },
  {
   "cell_type": "code",
   "execution_count": 8,
   "id": "45b9ae38",
   "metadata": {},
   "outputs": [],
   "source": [
    "def get_transformed_df(df):\n",
    "    aus = df['author']\n",
    "    transformed_lst = []\n",
    "    for i in range(df.shape[0]):\n",
    "        for j in aus[i]:\n",
    "            temp = list(df.values[i][:-1])\n",
    "            temp.append([au for au in aus[i] if au!=j])\n",
    "            temp.append(j)\n",
    "            transformed_lst.append(temp)\n",
    "    cols = list(df.columns[:-1])\n",
    "    cols.append('coauthor')\n",
    "    cols.append('target')\n",
    "    return pd.DataFrame(transformed_lst,columns=cols)"
   ]
  },
  {
   "cell_type": "code",
   "execution_count": 9,
   "id": "0234185e",
   "metadata": {},
   "outputs": [],
   "source": [
    "transformed_df = get_transformed_df(train_df)"
   ]
  },
  {
   "cell_type": "code",
   "execution_count": 10,
   "id": "1c0f88c7",
   "metadata": {},
   "outputs": [
    {
     "data": {
      "text/html": [
       "<div>\n",
       "<style scoped>\n",
       "    .dataframe tbody tr th:only-of-type {\n",
       "        vertical-align: middle;\n",
       "    }\n",
       "\n",
       "    .dataframe tbody tr th {\n",
       "        vertical-align: top;\n",
       "    }\n",
       "\n",
       "    .dataframe thead th {\n",
       "        text-align: right;\n",
       "    }\n",
       "</style>\n",
       "<table border=\"1\" class=\"dataframe\">\n",
       "  <thead>\n",
       "    <tr style=\"text-align: right;\">\n",
       "      <th></th>\n",
       "      <th>venue</th>\n",
       "      <th>keywords</th>\n",
       "      <th>year</th>\n",
       "      <th>coauthor</th>\n",
       "      <th>target</th>\n",
       "    </tr>\n",
       "  </thead>\n",
       "  <tbody>\n",
       "    <tr>\n",
       "      <th>0</th>\n",
       "      <td></td>\n",
       "      <td>[64, 1, 322, 134, 136, 396, 270, 144, 476, 481...</td>\n",
       "      <td>2017</td>\n",
       "      <td>[759]</td>\n",
       "      <td>1605</td>\n",
       "    </tr>\n",
       "    <tr>\n",
       "      <th>1</th>\n",
       "      <td></td>\n",
       "      <td>[64, 1, 322, 134, 136, 396, 270, 144, 476, 481...</td>\n",
       "      <td>2017</td>\n",
       "      <td>[1605]</td>\n",
       "      <td>759</td>\n",
       "    </tr>\n",
       "    <tr>\n",
       "      <th>2</th>\n",
       "      <td>0</td>\n",
       "      <td>[258, 260, 389, 261, 390, 396, 400, 17, 146, 2...</td>\n",
       "      <td>2013</td>\n",
       "      <td>[]</td>\n",
       "      <td>2182</td>\n",
       "    </tr>\n",
       "    <tr>\n",
       "      <th>3</th>\n",
       "      <td>1</td>\n",
       "      <td>[320, 454, 266, 462, 17, 339, 404, 342, 407, 2...</td>\n",
       "      <td>2007</td>\n",
       "      <td>[]</td>\n",
       "      <td>2176</td>\n",
       "    </tr>\n",
       "    <tr>\n",
       "      <th>4</th>\n",
       "      <td>2</td>\n",
       "      <td>[260, 132, 333, 15, 400, 272, 146, 401, 278, 3...</td>\n",
       "      <td>2013</td>\n",
       "      <td>[]</td>\n",
       "      <td>1107</td>\n",
       "    </tr>\n",
       "  </tbody>\n",
       "</table>\n",
       "</div>"
      ],
      "text/plain": [
       "  venue                                           keywords  year coauthor  \\\n",
       "0        [64, 1, 322, 134, 136, 396, 270, 144, 476, 481...  2017    [759]   \n",
       "1        [64, 1, 322, 134, 136, 396, 270, 144, 476, 481...  2017   [1605]   \n",
       "2     0  [258, 260, 389, 261, 390, 396, 400, 17, 146, 2...  2013       []   \n",
       "3     1  [320, 454, 266, 462, 17, 339, 404, 342, 407, 2...  2007       []   \n",
       "4     2  [260, 132, 333, 15, 400, 272, 146, 401, 278, 3...  2013       []   \n",
       "\n",
       "   target  \n",
       "0    1605  \n",
       "1     759  \n",
       "2    2182  \n",
       "3    2176  \n",
       "4    1107  "
      ]
     },
     "execution_count": 10,
     "metadata": {},
     "output_type": "execute_result"
    }
   ],
   "source": [
    "transformed_df.head()"
   ]
  },
  {
   "cell_type": "code",
   "execution_count": 11,
   "id": "f6a21baf",
   "metadata": {},
   "outputs": [],
   "source": [
    "import torch\n",
    "def get_onehot_col(col, size, col_prefix):\n",
    "    transformed_col = []\n",
    "    for i in col:\n",
    "        transformed_col.append(torch.zeros(size, dtype=torch.int).scatter_(0, torch.tensor(i), value=1).tolist())\n",
    "    col_names = [col_prefix+'_'+str(i) for i in range(size)]\n",
    "    return pd.DataFrame(transformed_col, columns=col_names)"
   ]
  },
  {
   "cell_type": "code",
   "execution_count": 12,
   "id": "b227625b",
   "metadata": {},
   "outputs": [],
   "source": [
    "transformed_df.loc[transformed_df['venue']=='',['venue']]=470\n",
    "venue_transformed = get_onehot_col(transformed_df['venue'], 471, \"venue\")\n",
    "\n",
    "keywords_transformed = get_onehot_col(transformed_df['keywords'], 500, \"keywords\")\n",
    "\n",
    "transformed_df['year'] = transformed_df['year']-2000\n",
    "year_transformed = get_onehot_col(transformed_df['year'], 20, \"year\")\n",
    "\n",
    "coauthor_transformed = get_onehot_col(transformed_df['coauthor'], 2302, \"coauthor\")\n",
    "\n",
    "target_transformed = get_onehot_col(transformed_df['target'], 2302, \"target\")\n",
    "\n",
    "\n",
    "\n"
   ]
  },
  {
   "cell_type": "markdown",
   "id": "d33664bd",
   "metadata": {},
   "source": [
    "## Create embeddings for keywords"
   ]
  },
  {
   "cell_type": "code",
   "execution_count": 13,
   "id": "201dc25a",
   "metadata": {},
   "outputs": [],
   "source": [
    "# get nodes and edges for keyword graph\n",
    "edges = []\n",
    "nodes = set()\n",
    "for kws in transformed_df['keywords']:\n",
    "    for i in kws:\n",
    "        for j in kws:\n",
    "            if i != j:\n",
    "                nodes.add(i)\n",
    "                edges.append((i,j))\n",
    "                "
   ]
  },
  {
   "cell_type": "code",
   "execution_count": 14,
   "id": "774d31ca",
   "metadata": {},
   "outputs": [],
   "source": [
    "import networkx as nx\n",
    "import matplotlib.pyplot as plt\n",
    "\n",
    "# Create graph using nodes and edges\n",
    "G_kws = nx.Graph()\n",
    "G_kws.add_nodes_from(list(nodes))\n",
    "G_kws.add_edges_from(edges)"
   ]
  },
  {
   "cell_type": "code",
   "execution_count": 15,
   "id": "d6dc74c3",
   "metadata": {},
   "outputs": [],
   "source": [
    "from karateclub.utils.walker import RandomWalker, BiasedRandomWalker\n",
    "from karateclub import DeepWalk, Node2Vec\n",
    "from gensim.models.word2vec import Word2Vec\n",
    "\n",
    "# create the random walk using the graph\n",
    "walker = RandomWalker(walk_length = 80, walk_number = 100)\n",
    "walker.do_walks(G_kws)"
   ]
  },
  {
   "cell_type": "code",
   "execution_count": 16,
   "id": "8bae09f0",
   "metadata": {},
   "outputs": [],
   "source": [
    "WINDOW_SIZE_KEYWORDS = 6\n",
    "VECTOR_SIZE_KEYWORDS = 12\n",
    "\n",
    "model_kws = Word2Vec(walker.walks,  # previously generated walks\n",
    "                 hs=1,  # tells the model to use hierarchical softmax\n",
    "                 sg = 1,  # tells the model to use skip-gram\n",
    "                 vector_size=VECTOR_SIZE_KEYWORDS,  # size of the embedding\n",
    "                 window=WINDOW_SIZE_KEYWORDS,\n",
    "                 epochs = 1,\n",
    "                 min_count =1,\n",
    "                 workers=4,\n",
    "                 seed=42)"
   ]
  },
  {
   "cell_type": "code",
   "execution_count": 17,
   "id": "b6339684",
   "metadata": {},
   "outputs": [
    {
     "data": {
      "text/plain": [
       "(500, 12)"
      ]
     },
     "execution_count": 17,
     "metadata": {},
     "output_type": "execute_result"
    }
   ],
   "source": [
    "embedding_kws = model_kws.wv.vectors\n",
    "embedding_kws.shape"
   ]
  },
  {
   "cell_type": "code",
   "execution_count": 18,
   "id": "d77fc5a6",
   "metadata": {},
   "outputs": [
    {
     "data": {
      "image/png": "[encoded data removed]",
      "text/plain": [
       "<Figure size 1296x504 with 1 Axes>"
      ]
     },
     "metadata": {
      "needs_background": "light"
     },
     "output_type": "display_data"
    }
   ],
   "source": [
    "import umap.umap_ as umap\n",
    "import seaborn as sns\n",
    "\n",
    "\n",
    "u = umap.UMAP(random_state=90051)\n",
    "umap_embs_kws = u.fit_transform(embedding_kws)\n",
    "\n",
    "ax = sns.scatterplot(x = umap_embs_kws[:, 0], y = umap_embs_kws[:, 1]).set(title=\"Visualization of keywords embeddings in 2d space\")\n",
    "\n",
    "\n"
   ]
  },
  {
   "cell_type": "code",
   "execution_count": 19,
   "id": "a07c7d9a",
   "metadata": {},
   "outputs": [],
   "source": [
    "def convert_to_emb(lst, model):\n",
    "    curr = []\n",
    "    for i in lst:\n",
    "        try:\n",
    "            curr.append(model.wv.get_vector(i))\n",
    "        except:\n",
    "            continue\n",
    "    if curr == []:\n",
    "        return list([0 for i in range(model.vector_size)])\n",
    "    return np.mean(np.array(curr), axis=0).tolist()\n",
    "\n",
    "\n",
    "keywords_tran = []\n",
    "for row in transformed_df['keywords']:\n",
    "    keywords_tran.append(convert_to_emb(row, model_kws ))\n",
    "\n",
    "keywords_cols = [\"keyword_\"+str(i) for i in range(VECTOR_SIZE_KEYWORDS)]\n",
    "keywords_transformed_node2vec = pd.DataFrame(keywords_tran, columns=keywords_cols)\n",
    "\n",
    "\n",
    "\n",
    "\n",
    "\n"
   ]
  },
  {
   "cell_type": "code",
   "execution_count": 20,
   "id": "2336f231",
   "metadata": {},
   "outputs": [],
   "source": [
    "\n",
    "#transformed_df_comb = pd.concat([venue_transformed,keywords_transformed,keywords_transformed_tfidf,year_transformed,transformed_df['year'], coauthor_transformed],axis=1)\n",
    "transformed_df_comb = pd.concat([venue_transformed,keywords_transformed, keywords_transformed_node2vec,year_transformed, coauthor_transformed],axis=1)\n",
    "\n",
    "\n"
   ]
  },
  {
   "cell_type": "code",
   "execution_count": 21,
   "id": "3a781de4",
   "metadata": {},
   "outputs": [],
   "source": [
    "transformed_df_comb['target'] = transformed_df['target'].values"
   ]
  },
  {
   "cell_type": "code",
   "execution_count": 22,
   "id": "25fae994",
   "metadata": {},
   "outputs": [
    {
     "data": {
      "text/html": [
       "<div>\n",
       "<style scoped>\n",
       "    .dataframe tbody tr th:only-of-type {\n",
       "        vertical-align: middle;\n",
       "    }\n",
       "\n",
       "    .dataframe tbody tr th {\n",
       "        vertical-align: top;\n",
       "    }\n",
       "\n",
       "    .dataframe thead th {\n",
       "        text-align: right;\n",
       "    }\n",
       "</style>\n",
       "<table border=\"1\" class=\"dataframe\">\n",
       "  <thead>\n",
       "    <tr style=\"text-align: right;\">\n",
       "      <th></th>\n",
       "      <th>venue_0</th>\n",
       "      <th>venue_1</th>\n",
       "      <th>venue_2</th>\n",
       "      <th>venue_3</th>\n",
       "      <th>venue_4</th>\n",
       "      <th>venue_5</th>\n",
       "      <th>venue_6</th>\n",
       "      <th>venue_7</th>\n",
       "      <th>venue_8</th>\n",
       "      <th>venue_9</th>\n",
       "      <th>...</th>\n",
       "      <th>coauthor_2293</th>\n",
       "      <th>coauthor_2294</th>\n",
       "      <th>coauthor_2295</th>\n",
       "      <th>coauthor_2296</th>\n",
       "      <th>coauthor_2297</th>\n",
       "      <th>coauthor_2298</th>\n",
       "      <th>coauthor_2299</th>\n",
       "      <th>coauthor_2300</th>\n",
       "      <th>coauthor_2301</th>\n",
       "      <th>target</th>\n",
       "    </tr>\n",
       "  </thead>\n",
       "  <tbody>\n",
       "    <tr>\n",
       "      <th>0</th>\n",
       "      <td>0</td>\n",
       "      <td>0</td>\n",
       "      <td>0</td>\n",
       "      <td>0</td>\n",
       "      <td>0</td>\n",
       "      <td>0</td>\n",
       "      <td>0</td>\n",
       "      <td>0</td>\n",
       "      <td>0</td>\n",
       "      <td>0</td>\n",
       "      <td>...</td>\n",
       "      <td>0</td>\n",
       "      <td>0</td>\n",
       "      <td>0</td>\n",
       "      <td>0</td>\n",
       "      <td>0</td>\n",
       "      <td>0</td>\n",
       "      <td>0</td>\n",
       "      <td>0</td>\n",
       "      <td>0</td>\n",
       "      <td>1605</td>\n",
       "    </tr>\n",
       "    <tr>\n",
       "      <th>1</th>\n",
       "      <td>0</td>\n",
       "      <td>0</td>\n",
       "      <td>0</td>\n",
       "      <td>0</td>\n",
       "      <td>0</td>\n",
       "      <td>0</td>\n",
       "      <td>0</td>\n",
       "      <td>0</td>\n",
       "      <td>0</td>\n",
       "      <td>0</td>\n",
       "      <td>...</td>\n",
       "      <td>0</td>\n",
       "      <td>0</td>\n",
       "      <td>0</td>\n",
       "      <td>0</td>\n",
       "      <td>0</td>\n",
       "      <td>0</td>\n",
       "      <td>0</td>\n",
       "      <td>0</td>\n",
       "      <td>0</td>\n",
       "      <td>759</td>\n",
       "    </tr>\n",
       "    <tr>\n",
       "      <th>2</th>\n",
       "      <td>1</td>\n",
       "      <td>0</td>\n",
       "      <td>0</td>\n",
       "      <td>0</td>\n",
       "      <td>0</td>\n",
       "      <td>0</td>\n",
       "      <td>0</td>\n",
       "      <td>0</td>\n",
       "      <td>0</td>\n",
       "      <td>0</td>\n",
       "      <td>...</td>\n",
       "      <td>0</td>\n",
       "      <td>0</td>\n",
       "      <td>0</td>\n",
       "      <td>0</td>\n",
       "      <td>0</td>\n",
       "      <td>0</td>\n",
       "      <td>0</td>\n",
       "      <td>0</td>\n",
       "      <td>0</td>\n",
       "      <td>2182</td>\n",
       "    </tr>\n",
       "    <tr>\n",
       "      <th>3</th>\n",
       "      <td>0</td>\n",
       "      <td>1</td>\n",
       "      <td>0</td>\n",
       "      <td>0</td>\n",
       "      <td>0</td>\n",
       "      <td>0</td>\n",
       "      <td>0</td>\n",
       "      <td>0</td>\n",
       "      <td>0</td>\n",
       "      <td>0</td>\n",
       "      <td>...</td>\n",
       "      <td>0</td>\n",
       "      <td>0</td>\n",
       "      <td>0</td>\n",
       "      <td>0</td>\n",
       "      <td>0</td>\n",
       "      <td>0</td>\n",
       "      <td>0</td>\n",
       "      <td>0</td>\n",
       "      <td>0</td>\n",
       "      <td>2176</td>\n",
       "    </tr>\n",
       "    <tr>\n",
       "      <th>4</th>\n",
       "      <td>0</td>\n",
       "      <td>0</td>\n",
       "      <td>1</td>\n",
       "      <td>0</td>\n",
       "      <td>0</td>\n",
       "      <td>0</td>\n",
       "      <td>0</td>\n",
       "      <td>0</td>\n",
       "      <td>0</td>\n",
       "      <td>0</td>\n",
       "      <td>...</td>\n",
       "      <td>0</td>\n",
       "      <td>0</td>\n",
       "      <td>0</td>\n",
       "      <td>0</td>\n",
       "      <td>0</td>\n",
       "      <td>0</td>\n",
       "      <td>0</td>\n",
       "      <td>0</td>\n",
       "      <td>0</td>\n",
       "      <td>1107</td>\n",
       "    </tr>\n",
       "  </tbody>\n",
       "</table>\n",
       "<p>5 rows × 3306 columns</p>\n",
       "</div>"
      ],
      "text/plain": [
       "   venue_0  venue_1  venue_2  venue_3  venue_4  venue_5  venue_6  venue_7  \\\n",
       "0        0        0        0        0        0        0        0        0   \n",
       "1        0        0        0        0        0        0        0        0   \n",
       "2        1        0        0        0        0        0        0        0   \n",
       "3        0        1        0        0        0        0        0        0   \n",
       "4        0        0        1        0        0        0        0        0   \n",
       "\n",
       "   venue_8  venue_9  ...  coauthor_2293  coauthor_2294  coauthor_2295  \\\n",
       "0        0        0  ...              0              0              0   \n",
       "1        0        0  ...              0              0              0   \n",
       "2        0        0  ...              0              0              0   \n",
       "3        0        0  ...              0              0              0   \n",
       "4        0        0  ...              0              0              0   \n",
       "\n",
       "   coauthor_2296  coauthor_2297  coauthor_2298  coauthor_2299  coauthor_2300  \\\n",
       "0              0              0              0              0              0   \n",
       "1              0              0              0              0              0   \n",
       "2              0              0              0              0              0   \n",
       "3              0              0              0              0              0   \n",
       "4              0              0              0              0              0   \n",
       "\n",
       "   coauthor_2301  target  \n",
       "0              0    1605  \n",
       "1              0     759  \n",
       "2              0    2182  \n",
       "3              0    2176  \n",
       "4              0    1107  \n",
       "\n",
       "[5 rows x 3306 columns]"
      ]
     },
     "execution_count": 22,
     "metadata": {},
     "output_type": "execute_result"
    }
   ],
   "source": [
    "transformed_df_comb.head()"
   ]
  },
  {
   "cell_type": "markdown",
   "id": "6b7d494e",
   "metadata": {},
   "source": [
    "## Train test split"
   ]
  },
  {
   "cell_type": "code",
   "execution_count": 36,
   "id": "28b40316",
   "metadata": {},
   "outputs": [
    {
     "name": "stdout",
     "output_type": "stream",
     "text": [
      "X_train shape: (43200, 3305), y_train shape: (43200,)\n",
      "X_val   shape: (4800, 3305), y_val   shape: (4800,)\n"
     ]
    }
   ],
   "source": [
    "from sklearn.model_selection import train_test_split\n",
    "X_train, X_val,y_train,   y_val = train_test_split(transformed_df_comb.iloc[:,:-1], transformed_df_comb['target'],test_size=0.1, random_state=90051)\n",
    "\n",
    "print(\"X_train shape: {}, y_train shape: {}\".format(X_train.shape, y_train.shape))\n",
    "print(\"X_val   shape: {}, y_val   shape: {}\".format(X_val.shape, y_val.shape))\n",
    "\n",
    "\n"
   ]
  },
  {
   "cell_type": "code",
   "execution_count": 37,
   "id": "8ad0b32b",
   "metadata": {},
   "outputs": [
    {
     "name": "stdout",
     "output_type": "stream",
     "text": [
      "X_val_comb shape:  (9600, 3305)\n",
      "y_val_comb shape:  (19200,)\n"
     ]
    }
   ],
   "source": [
    "X_val_pos = X_val\n",
    "X_val_neg = X_val\n",
    "y_val_pos = y_val\n",
    "y_val_neg = pd.Series(np.random.choice([i for i in range(2302)], 14400))\n",
    "X_val_comb = pd.concat([X_val_pos, X_val_neg],axis = 0)\n",
    "y_val_comb = y_val_pos.append(y_val_neg, ignore_index=True)\n",
    "\n",
    "true_label = [1 for i in range(X_val_pos.shape[0])]+[0 for i in range(X_val_pos.shape[0])]\n",
    "print(\"X_val_comb shape: \", X_val_comb.shape)\n",
    "print(\"y_val_comb shape: \", y_val_comb.shape)"
   ]
  },
  {
   "cell_type": "code",
   "execution_count": 38,
   "id": "9cf0d9b7",
   "metadata": {},
   "outputs": [],
   "source": [
    "from sklearn.metrics import roc_auc_score"
   ]
  },
  {
   "cell_type": "code",
   "execution_count": 39,
   "id": "6908229c",
   "metadata": {},
   "outputs": [],
   "source": [
    "from sklearn.multiclass import OneVsRestClassifier\n",
    "from sklearn.linear_model import LogisticRegression"
   ]
  },
  {
   "cell_type": "code",
   "execution_count": 40,
   "id": "6f4e53fe",
   "metadata": {},
   "outputs": [
    {
     "name": "stderr",
     "output_type": "stream",
     "text": [
      "[Parallel(n_jobs=1)]: Using backend SequentialBackend with 1 concurrent workers.\n"
     ]
    },
    {
     "name": "stdout",
     "output_type": "stream",
     "text": [
      "RUNNING THE L-BFGS-B CODE\n",
      "\n",
      "           * * *\n",
      "\n",
      "Machine precision = 2.220D-16\n",
      " N =      7610412     M =           10\n",
      "\n",
      "At X0         0 variables are exactly at the bounds\n"
     ]
    },
    {
     "name": "stderr",
     "output_type": "stream",
     "text": [
      " This problem is unconstrained.\n"
     ]
    },
    {
     "name": "stdout",
     "output_type": "stream",
     "text": [
      "\n",
      "At iterate    0    f=  3.34434D+05    |proj g|=  1.53234D+02\n",
      "\n",
      "At iterate   50    f=  7.44686D+04    |proj g|=  1.06652D+01\n",
      "\n",
      "At iterate  100    f=  7.42572D+04    |proj g|=  3.19756D+00\n",
      "\n",
      "           * * *\n",
      "\n",
      "Tit   = total number of iterations\n",
      "Tnf   = total number of function evaluations\n",
      "Tnint = total number of segments explored during Cauchy searches\n",
      "Skip  = number of BFGS updates skipped\n",
      "Nact  = number of active bounds at final generalized Cauchy point\n",
      "Projg = norm of the final projected gradient\n",
      "F     = final function value\n",
      "\n",
      "           * * *\n",
      "\n",
      "   N    Tit     Tnf  Tnint  Skip  Nact     Projg        F\n",
      "*****    100    103      1     0     0   3.198D+00   7.426D+04\n",
      "  F =   74257.196283446276     \n",
      "\n",
      "STOP: TOTAL NO. of ITERATIONS REACHED LIMIT                 \n",
      "CPU times: user 1h 3min 51s, sys: 4min 7s, total: 1h 7min 58s\n",
      "Wall time: 23min 38s\n"
     ]
    },
    {
     "name": "stderr",
     "output_type": "stream",
     "text": [
      "[Parallel(n_jobs=1)]: Done   1 out of   1 | elapsed: 23.6min finished\n"
     ]
    },
    {
     "data": {
      "text/plain": [
       "LogisticRegression(C=1, multi_class='multinomial', verbose=True)"
      ]
     },
     "execution_count": 40,
     "metadata": {},
     "output_type": "execute_result"
    }
   ],
   "source": [
    "%%time\n",
    "\n",
    "clf_LR_1 = LogisticRegression(multi_class=\"multinomial\", C=1, verbose=True)\n",
    "clf_LR_1.fit(X_train, y_train)"
   ]
  },
  {
   "cell_type": "code",
   "execution_count": 48,
   "id": "91000d35",
   "metadata": {},
   "outputs": [
    {
     "data": {
      "text/plain": [
       "0.9539177083333333"
      ]
     },
     "execution_count": 48,
     "metadata": {},
     "output_type": "execute_result"
    }
   ],
   "source": [
    "pred_LR_1 = clf_LR_1.predict_proba(X_val_comb)\n",
    "res_1 = []\n",
    "for i in range(len(pred_LR_1)):\n",
    "    res_1.append(pred_LR_1[i][y_val_comb[i]])\n",
    "\n",
    "\n",
    "roc_auc_score(true_label, res_1)  # 0.9539177083333333"
   ]
  },
  {
   "cell_type": "markdown",
   "id": "18a73497",
   "metadata": {},
   "source": [
    "## Read the data"
   ]
  },
  {
   "cell_type": "code",
   "execution_count": 49,
   "id": "a3a969fb",
   "metadata": {},
   "outputs": [
    {
     "data": {
      "text/html": [
       "<div>\n",
       "<style scoped>\n",
       "    .dataframe tbody tr th:only-of-type {\n",
       "        vertical-align: middle;\n",
       "    }\n",
       "\n",
       "    .dataframe tbody tr th {\n",
       "        vertical-align: top;\n",
       "    }\n",
       "\n",
       "    .dataframe thead th {\n",
       "        text-align: right;\n",
       "    }\n",
       "</style>\n",
       "<table border=\"1\" class=\"dataframe\">\n",
       "  <thead>\n",
       "    <tr style=\"text-align: right;\">\n",
       "      <th></th>\n",
       "      <th>venue</th>\n",
       "      <th>keywords</th>\n",
       "      <th>year</th>\n",
       "      <th>coauthor</th>\n",
       "      <th>target</th>\n",
       "    </tr>\n",
       "  </thead>\n",
       "  <tbody>\n",
       "    <tr>\n",
       "      <th>0</th>\n",
       "      <td></td>\n",
       "      <td>[260, 6, 390, 136, 7, 11, 17, 285, 288, 162, 4...</td>\n",
       "      <td>2017</td>\n",
       "      <td>[]</td>\n",
       "      <td>988</td>\n",
       "    </tr>\n",
       "    <tr>\n",
       "      <th>1</th>\n",
       "      <td>94</td>\n",
       "      <td>[260, 454, 137, 14, 400, 274, 339, 213, 280, 2...</td>\n",
       "      <td>2019</td>\n",
       "      <td>[1001]</td>\n",
       "      <td>2123</td>\n",
       "    </tr>\n",
       "    <tr>\n",
       "      <th>2</th>\n",
       "      <td>31</td>\n",
       "      <td>[390, 198, 7, 461, 462, 14, 404, 277, 24, 473,...</td>\n",
       "      <td>2014</td>\n",
       "      <td>[]</td>\n",
       "      <td>1578</td>\n",
       "    </tr>\n",
       "    <tr>\n",
       "      <th>3</th>\n",
       "      <td>6</td>\n",
       "      <td>[195, 6, 390, 10, 459, 464, 338, 146, 276, 466...</td>\n",
       "      <td>2010</td>\n",
       "      <td>[1347]</td>\n",
       "      <td>2072</td>\n",
       "    </tr>\n",
       "    <tr>\n",
       "      <th>4</th>\n",
       "      <td>162</td>\n",
       "      <td>[64, 1, 260, 457, 73, 147, 282, 27, 156, 43, 3...</td>\n",
       "      <td>2016</td>\n",
       "      <td>[1107]</td>\n",
       "      <td>995</td>\n",
       "    </tr>\n",
       "  </tbody>\n",
       "</table>\n",
       "</div>"
      ],
      "text/plain": [
       "  venue                                           keywords  year coauthor  \\\n",
       "0        [260, 6, 390, 136, 7, 11, 17, 285, 288, 162, 4...  2017       []   \n",
       "1    94  [260, 454, 137, 14, 400, 274, 339, 213, 280, 2...  2019   [1001]   \n",
       "2    31  [390, 198, 7, 461, 462, 14, 404, 277, 24, 473,...  2014       []   \n",
       "3     6  [195, 6, 390, 10, 459, 464, 338, 146, 276, 466...  2010   [1347]   \n",
       "4   162  [64, 1, 260, 457, 73, 147, 282, 27, 156, 43, 3...  2016   [1107]   \n",
       "\n",
       "  target  \n",
       "0    988  \n",
       "1   2123  \n",
       "2   1578  \n",
       "3   2072  \n",
       "4    995  "
      ]
     },
     "execution_count": 49,
     "metadata": {},
     "output_type": "execute_result"
    }
   ],
   "source": [
    "test_df = read_json('comp90051-22-s1-p1/test.json')\n",
    "test_df.head(5)"
   ]
  },
  {
   "cell_type": "code",
   "execution_count": 50,
   "id": "58e3d181",
   "metadata": {},
   "outputs": [],
   "source": [
    "test_df.loc[test_df['venue']=='',['venue']]=470\n",
    "venue_transformed_test = get_onehot_col(test_df['venue'], 471, \"venue\")\n",
    "\n",
    "keywords_transformed_test = get_onehot_col(test_df['keywords'], 500, \"keywords\")\n",
    "\n",
    "test_df['year'] = test_df['year']-2000\n",
    "year_transformed_test = get_onehot_col(test_df['year'], 20, \"year\")\n",
    "\n",
    "coauthor_transformed_test = get_onehot_col(test_df['coauthor'], 2302, \"coauthor\")\n",
    "\n",
    "target_transformed_test = get_onehot_col(test_df['target'], 2302, \"target\")\n",
    "\n",
    "\n",
    "\n",
    "\n"
   ]
  },
  {
   "cell_type": "code",
   "execution_count": 51,
   "id": "7f006ebb",
   "metadata": {},
   "outputs": [],
   "source": [
    "keywords_tran_test = []\n",
    "for row in test_df['keywords']:\n",
    "    keywords_tran_test.append(convert_to_emb(row, model_kws ))\n",
    "\n",
    "keywords_cols = [\"keyword_\"+str(i) for i in range(VECTOR_SIZE_KEYWORDS)]\n",
    "keywords_transformed_test_node2vec = pd.DataFrame(keywords_tran_test, columns=keywords_cols)"
   ]
  },
  {
   "cell_type": "code",
   "execution_count": 52,
   "id": "d8374db0",
   "metadata": {},
   "outputs": [],
   "source": [
    "# transformed_df_comb_test = pd.concat([venue_transformed_test,keywords_transformed_test,keywords_transformed_test_tfidf,year_transformed_test,test_df['year'].reset_index(drop=True),coauthor_transformed_test],axis=1)\n",
    "\n",
    "transformed_df_comb_test = pd.concat([venue_transformed_test,keywords_transformed_test, keywords_transformed_test_node2vec,year_transformed_test,coauthor_transformed_test],axis=1)\n",
    "target = test_df['target']"
   ]
  },
  {
   "cell_type": "code",
   "execution_count": 53,
   "id": "8c4a3d8d",
   "metadata": {},
   "outputs": [],
   "source": [
    "pred_LR_test = clf_LR_1.predict_proba(transformed_df_comb_test)\n",
    "res_test = []\n",
    "for i in range(len(pred_LR_test)):\n",
    "    res_test.append(pred_LR_test[i][target[i]])\n",
    "\n"
   ]
  },
  {
   "cell_type": "code",
   "execution_count": 54,
   "id": "48348593",
   "metadata": {},
   "outputs": [],
   "source": [
    "sample_df = pd.read_csv('comp90051-22-s1-p1/sample.csv',index_col=0)\n",
    "sample_df['Predicted'] = res_test\n",
    "sample_df.to_csv('predicted_LR_node2vec_w_onehot.csv')"
   ]
  }
 ],
 "metadata": {
  "kernelspec": {
   "display_name": "Python 3 (ipykernel)",
   "language": "python",
   "name": "python3"
  },
  "language_info": {
   "codemirror_mode": {
    "name": "ipython",
    "version": 3
   },
   "file_extension": ".py",
   "mimetype": "text/x-python",
   "name": "python",
   "nbconvert_exporter": "python",
   "pygments_lexer": "ipython3",
   "version": "3.8.5"
  }
 },
 "nbformat": 4,
 "nbformat_minor": 5
}

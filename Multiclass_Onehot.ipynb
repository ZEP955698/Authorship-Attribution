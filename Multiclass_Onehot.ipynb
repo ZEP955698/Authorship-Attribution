{
 "cells": [
  {
   "cell_type": "markdown",
   "id": "e99aabf5",
   "metadata": {},
   "source": [
    "# Project 1: Document author identification"
   ]
  },
  {
   "cell_type": "code",
   "execution_count": 1,
   "id": "bb0cecb7",
   "metadata": {},
   "outputs": [],
   "source": [
    "# import warnings\n",
    "# warnings.filterwarnings('ignore')"
   ]
  },
  {
   "cell_type": "code",
   "execution_count": 2,
   "id": "d58b093f",
   "metadata": {},
   "outputs": [],
   "source": [
    "import numpy as np\n",
    "import pandas as pd"
   ]
  },
  {
   "cell_type": "markdown",
   "id": "704c8957",
   "metadata": {},
   "source": [
    "## 1. Read the file and import data"
   ]
  },
  {
   "cell_type": "code",
   "execution_count": 3,
   "id": "9da8be6d",
   "metadata": {},
   "outputs": [],
   "source": [
    "import json\n",
    "\n",
    "# read json file\n",
    "def read_json(path):\n",
    "    with open(path, 'r') as file:\n",
    "         temp = json.load(file)\n",
    "    df = pd.DataFrame(temp).T\n",
    "    return df"
   ]
  },
  {
   "cell_type": "code",
   "execution_count": 4,
   "id": "b3683731",
   "metadata": {},
   "outputs": [
    {
     "data": {
      "text/html": [
       "<div>\n",
       "<style scoped>\n",
       "    .dataframe tbody tr th:only-of-type {\n",
       "        vertical-align: middle;\n",
       "    }\n",
       "\n",
       "    .dataframe tbody tr th {\n",
       "        vertical-align: top;\n",
       "    }\n",
       "\n",
       "    .dataframe thead th {\n",
       "        text-align: right;\n",
       "    }\n",
       "</style>\n",
       "<table border=\"1\" class=\"dataframe\">\n",
       "  <thead>\n",
       "    <tr style=\"text-align: right;\">\n",
       "      <th></th>\n",
       "      <th>venue</th>\n",
       "      <th>keywords</th>\n",
       "      <th>year</th>\n",
       "      <th>author</th>\n",
       "    </tr>\n",
       "  </thead>\n",
       "  <tbody>\n",
       "    <tr>\n",
       "      <th>0</th>\n",
       "      <td></td>\n",
       "      <td>[64, 1, 322, 134, 136, 396, 270, 144, 476, 481...</td>\n",
       "      <td>2017</td>\n",
       "      <td>[1605, 759]</td>\n",
       "    </tr>\n",
       "    <tr>\n",
       "      <th>1</th>\n",
       "      <td>0</td>\n",
       "      <td>[258, 260, 389, 261, 390, 396, 400, 17, 146, 2...</td>\n",
       "      <td>2013</td>\n",
       "      <td>[2182]</td>\n",
       "    </tr>\n",
       "    <tr>\n",
       "      <th>2</th>\n",
       "      <td>1</td>\n",
       "      <td>[320, 454, 266, 462, 17, 339, 404, 342, 407, 2...</td>\n",
       "      <td>2007</td>\n",
       "      <td>[2176]</td>\n",
       "    </tr>\n",
       "    <tr>\n",
       "      <th>3</th>\n",
       "      <td>2</td>\n",
       "      <td>[260, 132, 333, 15, 400, 272, 146, 401, 278, 3...</td>\n",
       "      <td>2013</td>\n",
       "      <td>[1107]</td>\n",
       "    </tr>\n",
       "    <tr>\n",
       "      <th>4</th>\n",
       "      <td>3</td>\n",
       "      <td>[64, 385, 449, 450, 71, 73, 268, 80, 216, 25, ...</td>\n",
       "      <td>2009</td>\n",
       "      <td>[1414]</td>\n",
       "    </tr>\n",
       "  </tbody>\n",
       "</table>\n",
       "</div>"
      ],
      "text/plain": [
       "  venue                                           keywords  year       author\n",
       "0        [64, 1, 322, 134, 136, 396, 270, 144, 476, 481...  2017  [1605, 759]\n",
       "1     0  [258, 260, 389, 261, 390, 396, 400, 17, 146, 2...  2013       [2182]\n",
       "2     1  [320, 454, 266, 462, 17, 339, 404, 342, 407, 2...  2007       [2176]\n",
       "3     2  [260, 132, 333, 15, 400, 272, 146, 401, 278, 3...  2013       [1107]\n",
       "4     3  [64, 385, 449, 450, 71, 73, 268, 80, 216, 25, ...  2009       [1414]"
      ]
     },
     "execution_count": 4,
     "metadata": {},
     "output_type": "execute_result"
    }
   ],
   "source": [
    "train_df = read_json('comp90051-22-s1-p1/train.json')\n",
    "train_df.head(5)"
   ]
  },
  {
   "cell_type": "code",
   "execution_count": 5,
   "id": "6f21dd37",
   "metadata": {},
   "outputs": [
    {
     "data": {
      "text/html": [
       "<div>\n",
       "<style scoped>\n",
       "    .dataframe tbody tr th:only-of-type {\n",
       "        vertical-align: middle;\n",
       "    }\n",
       "\n",
       "    .dataframe tbody tr th {\n",
       "        vertical-align: top;\n",
       "    }\n",
       "\n",
       "    .dataframe thead th {\n",
       "        text-align: right;\n",
       "    }\n",
       "</style>\n",
       "<table border=\"1\" class=\"dataframe\">\n",
       "  <thead>\n",
       "    <tr style=\"text-align: right;\">\n",
       "      <th></th>\n",
       "      <th>venue</th>\n",
       "      <th>keywords</th>\n",
       "      <th>year</th>\n",
       "      <th>coauthor</th>\n",
       "      <th>target</th>\n",
       "    </tr>\n",
       "  </thead>\n",
       "  <tbody>\n",
       "    <tr>\n",
       "      <th>0</th>\n",
       "      <td></td>\n",
       "      <td>[260, 6, 390, 136, 7, 11, 17, 285, 288, 162, 4...</td>\n",
       "      <td>2017</td>\n",
       "      <td>[]</td>\n",
       "      <td>988</td>\n",
       "    </tr>\n",
       "    <tr>\n",
       "      <th>1</th>\n",
       "      <td>94</td>\n",
       "      <td>[260, 454, 137, 14, 400, 274, 339, 213, 280, 2...</td>\n",
       "      <td>2019</td>\n",
       "      <td>[1001]</td>\n",
       "      <td>2123</td>\n",
       "    </tr>\n",
       "    <tr>\n",
       "      <th>2</th>\n",
       "      <td>31</td>\n",
       "      <td>[390, 198, 7, 461, 462, 14, 404, 277, 24, 473,...</td>\n",
       "      <td>2014</td>\n",
       "      <td>[]</td>\n",
       "      <td>1578</td>\n",
       "    </tr>\n",
       "    <tr>\n",
       "      <th>3</th>\n",
       "      <td>6</td>\n",
       "      <td>[195, 6, 390, 10, 459, 464, 338, 146, 276, 466...</td>\n",
       "      <td>2010</td>\n",
       "      <td>[1347]</td>\n",
       "      <td>2072</td>\n",
       "    </tr>\n",
       "    <tr>\n",
       "      <th>4</th>\n",
       "      <td>162</td>\n",
       "      <td>[64, 1, 260, 457, 73, 147, 282, 27, 156, 43, 3...</td>\n",
       "      <td>2016</td>\n",
       "      <td>[1107]</td>\n",
       "      <td>995</td>\n",
       "    </tr>\n",
       "  </tbody>\n",
       "</table>\n",
       "</div>"
      ],
      "text/plain": [
       "  venue                                           keywords  year coauthor  \\\n",
       "0        [260, 6, 390, 136, 7, 11, 17, 285, 288, 162, 4...  2017       []   \n",
       "1    94  [260, 454, 137, 14, 400, 274, 339, 213, 280, 2...  2019   [1001]   \n",
       "2    31  [390, 198, 7, 461, 462, 14, 404, 277, 24, 473,...  2014       []   \n",
       "3     6  [195, 6, 390, 10, 459, 464, 338, 146, 276, 466...  2010   [1347]   \n",
       "4   162  [64, 1, 260, 457, 73, 147, 282, 27, 156, 43, 3...  2016   [1107]   \n",
       "\n",
       "  target  \n",
       "0    988  \n",
       "1   2123  \n",
       "2   1578  \n",
       "3   2072  \n",
       "4    995  "
      ]
     },
     "execution_count": 5,
     "metadata": {},
     "output_type": "execute_result"
    }
   ],
   "source": [
    "test_df = read_json('comp90051-22-s1-p1/test.json')\n",
    "test_df.head(5)"
   ]
  },
  {
   "cell_type": "code",
   "execution_count": 6,
   "id": "b3ee5b94",
   "metadata": {},
   "outputs": [
    {
     "name": "stdout",
     "output_type": "stream",
     "text": [
      "shape of train_df    = (26108, 4)\n",
      "shape of test_df     = (2000, 5)\n"
     ]
    }
   ],
   "source": [
    "# print dimension for each dataframe\n",
    "print(f\"shape of train_df    = {train_df.shape}\")\n",
    "print(f\"shape of test_df     = {test_df.shape}\")"
   ]
  },
  {
   "cell_type": "markdown",
   "id": "9d631078",
   "metadata": {},
   "source": [
    "## 2. Create Label"
   ]
  },
  {
   "cell_type": "code",
   "execution_count": 7,
   "id": "2800e9c1",
   "metadata": {},
   "outputs": [],
   "source": [
    "def get_transformed_df(df):\n",
    "    aus = df['author']\n",
    "    transformed_lst = []\n",
    "    for i in range(df.shape[0]):\n",
    "        for j in aus[i]:\n",
    "            temp = list(df.values[i][:-1])\n",
    "            temp.append([au for au in aus[i] if au!=j])\n",
    "            temp.append(j)\n",
    "            transformed_lst.append(temp)\n",
    "    cols = list(df.columns[:-1])\n",
    "    cols.append('coauthor')\n",
    "    cols.append('target')\n",
    "    return pd.DataFrame(transformed_lst,columns=cols)"
   ]
  },
  {
   "cell_type": "code",
   "execution_count": 8,
   "id": "a695d068",
   "metadata": {},
   "outputs": [],
   "source": [
    "transformed_df = get_transformed_df(train_df)"
   ]
  },
  {
   "cell_type": "code",
   "execution_count": 9,
   "id": "e3749171",
   "metadata": {},
   "outputs": [
    {
     "data": {
      "text/html": [
       "<div>\n",
       "<style scoped>\n",
       "    .dataframe tbody tr th:only-of-type {\n",
       "        vertical-align: middle;\n",
       "    }\n",
       "\n",
       "    .dataframe tbody tr th {\n",
       "        vertical-align: top;\n",
       "    }\n",
       "\n",
       "    .dataframe thead th {\n",
       "        text-align: right;\n",
       "    }\n",
       "</style>\n",
       "<table border=\"1\" class=\"dataframe\">\n",
       "  <thead>\n",
       "    <tr style=\"text-align: right;\">\n",
       "      <th></th>\n",
       "      <th>venue</th>\n",
       "      <th>keywords</th>\n",
       "      <th>year</th>\n",
       "      <th>coauthor</th>\n",
       "      <th>target</th>\n",
       "    </tr>\n",
       "  </thead>\n",
       "  <tbody>\n",
       "    <tr>\n",
       "      <th>0</th>\n",
       "      <td></td>\n",
       "      <td>[64, 1, 322, 134, 136, 396, 270, 144, 476, 481...</td>\n",
       "      <td>2017</td>\n",
       "      <td>[759]</td>\n",
       "      <td>1605</td>\n",
       "    </tr>\n",
       "    <tr>\n",
       "      <th>1</th>\n",
       "      <td></td>\n",
       "      <td>[64, 1, 322, 134, 136, 396, 270, 144, 476, 481...</td>\n",
       "      <td>2017</td>\n",
       "      <td>[1605]</td>\n",
       "      <td>759</td>\n",
       "    </tr>\n",
       "    <tr>\n",
       "      <th>2</th>\n",
       "      <td>0</td>\n",
       "      <td>[258, 260, 389, 261, 390, 396, 400, 17, 146, 2...</td>\n",
       "      <td>2013</td>\n",
       "      <td>[]</td>\n",
       "      <td>2182</td>\n",
       "    </tr>\n",
       "    <tr>\n",
       "      <th>3</th>\n",
       "      <td>1</td>\n",
       "      <td>[320, 454, 266, 462, 17, 339, 404, 342, 407, 2...</td>\n",
       "      <td>2007</td>\n",
       "      <td>[]</td>\n",
       "      <td>2176</td>\n",
       "    </tr>\n",
       "    <tr>\n",
       "      <th>4</th>\n",
       "      <td>2</td>\n",
       "      <td>[260, 132, 333, 15, 400, 272, 146, 401, 278, 3...</td>\n",
       "      <td>2013</td>\n",
       "      <td>[]</td>\n",
       "      <td>1107</td>\n",
       "    </tr>\n",
       "  </tbody>\n",
       "</table>\n",
       "</div>"
      ],
      "text/plain": [
       "  venue                                           keywords  year coauthor  \\\n",
       "0        [64, 1, 322, 134, 136, 396, 270, 144, 476, 481...  2017    [759]   \n",
       "1        [64, 1, 322, 134, 136, 396, 270, 144, 476, 481...  2017   [1605]   \n",
       "2     0  [258, 260, 389, 261, 390, 396, 400, 17, 146, 2...  2013       []   \n",
       "3     1  [320, 454, 266, 462, 17, 339, 404, 342, 407, 2...  2007       []   \n",
       "4     2  [260, 132, 333, 15, 400, 272, 146, 401, 278, 3...  2013       []   \n",
       "\n",
       "   target  \n",
       "0    1605  \n",
       "1     759  \n",
       "2    2182  \n",
       "3    2176  \n",
       "4    1107  "
      ]
     },
     "execution_count": 9,
     "metadata": {},
     "output_type": "execute_result"
    }
   ],
   "source": [
    "transformed_df.head()"
   ]
  },
  {
   "cell_type": "code",
   "execution_count": null,
   "id": "5f7d7aad",
   "metadata": {},
   "outputs": [],
   "source": []
  },
  {
   "cell_type": "markdown",
   "id": "9a7934c3",
   "metadata": {},
   "source": [
    "## 3. One hot "
   ]
  },
  {
   "cell_type": "code",
   "execution_count": 10,
   "id": "758d316d",
   "metadata": {},
   "outputs": [],
   "source": [
    "import torch\n",
    "def get_onehot_col(col, size, col_prefix):\n",
    "    transformed_col = []\n",
    "    for i in col:\n",
    "        transformed_col.append(torch.zeros(size, dtype=torch.int).scatter_(0, torch.tensor(i), value=1).tolist())\n",
    "    col_names = [col_prefix+'_'+str(i) for i in range(size)]\n",
    "    return pd.DataFrame(transformed_col, columns=col_names)"
   ]
  },
  {
   "cell_type": "code",
   "execution_count": 11,
   "id": "8622253d",
   "metadata": {},
   "outputs": [],
   "source": [
    "transformed_df.loc[transformed_df['venue']=='',['venue']]=470\n",
    "venue_transformed = get_onehot_col(transformed_df['venue'], 471, \"venue\")\n",
    "\n",
    "keywords_transformed = get_onehot_col(transformed_df['keywords'], 500, \"keywords\")\n",
    "\n",
    "transformed_df['year'] = transformed_df['year']-2000\n",
    "year_transformed = get_onehot_col(transformed_df['year'], 20, \"year\")\n",
    "\n",
    "coauthor_transformed = get_onehot_col(transformed_df['coauthor'], 2302, \"coauthor\")\n",
    "\n",
    "target_transformed = get_onehot_col(transformed_df['target'], 2302, \"target\")\n",
    "\n",
    "\n"
   ]
  },
  {
   "cell_type": "code",
   "execution_count": 12,
   "id": "ff690ec8",
   "metadata": {},
   "outputs": [
    {
     "data": {
      "text/html": [
       "<div>\n",
       "<style scoped>\n",
       "    .dataframe tbody tr th:only-of-type {\n",
       "        vertical-align: middle;\n",
       "    }\n",
       "\n",
       "    .dataframe tbody tr th {\n",
       "        vertical-align: top;\n",
       "    }\n",
       "\n",
       "    .dataframe thead th {\n",
       "        text-align: right;\n",
       "    }\n",
       "</style>\n",
       "<table border=\"1\" class=\"dataframe\">\n",
       "  <thead>\n",
       "    <tr style=\"text-align: right;\">\n",
       "      <th></th>\n",
       "      <th>year_0</th>\n",
       "      <th>year_1</th>\n",
       "      <th>year_2</th>\n",
       "      <th>year_3</th>\n",
       "      <th>year_4</th>\n",
       "      <th>year_5</th>\n",
       "      <th>year_6</th>\n",
       "      <th>year_7</th>\n",
       "      <th>year_8</th>\n",
       "      <th>year_9</th>\n",
       "      <th>year_10</th>\n",
       "      <th>year_11</th>\n",
       "      <th>year_12</th>\n",
       "      <th>year_13</th>\n",
       "      <th>year_14</th>\n",
       "      <th>year_15</th>\n",
       "      <th>year_16</th>\n",
       "      <th>year_17</th>\n",
       "      <th>year_18</th>\n",
       "      <th>year_19</th>\n",
       "    </tr>\n",
       "  </thead>\n",
       "  <tbody>\n",
       "    <tr>\n",
       "      <th>0</th>\n",
       "      <td>0</td>\n",
       "      <td>0</td>\n",
       "      <td>0</td>\n",
       "      <td>0</td>\n",
       "      <td>0</td>\n",
       "      <td>0</td>\n",
       "      <td>0</td>\n",
       "      <td>0</td>\n",
       "      <td>0</td>\n",
       "      <td>0</td>\n",
       "      <td>0</td>\n",
       "      <td>0</td>\n",
       "      <td>0</td>\n",
       "      <td>0</td>\n",
       "      <td>0</td>\n",
       "      <td>0</td>\n",
       "      <td>0</td>\n",
       "      <td>1</td>\n",
       "      <td>0</td>\n",
       "      <td>0</td>\n",
       "    </tr>\n",
       "    <tr>\n",
       "      <th>1</th>\n",
       "      <td>0</td>\n",
       "      <td>0</td>\n",
       "      <td>0</td>\n",
       "      <td>0</td>\n",
       "      <td>0</td>\n",
       "      <td>0</td>\n",
       "      <td>0</td>\n",
       "      <td>0</td>\n",
       "      <td>0</td>\n",
       "      <td>0</td>\n",
       "      <td>0</td>\n",
       "      <td>0</td>\n",
       "      <td>0</td>\n",
       "      <td>0</td>\n",
       "      <td>0</td>\n",
       "      <td>0</td>\n",
       "      <td>0</td>\n",
       "      <td>1</td>\n",
       "      <td>0</td>\n",
       "      <td>0</td>\n",
       "    </tr>\n",
       "    <tr>\n",
       "      <th>2</th>\n",
       "      <td>0</td>\n",
       "      <td>0</td>\n",
       "      <td>0</td>\n",
       "      <td>0</td>\n",
       "      <td>0</td>\n",
       "      <td>0</td>\n",
       "      <td>0</td>\n",
       "      <td>0</td>\n",
       "      <td>0</td>\n",
       "      <td>0</td>\n",
       "      <td>0</td>\n",
       "      <td>0</td>\n",
       "      <td>0</td>\n",
       "      <td>1</td>\n",
       "      <td>0</td>\n",
       "      <td>0</td>\n",
       "      <td>0</td>\n",
       "      <td>0</td>\n",
       "      <td>0</td>\n",
       "      <td>0</td>\n",
       "    </tr>\n",
       "    <tr>\n",
       "      <th>3</th>\n",
       "      <td>0</td>\n",
       "      <td>0</td>\n",
       "      <td>0</td>\n",
       "      <td>0</td>\n",
       "      <td>0</td>\n",
       "      <td>0</td>\n",
       "      <td>0</td>\n",
       "      <td>1</td>\n",
       "      <td>0</td>\n",
       "      <td>0</td>\n",
       "      <td>0</td>\n",
       "      <td>0</td>\n",
       "      <td>0</td>\n",
       "      <td>0</td>\n",
       "      <td>0</td>\n",
       "      <td>0</td>\n",
       "      <td>0</td>\n",
       "      <td>0</td>\n",
       "      <td>0</td>\n",
       "      <td>0</td>\n",
       "    </tr>\n",
       "    <tr>\n",
       "      <th>4</th>\n",
       "      <td>0</td>\n",
       "      <td>0</td>\n",
       "      <td>0</td>\n",
       "      <td>0</td>\n",
       "      <td>0</td>\n",
       "      <td>0</td>\n",
       "      <td>0</td>\n",
       "      <td>0</td>\n",
       "      <td>0</td>\n",
       "      <td>0</td>\n",
       "      <td>0</td>\n",
       "      <td>0</td>\n",
       "      <td>0</td>\n",
       "      <td>1</td>\n",
       "      <td>0</td>\n",
       "      <td>0</td>\n",
       "      <td>0</td>\n",
       "      <td>0</td>\n",
       "      <td>0</td>\n",
       "      <td>0</td>\n",
       "    </tr>\n",
       "  </tbody>\n",
       "</table>\n",
       "</div>"
      ],
      "text/plain": [
       "   year_0  year_1  year_2  year_3  year_4  year_5  year_6  year_7  year_8  \\\n",
       "0       0       0       0       0       0       0       0       0       0   \n",
       "1       0       0       0       0       0       0       0       0       0   \n",
       "2       0       0       0       0       0       0       0       0       0   \n",
       "3       0       0       0       0       0       0       0       1       0   \n",
       "4       0       0       0       0       0       0       0       0       0   \n",
       "\n",
       "   year_9  year_10  year_11  year_12  year_13  year_14  year_15  year_16  \\\n",
       "0       0        0        0        0        0        0        0        0   \n",
       "1       0        0        0        0        0        0        0        0   \n",
       "2       0        0        0        0        1        0        0        0   \n",
       "3       0        0        0        0        0        0        0        0   \n",
       "4       0        0        0        0        1        0        0        0   \n",
       "\n",
       "   year_17  year_18  year_19  \n",
       "0        1        0        0  \n",
       "1        1        0        0  \n",
       "2        0        0        0  \n",
       "3        0        0        0  \n",
       "4        0        0        0  "
      ]
     },
     "execution_count": 12,
     "metadata": {},
     "output_type": "execute_result"
    }
   ],
   "source": [
    "year_transformed.head()"
   ]
  },
  {
   "cell_type": "code",
   "execution_count": 13,
   "id": "c8f297a0",
   "metadata": {},
   "outputs": [],
   "source": [
    "transformed_df_comb = pd.concat([venue_transformed,keywords_transformed,year_transformed,coauthor_transformed],axis=1)"
   ]
  },
  {
   "cell_type": "code",
   "execution_count": 14,
   "id": "a85add93",
   "metadata": {},
   "outputs": [],
   "source": [
    "transformed_df_comb['target'] = transformed_df['target'].values"
   ]
  },
  {
   "cell_type": "code",
   "execution_count": 15,
   "id": "1a7b1480",
   "metadata": {},
   "outputs": [
    {
     "data": {
      "text/html": [
       "<div>\n",
       "<style scoped>\n",
       "    .dataframe tbody tr th:only-of-type {\n",
       "        vertical-align: middle;\n",
       "    }\n",
       "\n",
       "    .dataframe tbody tr th {\n",
       "        vertical-align: top;\n",
       "    }\n",
       "\n",
       "    .dataframe thead th {\n",
       "        text-align: right;\n",
       "    }\n",
       "</style>\n",
       "<table border=\"1\" class=\"dataframe\">\n",
       "  <thead>\n",
       "    <tr style=\"text-align: right;\">\n",
       "      <th></th>\n",
       "      <th>venue_0</th>\n",
       "      <th>venue_1</th>\n",
       "      <th>venue_2</th>\n",
       "      <th>venue_3</th>\n",
       "      <th>venue_4</th>\n",
       "      <th>venue_5</th>\n",
       "      <th>venue_6</th>\n",
       "      <th>venue_7</th>\n",
       "      <th>venue_8</th>\n",
       "      <th>venue_9</th>\n",
       "      <th>...</th>\n",
       "      <th>coauthor_2293</th>\n",
       "      <th>coauthor_2294</th>\n",
       "      <th>coauthor_2295</th>\n",
       "      <th>coauthor_2296</th>\n",
       "      <th>coauthor_2297</th>\n",
       "      <th>coauthor_2298</th>\n",
       "      <th>coauthor_2299</th>\n",
       "      <th>coauthor_2300</th>\n",
       "      <th>coauthor_2301</th>\n",
       "      <th>target</th>\n",
       "    </tr>\n",
       "  </thead>\n",
       "  <tbody>\n",
       "    <tr>\n",
       "      <th>0</th>\n",
       "      <td>0</td>\n",
       "      <td>0</td>\n",
       "      <td>0</td>\n",
       "      <td>0</td>\n",
       "      <td>0</td>\n",
       "      <td>0</td>\n",
       "      <td>0</td>\n",
       "      <td>0</td>\n",
       "      <td>0</td>\n",
       "      <td>0</td>\n",
       "      <td>...</td>\n",
       "      <td>0</td>\n",
       "      <td>0</td>\n",
       "      <td>0</td>\n",
       "      <td>0</td>\n",
       "      <td>0</td>\n",
       "      <td>0</td>\n",
       "      <td>0</td>\n",
       "      <td>0</td>\n",
       "      <td>0</td>\n",
       "      <td>1605</td>\n",
       "    </tr>\n",
       "    <tr>\n",
       "      <th>1</th>\n",
       "      <td>0</td>\n",
       "      <td>0</td>\n",
       "      <td>0</td>\n",
       "      <td>0</td>\n",
       "      <td>0</td>\n",
       "      <td>0</td>\n",
       "      <td>0</td>\n",
       "      <td>0</td>\n",
       "      <td>0</td>\n",
       "      <td>0</td>\n",
       "      <td>...</td>\n",
       "      <td>0</td>\n",
       "      <td>0</td>\n",
       "      <td>0</td>\n",
       "      <td>0</td>\n",
       "      <td>0</td>\n",
       "      <td>0</td>\n",
       "      <td>0</td>\n",
       "      <td>0</td>\n",
       "      <td>0</td>\n",
       "      <td>759</td>\n",
       "    </tr>\n",
       "    <tr>\n",
       "      <th>2</th>\n",
       "      <td>1</td>\n",
       "      <td>0</td>\n",
       "      <td>0</td>\n",
       "      <td>0</td>\n",
       "      <td>0</td>\n",
       "      <td>0</td>\n",
       "      <td>0</td>\n",
       "      <td>0</td>\n",
       "      <td>0</td>\n",
       "      <td>0</td>\n",
       "      <td>...</td>\n",
       "      <td>0</td>\n",
       "      <td>0</td>\n",
       "      <td>0</td>\n",
       "      <td>0</td>\n",
       "      <td>0</td>\n",
       "      <td>0</td>\n",
       "      <td>0</td>\n",
       "      <td>0</td>\n",
       "      <td>0</td>\n",
       "      <td>2182</td>\n",
       "    </tr>\n",
       "    <tr>\n",
       "      <th>3</th>\n",
       "      <td>0</td>\n",
       "      <td>1</td>\n",
       "      <td>0</td>\n",
       "      <td>0</td>\n",
       "      <td>0</td>\n",
       "      <td>0</td>\n",
       "      <td>0</td>\n",
       "      <td>0</td>\n",
       "      <td>0</td>\n",
       "      <td>0</td>\n",
       "      <td>...</td>\n",
       "      <td>0</td>\n",
       "      <td>0</td>\n",
       "      <td>0</td>\n",
       "      <td>0</td>\n",
       "      <td>0</td>\n",
       "      <td>0</td>\n",
       "      <td>0</td>\n",
       "      <td>0</td>\n",
       "      <td>0</td>\n",
       "      <td>2176</td>\n",
       "    </tr>\n",
       "    <tr>\n",
       "      <th>4</th>\n",
       "      <td>0</td>\n",
       "      <td>0</td>\n",
       "      <td>1</td>\n",
       "      <td>0</td>\n",
       "      <td>0</td>\n",
       "      <td>0</td>\n",
       "      <td>0</td>\n",
       "      <td>0</td>\n",
       "      <td>0</td>\n",
       "      <td>0</td>\n",
       "      <td>...</td>\n",
       "      <td>0</td>\n",
       "      <td>0</td>\n",
       "      <td>0</td>\n",
       "      <td>0</td>\n",
       "      <td>0</td>\n",
       "      <td>0</td>\n",
       "      <td>0</td>\n",
       "      <td>0</td>\n",
       "      <td>0</td>\n",
       "      <td>1107</td>\n",
       "    </tr>\n",
       "  </tbody>\n",
       "</table>\n",
       "<p>5 rows × 3294 columns</p>\n",
       "</div>"
      ],
      "text/plain": [
       "   venue_0  venue_1  venue_2  venue_3  venue_4  venue_5  venue_6  venue_7  \\\n",
       "0        0        0        0        0        0        0        0        0   \n",
       "1        0        0        0        0        0        0        0        0   \n",
       "2        1        0        0        0        0        0        0        0   \n",
       "3        0        1        0        0        0        0        0        0   \n",
       "4        0        0        1        0        0        0        0        0   \n",
       "\n",
       "   venue_8  venue_9  ...  coauthor_2293  coauthor_2294  coauthor_2295  \\\n",
       "0        0        0  ...              0              0              0   \n",
       "1        0        0  ...              0              0              0   \n",
       "2        0        0  ...              0              0              0   \n",
       "3        0        0  ...              0              0              0   \n",
       "4        0        0  ...              0              0              0   \n",
       "\n",
       "   coauthor_2296  coauthor_2297  coauthor_2298  coauthor_2299  coauthor_2300  \\\n",
       "0              0              0              0              0              0   \n",
       "1              0              0              0              0              0   \n",
       "2              0              0              0              0              0   \n",
       "3              0              0              0              0              0   \n",
       "4              0              0              0              0              0   \n",
       "\n",
       "   coauthor_2301  target  \n",
       "0              0    1605  \n",
       "1              0     759  \n",
       "2              0    2182  \n",
       "3              0    2176  \n",
       "4              0    1107  \n",
       "\n",
       "[5 rows x 3294 columns]"
      ]
     },
     "execution_count": 15,
     "metadata": {},
     "output_type": "execute_result"
    }
   ],
   "source": [
    "transformed_df_comb.head()"
   ]
  },
  {
   "cell_type": "markdown",
   "id": "6179eb1b",
   "metadata": {},
   "source": [
    "## 2. Train test split"
   ]
  },
  {
   "cell_type": "code",
   "execution_count": 31,
   "id": "8a2ab434",
   "metadata": {},
   "outputs": [
    {
     "data": {
      "text/plain": [
       "(48000, 3294)"
      ]
     },
     "execution_count": 31,
     "metadata": {},
     "output_type": "execute_result"
    }
   ],
   "source": [
    "transformed_df_comb.shape"
   ]
  },
  {
   "cell_type": "code",
   "execution_count": 16,
   "id": "22ff164d",
   "metadata": {},
   "outputs": [
    {
     "name": "stdout",
     "output_type": "stream",
     "text": [
      "X_train shape: (38400, 3293), y_train shape: (38400,)\n",
      "X_val   shape: (9600, 3293), y_val   shape: (9600,)\n"
     ]
    }
   ],
   "source": [
    "from sklearn.model_selection import train_test_split\n",
    "X_train, X_val,y_train,   y_val = train_test_split(transformed_df_comb.iloc[:,:-1], transformed_df_comb['target'],test_size=0.2, random_state=90051)\n",
    "\n",
    "print(\"X_train shape: {}, y_train shape: {}\".format(X_train.shape, y_train.shape))\n",
    "print(\"X_val   shape: {}, y_val   shape: {}\".format(X_val.shape, y_val.shape))\n",
    "\n"
   ]
  },
  {
   "cell_type": "code",
   "execution_count": 24,
   "id": "9fe4015e",
   "metadata": {},
   "outputs": [
    {
     "name": "stdout",
     "output_type": "stream",
     "text": [
      "X_val_comb shape:  (19200, 3293)\n",
      "y_val_comb shape:  (24000,)\n"
     ]
    }
   ],
   "source": [
    "X_val_pos = X_val\n",
    "X_val_neg = X_val\n",
    "y_val_pos = y_val\n",
    "y_val_neg = pd.Series(np.random.choice([i for i in range(2302)], 14400))\n",
    "X_val_comb = pd.concat([X_val_pos, X_val_neg],axis = 0)\n",
    "y_val_comb = y_val_pos.append(y_val_neg, ignore_index=True)\n",
    "\n",
    "true_label = [1 for i in range(X_val_pos.shape[0])]+[0 for i in range(X_val_pos.shape[0])]\n",
    "print(\"X_val_comb shape: \", X_val_comb.shape)\n",
    "print(\"y_val_comb shape: \", y_val_comb.shape)"
   ]
  },
  {
   "cell_type": "markdown",
   "id": "a286cac1",
   "metadata": {},
   "source": [
    "## 3. Model: Multinomal NB"
   ]
  },
  {
   "cell_type": "code",
   "execution_count": 18,
   "id": "f96c8d37",
   "metadata": {},
   "outputs": [],
   "source": [
    "from sklearn.metrics import roc_auc_score"
   ]
  },
  {
   "cell_type": "code",
   "execution_count": 20,
   "id": "8f9efaff",
   "metadata": {},
   "outputs": [
    {
     "data": {
      "text/plain": [
       "MultinomialNB()"
      ]
     },
     "execution_count": 20,
     "metadata": {},
     "output_type": "execute_result"
    }
   ],
   "source": [
    "from sklearn.naive_bayes import MultinomialNB\n",
    "clf_NB = MultinomialNB()\n",
    "clf_NB.fit(X_train, y_train)"
   ]
  },
  {
   "cell_type": "code",
   "execution_count": null,
   "id": "c00570b3",
   "metadata": {},
   "outputs": [],
   "source": [
    "from sklearn.metrics import roc_auc_score\n",
    "\n",
    "pred_NB = clf_NB.predict_proba(X_val_comb)"
   ]
  },
  {
   "cell_type": "code",
   "execution_count": null,
   "id": "0a13b427",
   "metadata": {},
   "outputs": [],
   "source": [
    "res = []\n",
    "for i in range(len(pred_NB)):\n",
    "    res.append(pred_NB[i][y_val_comb[i]])"
   ]
  },
  {
   "cell_type": "code",
   "execution_count": 26,
   "id": "65b68e27",
   "metadata": {},
   "outputs": [
    {
     "data": {
      "text/plain": [
       "0.783803759765625"
      ]
     },
     "execution_count": 26,
     "metadata": {},
     "output_type": "execute_result"
    }
   ],
   "source": [
    "roc_auc_score(true_label, res)  #0.783803759765625"
   ]
  },
  {
   "cell_type": "markdown",
   "id": "70568c78",
   "metadata": {},
   "source": [
    "## 3. Model: LR"
   ]
  },
  {
   "cell_type": "code",
   "execution_count": 27,
   "id": "10d69068",
   "metadata": {},
   "outputs": [],
   "source": [
    "from sklearn.multiclass import OneVsRestClassifier\n",
    "from sklearn.linear_model import LogisticRegression"
   ]
  },
  {
   "cell_type": "markdown",
   "id": "a63282c7",
   "metadata": {},
   "source": [
    "- C=1"
   ]
  },
  {
   "cell_type": "code",
   "execution_count": 28,
   "id": "d956cf10",
   "metadata": {},
   "outputs": [
    {
     "name": "stderr",
     "output_type": "stream",
     "text": [
      "[Parallel(n_jobs=1)]: Using backend SequentialBackend with 1 concurrent workers.\n",
      " This problem is unconstrained.\n"
     ]
    },
    {
     "name": "stdout",
     "output_type": "stream",
     "text": [
      "RUNNING THE L-BFGS-B CODE\n",
      "\n",
      "           * * *\n",
      "\n",
      "Machine precision = 2.220D-16\n",
      " N =      7582788     M =           10\n",
      "\n",
      "At X0         0 variables are exactly at the bounds\n",
      "\n",
      "At iterate    0    f=  2.97275D+05    |proj g|=  1.36319D+02\n",
      "\n",
      "At iterate   50    f=  6.66508D+04    |proj g|=  4.77983D+00\n",
      "\n",
      "At iterate  100    f=  6.65236D+04    |proj g|=  6.42255D-01\n",
      "\n",
      "           * * *\n",
      "\n",
      "Tit   = total number of iterations\n",
      "Tnf   = total number of function evaluations\n",
      "Tnint = total number of segments explored during Cauchy searches\n",
      "Skip  = number of BFGS updates skipped\n",
      "Nact  = number of active bounds at final generalized Cauchy point\n",
      "Projg = norm of the final projected gradient\n",
      "F     = final function value\n",
      "\n",
      "           * * *\n",
      "\n",
      "   N    Tit     Tnf  Tnint  Skip  Nact     Projg        F\n",
      "*****    100    108      1     0     0   6.423D-01   6.652D+04\n",
      "  F =   66523.625209797581     \n",
      "\n",
      "STOP: TOTAL NO. of ITERATIONS REACHED LIMIT                 \n"
     ]
    },
    {
     "name": "stderr",
     "output_type": "stream",
     "text": [
      "/Users/zep/opt/anaconda3/envs/python385/lib/python3.8/site-packages/sklearn/linear_model/_logistic.py:763: ConvergenceWarning: lbfgs failed to converge (status=1):\n",
      "STOP: TOTAL NO. of ITERATIONS REACHED LIMIT.\n",
      "\n",
      "Increase the number of iterations (max_iter) or scale the data as shown in:\n",
      "    https://scikit-learn.org/stable/modules/preprocessing.html\n",
      "Please also refer to the documentation for alternative solver options:\n",
      "    https://scikit-learn.org/stable/modules/linear_model.html#logistic-regression\n",
      "  n_iter_i = _check_optimize_result(\n",
      "[Parallel(n_jobs=1)]: Done   1 out of   1 | elapsed: 27.5min finished\n"
     ]
    },
    {
     "name": "stdout",
     "output_type": "stream",
     "text": [
      "CPU times: user 1h 14min 39s, sys: 5min 4s, total: 1h 19min 44s\n",
      "Wall time: 27min 40s\n"
     ]
    },
    {
     "data": {
      "text/plain": [
       "0.9471915310329861"
      ]
     },
     "execution_count": 28,
     "metadata": {},
     "output_type": "execute_result"
    }
   ],
   "source": [
    "%%time\n",
    "clf_LR_1 = LogisticRegression(multi_class=\"multinomial\", C=1, verbose=True)\n",
    "clf_LR_1.fit(X_train, y_train)      \n",
    "\n",
    "pred_LR_1 = clf_LR_1.predict_proba(X_val_comb)\n",
    "res_1 = []\n",
    "for i in range(len(pred_LR_1)):\n",
    "    res_1.append(pred_LR_1[i][y_val_comb[i]])\n",
    "\n",
    "roc_auc_score(true_label, res_1) # 0.9471915310329861"
   ]
  },
  {
   "cell_type": "markdown",
   "id": "fe51664c",
   "metadata": {},
   "source": [
    "- C=0.1"
   ]
  },
  {
   "cell_type": "code",
   "execution_count": 29,
   "id": "de9a7f6c",
   "metadata": {},
   "outputs": [
    {
     "name": "stderr",
     "output_type": "stream",
     "text": [
      "[Parallel(n_jobs=1)]: Using backend SequentialBackend with 1 concurrent workers.\n"
     ]
    },
    {
     "name": "stdout",
     "output_type": "stream",
     "text": [
      "RUNNING THE L-BFGS-B CODE\n",
      "\n",
      "           * * *\n",
      "\n",
      "Machine precision = 2.220D-16\n",
      " N =      7582788     M =           10\n",
      "\n",
      "At X0         0 variables are exactly at the bounds\n"
     ]
    },
    {
     "name": "stderr",
     "output_type": "stream",
     "text": [
      " This problem is unconstrained.\n"
     ]
    },
    {
     "name": "stdout",
     "output_type": "stream",
     "text": [
      "\n",
      "At iterate    0    f=  2.97275D+05    |proj g|=  1.36319D+02\n",
      "\n",
      "At iterate   50    f=  2.04440D+05    |proj g|=  2.44436D+00\n",
      "\n",
      "At iterate  100    f=  2.04435D+05    |proj g|=  8.91618D-02\n",
      "\n",
      "           * * *\n",
      "\n",
      "Tit   = total number of iterations\n",
      "Tnf   = total number of function evaluations\n",
      "Tnint = total number of segments explored during Cauchy searches\n",
      "Skip  = number of BFGS updates skipped\n",
      "Nact  = number of active bounds at final generalized Cauchy point\n",
      "Projg = norm of the final projected gradient\n",
      "F     = final function value\n",
      "\n",
      "           * * *\n",
      "\n",
      "   N    Tit     Tnf  Tnint  Skip  Nact     Projg        F\n",
      "*****    100    108      1     0     0   8.916D-02   2.044D+05\n",
      "  F =   204434.91123744042     \n",
      "\n",
      "STOP: TOTAL NO. of ITERATIONS REACHED LIMIT                 \n"
     ]
    },
    {
     "name": "stderr",
     "output_type": "stream",
     "text": [
      "/Users/zep/opt/anaconda3/envs/python385/lib/python3.8/site-packages/sklearn/linear_model/_logistic.py:763: ConvergenceWarning: lbfgs failed to converge (status=1):\n",
      "STOP: TOTAL NO. of ITERATIONS REACHED LIMIT.\n",
      "\n",
      "Increase the number of iterations (max_iter) or scale the data as shown in:\n",
      "    https://scikit-learn.org/stable/modules/preprocessing.html\n",
      "Please also refer to the documentation for alternative solver options:\n",
      "    https://scikit-learn.org/stable/modules/linear_model.html#logistic-regression\n",
      "  n_iter_i = _check_optimize_result(\n",
      "[Parallel(n_jobs=1)]: Done   1 out of   1 | elapsed: 23.6min finished\n"
     ]
    },
    {
     "name": "stdout",
     "output_type": "stream",
     "text": [
      "CPU times: user 1h 4min 47s, sys: 4min 7s, total: 1h 8min 55s\n",
      "Wall time: 23min 48s\n"
     ]
    },
    {
     "data": {
      "text/plain": [
       "0.920612082248264"
      ]
     },
     "execution_count": 29,
     "metadata": {},
     "output_type": "execute_result"
    }
   ],
   "source": [
    "%%time\n",
    "clf_LR_01 = LogisticRegression(multi_class=\"multinomial\", C=0.1, verbose=True)\n",
    "clf_LR_01.fit(X_train, y_train)      \n",
    "\n",
    "pred_LR_01 = clf_LR_01.predict_proba(X_val_comb)\n",
    "res_01 = []\n",
    "for i in range(len(pred_LR_01)):\n",
    "    res_01.append(pred_LR_01[i][y_val_comb[i]])\n",
    "\n",
    "roc_auc_score(true_label, res_01)  #0.920612082248264"
   ]
  },
  {
   "cell_type": "code",
   "execution_count": null,
   "id": "e269d49b",
   "metadata": {},
   "outputs": [],
   "source": []
  },
  {
   "cell_type": "markdown",
   "id": "59767423",
   "metadata": {},
   "source": [
    "## 4. Read on test data"
   ]
  },
  {
   "cell_type": "code",
   "execution_count": 32,
   "id": "ce4c6abc",
   "metadata": {},
   "outputs": [
    {
     "data": {
      "text/html": [
       "<div>\n",
       "<style scoped>\n",
       "    .dataframe tbody tr th:only-of-type {\n",
       "        vertical-align: middle;\n",
       "    }\n",
       "\n",
       "    .dataframe tbody tr th {\n",
       "        vertical-align: top;\n",
       "    }\n",
       "\n",
       "    .dataframe thead th {\n",
       "        text-align: right;\n",
       "    }\n",
       "</style>\n",
       "<table border=\"1\" class=\"dataframe\">\n",
       "  <thead>\n",
       "    <tr style=\"text-align: right;\">\n",
       "      <th></th>\n",
       "      <th>venue</th>\n",
       "      <th>keywords</th>\n",
       "      <th>year</th>\n",
       "      <th>coauthor</th>\n",
       "      <th>target</th>\n",
       "    </tr>\n",
       "  </thead>\n",
       "  <tbody>\n",
       "    <tr>\n",
       "      <th>0</th>\n",
       "      <td></td>\n",
       "      <td>[260, 6, 390, 136, 7, 11, 17, 285, 288, 162, 4...</td>\n",
       "      <td>2017</td>\n",
       "      <td>[]</td>\n",
       "      <td>988</td>\n",
       "    </tr>\n",
       "    <tr>\n",
       "      <th>1</th>\n",
       "      <td>94</td>\n",
       "      <td>[260, 454, 137, 14, 400, 274, 339, 213, 280, 2...</td>\n",
       "      <td>2019</td>\n",
       "      <td>[1001]</td>\n",
       "      <td>2123</td>\n",
       "    </tr>\n",
       "    <tr>\n",
       "      <th>2</th>\n",
       "      <td>31</td>\n",
       "      <td>[390, 198, 7, 461, 462, 14, 404, 277, 24, 473,...</td>\n",
       "      <td>2014</td>\n",
       "      <td>[]</td>\n",
       "      <td>1578</td>\n",
       "    </tr>\n",
       "    <tr>\n",
       "      <th>3</th>\n",
       "      <td>6</td>\n",
       "      <td>[195, 6, 390, 10, 459, 464, 338, 146, 276, 466...</td>\n",
       "      <td>2010</td>\n",
       "      <td>[1347]</td>\n",
       "      <td>2072</td>\n",
       "    </tr>\n",
       "    <tr>\n",
       "      <th>4</th>\n",
       "      <td>162</td>\n",
       "      <td>[64, 1, 260, 457, 73, 147, 282, 27, 156, 43, 3...</td>\n",
       "      <td>2016</td>\n",
       "      <td>[1107]</td>\n",
       "      <td>995</td>\n",
       "    </tr>\n",
       "  </tbody>\n",
       "</table>\n",
       "</div>"
      ],
      "text/plain": [
       "  venue                                           keywords  year coauthor  \\\n",
       "0        [260, 6, 390, 136, 7, 11, 17, 285, 288, 162, 4...  2017       []   \n",
       "1    94  [260, 454, 137, 14, 400, 274, 339, 213, 280, 2...  2019   [1001]   \n",
       "2    31  [390, 198, 7, 461, 462, 14, 404, 277, 24, 473,...  2014       []   \n",
       "3     6  [195, 6, 390, 10, 459, 464, 338, 146, 276, 466...  2010   [1347]   \n",
       "4   162  [64, 1, 260, 457, 73, 147, 282, 27, 156, 43, 3...  2016   [1107]   \n",
       "\n",
       "  target  \n",
       "0    988  \n",
       "1   2123  \n",
       "2   1578  \n",
       "3   2072  \n",
       "4    995  "
      ]
     },
     "execution_count": 32,
     "metadata": {},
     "output_type": "execute_result"
    }
   ],
   "source": [
    "test_df.head()"
   ]
  },
  {
   "cell_type": "code",
   "execution_count": 33,
   "id": "1986ddfd",
   "metadata": {},
   "outputs": [],
   "source": [
    "test_df.loc[test_df['venue']=='',['venue']]=470\n",
    "venue_transformed_test = get_onehot_col(test_df['venue'], 471, \"venue\")\n",
    "\n",
    "keywords_transformed_test = get_onehot_col(test_df['keywords'], 500, \"keywords\")\n",
    "\n",
    "test_df['year'] = test_df['year']-2000\n",
    "year_transformed_test = get_onehot_col(test_df['year'], 20, \"year\")\n",
    "\n",
    "coauthor_transformed_test = get_onehot_col(test_df['coauthor'], 2302, \"coauthor\")\n",
    "\n",
    "target_transformed_test = get_onehot_col(test_df['target'], 2302, \"target\")\n",
    "\n",
    "\n",
    "\n"
   ]
  },
  {
   "cell_type": "code",
   "execution_count": 34,
   "id": "1258f641",
   "metadata": {},
   "outputs": [],
   "source": [
    "transformed_df_comb_test = pd.concat([venue_transformed_test,keywords_transformed_test,year_transformed_test,coauthor_transformed_test],axis=1)\n",
    "target = test_df['target']\n"
   ]
  },
  {
   "cell_type": "code",
   "execution_count": 35,
   "id": "fa7aeb9f",
   "metadata": {},
   "outputs": [
    {
     "data": {
      "text/html": [
       "<div>\n",
       "<style scoped>\n",
       "    .dataframe tbody tr th:only-of-type {\n",
       "        vertical-align: middle;\n",
       "    }\n",
       "\n",
       "    .dataframe tbody tr th {\n",
       "        vertical-align: top;\n",
       "    }\n",
       "\n",
       "    .dataframe thead th {\n",
       "        text-align: right;\n",
       "    }\n",
       "</style>\n",
       "<table border=\"1\" class=\"dataframe\">\n",
       "  <thead>\n",
       "    <tr style=\"text-align: right;\">\n",
       "      <th></th>\n",
       "      <th>venue_0</th>\n",
       "      <th>venue_1</th>\n",
       "      <th>venue_2</th>\n",
       "      <th>venue_3</th>\n",
       "      <th>venue_4</th>\n",
       "      <th>venue_5</th>\n",
       "      <th>venue_6</th>\n",
       "      <th>venue_7</th>\n",
       "      <th>venue_8</th>\n",
       "      <th>venue_9</th>\n",
       "      <th>...</th>\n",
       "      <th>coauthor_2292</th>\n",
       "      <th>coauthor_2293</th>\n",
       "      <th>coauthor_2294</th>\n",
       "      <th>coauthor_2295</th>\n",
       "      <th>coauthor_2296</th>\n",
       "      <th>coauthor_2297</th>\n",
       "      <th>coauthor_2298</th>\n",
       "      <th>coauthor_2299</th>\n",
       "      <th>coauthor_2300</th>\n",
       "      <th>coauthor_2301</th>\n",
       "    </tr>\n",
       "  </thead>\n",
       "  <tbody>\n",
       "    <tr>\n",
       "      <th>0</th>\n",
       "      <td>0</td>\n",
       "      <td>0</td>\n",
       "      <td>0</td>\n",
       "      <td>0</td>\n",
       "      <td>0</td>\n",
       "      <td>0</td>\n",
       "      <td>0</td>\n",
       "      <td>0</td>\n",
       "      <td>0</td>\n",
       "      <td>0</td>\n",
       "      <td>...</td>\n",
       "      <td>0</td>\n",
       "      <td>0</td>\n",
       "      <td>0</td>\n",
       "      <td>0</td>\n",
       "      <td>0</td>\n",
       "      <td>0</td>\n",
       "      <td>0</td>\n",
       "      <td>0</td>\n",
       "      <td>0</td>\n",
       "      <td>0</td>\n",
       "    </tr>\n",
       "    <tr>\n",
       "      <th>1</th>\n",
       "      <td>0</td>\n",
       "      <td>0</td>\n",
       "      <td>0</td>\n",
       "      <td>0</td>\n",
       "      <td>0</td>\n",
       "      <td>0</td>\n",
       "      <td>0</td>\n",
       "      <td>0</td>\n",
       "      <td>0</td>\n",
       "      <td>0</td>\n",
       "      <td>...</td>\n",
       "      <td>0</td>\n",
       "      <td>0</td>\n",
       "      <td>0</td>\n",
       "      <td>0</td>\n",
       "      <td>0</td>\n",
       "      <td>0</td>\n",
       "      <td>0</td>\n",
       "      <td>0</td>\n",
       "      <td>0</td>\n",
       "      <td>0</td>\n",
       "    </tr>\n",
       "    <tr>\n",
       "      <th>2</th>\n",
       "      <td>0</td>\n",
       "      <td>0</td>\n",
       "      <td>0</td>\n",
       "      <td>0</td>\n",
       "      <td>0</td>\n",
       "      <td>0</td>\n",
       "      <td>0</td>\n",
       "      <td>0</td>\n",
       "      <td>0</td>\n",
       "      <td>0</td>\n",
       "      <td>...</td>\n",
       "      <td>0</td>\n",
       "      <td>0</td>\n",
       "      <td>0</td>\n",
       "      <td>0</td>\n",
       "      <td>0</td>\n",
       "      <td>0</td>\n",
       "      <td>0</td>\n",
       "      <td>0</td>\n",
       "      <td>0</td>\n",
       "      <td>0</td>\n",
       "    </tr>\n",
       "    <tr>\n",
       "      <th>3</th>\n",
       "      <td>0</td>\n",
       "      <td>0</td>\n",
       "      <td>0</td>\n",
       "      <td>0</td>\n",
       "      <td>0</td>\n",
       "      <td>0</td>\n",
       "      <td>1</td>\n",
       "      <td>0</td>\n",
       "      <td>0</td>\n",
       "      <td>0</td>\n",
       "      <td>...</td>\n",
       "      <td>0</td>\n",
       "      <td>0</td>\n",
       "      <td>0</td>\n",
       "      <td>0</td>\n",
       "      <td>0</td>\n",
       "      <td>0</td>\n",
       "      <td>0</td>\n",
       "      <td>0</td>\n",
       "      <td>0</td>\n",
       "      <td>0</td>\n",
       "    </tr>\n",
       "    <tr>\n",
       "      <th>4</th>\n",
       "      <td>0</td>\n",
       "      <td>0</td>\n",
       "      <td>0</td>\n",
       "      <td>0</td>\n",
       "      <td>0</td>\n",
       "      <td>0</td>\n",
       "      <td>0</td>\n",
       "      <td>0</td>\n",
       "      <td>0</td>\n",
       "      <td>0</td>\n",
       "      <td>...</td>\n",
       "      <td>0</td>\n",
       "      <td>0</td>\n",
       "      <td>0</td>\n",
       "      <td>0</td>\n",
       "      <td>0</td>\n",
       "      <td>0</td>\n",
       "      <td>0</td>\n",
       "      <td>0</td>\n",
       "      <td>0</td>\n",
       "      <td>0</td>\n",
       "    </tr>\n",
       "  </tbody>\n",
       "</table>\n",
       "<p>5 rows × 3293 columns</p>\n",
       "</div>"
      ],
      "text/plain": [
       "   venue_0  venue_1  venue_2  venue_3  venue_4  venue_5  venue_6  venue_7  \\\n",
       "0        0        0        0        0        0        0        0        0   \n",
       "1        0        0        0        0        0        0        0        0   \n",
       "2        0        0        0        0        0        0        0        0   \n",
       "3        0        0        0        0        0        0        1        0   \n",
       "4        0        0        0        0        0        0        0        0   \n",
       "\n",
       "   venue_8  venue_9  ...  coauthor_2292  coauthor_2293  coauthor_2294  \\\n",
       "0        0        0  ...              0              0              0   \n",
       "1        0        0  ...              0              0              0   \n",
       "2        0        0  ...              0              0              0   \n",
       "3        0        0  ...              0              0              0   \n",
       "4        0        0  ...              0              0              0   \n",
       "\n",
       "   coauthor_2295  coauthor_2296  coauthor_2297  coauthor_2298  coauthor_2299  \\\n",
       "0              0              0              0              0              0   \n",
       "1              0              0              0              0              0   \n",
       "2              0              0              0              0              0   \n",
       "3              0              0              0              0              0   \n",
       "4              0              0              0              0              0   \n",
       "\n",
       "   coauthor_2300  coauthor_2301  \n",
       "0              0              0  \n",
       "1              0              0  \n",
       "2              0              0  \n",
       "3              0              0  \n",
       "4              0              0  \n",
       "\n",
       "[5 rows x 3293 columns]"
      ]
     },
     "execution_count": 35,
     "metadata": {},
     "output_type": "execute_result"
    }
   ],
   "source": [
    "transformed_df_comb_test.head()"
   ]
  },
  {
   "cell_type": "code",
   "execution_count": 36,
   "id": "8b5e99ac",
   "metadata": {},
   "outputs": [
    {
     "data": {
      "text/plain": [
       "(2000, 3293)"
      ]
     },
     "execution_count": 36,
     "metadata": {},
     "output_type": "execute_result"
    }
   ],
   "source": [
    "transformed_df_comb_test.shape"
   ]
  },
  {
   "cell_type": "markdown",
   "id": "40054cb1",
   "metadata": {},
   "source": [
    "## 5. Fit on test data - MNB\n",
    "- AUC on Kaggle: 0.70735"
   ]
  },
  {
   "cell_type": "code",
   "execution_count": 44,
   "id": "81cd843d",
   "metadata": {},
   "outputs": [],
   "source": [
    "pred_MNB_test = clf_NB.predict_proba(transformed_df_comb_test)\n",
    "res_test_MNB = []\n",
    "for i in range(len(pred_MNB_test)):\n",
    "    res_test_MNB.append(pred_MNB_test[i][target[i]])\n",
    "\n"
   ]
  },
  {
   "cell_type": "code",
   "execution_count": 45,
   "id": "558cdfd3",
   "metadata": {},
   "outputs": [],
   "source": [
    "sample_df = pd.read_csv('comp90051-22-s1-p1/sample.csv',index_col=0)\n",
    "sample_df['Predicted'] = res_test_MNB\n",
    "sample_df.to_csv('predicted_MNB_onehot.csv')\n"
   ]
  },
  {
   "cell_type": "markdown",
   "id": "324e3d6b",
   "metadata": {},
   "source": [
    "## 5. Fit on test data - LR\n",
    "- AUC on Kaggle: 0.88141"
   ]
  },
  {
   "cell_type": "code",
   "execution_count": 40,
   "id": "fa179ae1",
   "metadata": {},
   "outputs": [],
   "source": [
    "pred_LR_test = clf_LR_1.predict_proba(transformed_df_comb_test)\n",
    "res_test = []\n",
    "for i in range(len(pred_LR_test)):\n",
    "    res_test.append(pred_LR_test[i][target[i]])\n"
   ]
  },
  {
   "cell_type": "code",
   "execution_count": 41,
   "id": "9727a0a1",
   "metadata": {},
   "outputs": [],
   "source": [
    "sample_df = pd.read_csv('comp90051-22-s1-p1/sample.csv',index_col=0)\n",
    "sample_df['Predicted'] = res_test\n",
    "sample_df.to_csv('predicted_LR.csv')"
   ]
  }
 ],
 "metadata": {
  "kernelspec": {
   "display_name": "Python 3 (ipykernel)",
   "language": "python",
   "name": "python3"
  },
  "language_info": {
   "codemirror_mode": {
    "name": "ipython",
    "version": 3
   },
   "file_extension": ".py",
   "mimetype": "text/x-python",
   "name": "python",
   "nbconvert_exporter": "python",
   "pygments_lexer": "ipython3",
   "version": "3.8.5"
  }
 },
 "nbformat": 4,
 "nbformat_minor": 5
}

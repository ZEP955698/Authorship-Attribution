{
 "cells": [
  {
   "cell_type": "markdown",
   "id": "e99aabf5",
   "metadata": {},
   "source": [
    "# Project 1: Document author identification"
   ]
  },
  {
   "cell_type": "code",
   "execution_count": 1,
   "id": "bb0cecb7",
   "metadata": {},
   "outputs": [],
   "source": [
    "import warnings\n",
    "warnings.filterwarnings('ignore')"
   ]
  },
  {
   "cell_type": "code",
   "execution_count": 2,
   "id": "d58b093f",
   "metadata": {},
   "outputs": [],
   "source": [
    "import numpy as np\n",
    "import pandas as pd"
   ]
  },
  {
   "cell_type": "markdown",
   "id": "704c8957",
   "metadata": {},
   "source": [
    "## 1. Read the file and import data"
   ]
  },
  {
   "cell_type": "code",
   "execution_count": 3,
   "id": "9da8be6d",
   "metadata": {},
   "outputs": [],
   "source": [
    "import json\n",
    "\n",
    "# read json file\n",
    "def read_json(path):\n",
    "    with open(path, 'r') as file:\n",
    "         temp = json.load(file)\n",
    "    df = pd.DataFrame(temp).T\n",
    "    return df"
   ]
  },
  {
   "cell_type": "code",
   "execution_count": 4,
   "id": "b3683731",
   "metadata": {},
   "outputs": [
    {
     "data": {
      "text/html": [
       "<div>\n",
       "<style scoped>\n",
       "    .dataframe tbody tr th:only-of-type {\n",
       "        vertical-align: middle;\n",
       "    }\n",
       "\n",
       "    .dataframe tbody tr th {\n",
       "        vertical-align: top;\n",
       "    }\n",
       "\n",
       "    .dataframe thead th {\n",
       "        text-align: right;\n",
       "    }\n",
       "</style>\n",
       "<table border=\"1\" class=\"dataframe\">\n",
       "  <thead>\n",
       "    <tr style=\"text-align: right;\">\n",
       "      <th></th>\n",
       "      <th>venue</th>\n",
       "      <th>keywords</th>\n",
       "      <th>year</th>\n",
       "      <th>author</th>\n",
       "    </tr>\n",
       "  </thead>\n",
       "  <tbody>\n",
       "    <tr>\n",
       "      <th>0</th>\n",
       "      <td></td>\n",
       "      <td>[64, 1, 322, 134, 136, 396, 270, 144, 476, 481...</td>\n",
       "      <td>2017</td>\n",
       "      <td>[1605, 759]</td>\n",
       "    </tr>\n",
       "    <tr>\n",
       "      <th>1</th>\n",
       "      <td>0</td>\n",
       "      <td>[258, 260, 389, 261, 390, 396, 400, 17, 146, 2...</td>\n",
       "      <td>2013</td>\n",
       "      <td>[2182]</td>\n",
       "    </tr>\n",
       "    <tr>\n",
       "      <th>2</th>\n",
       "      <td>1</td>\n",
       "      <td>[320, 454, 266, 462, 17, 339, 404, 342, 407, 2...</td>\n",
       "      <td>2007</td>\n",
       "      <td>[2176]</td>\n",
       "    </tr>\n",
       "    <tr>\n",
       "      <th>3</th>\n",
       "      <td>2</td>\n",
       "      <td>[260, 132, 333, 15, 400, 272, 146, 401, 278, 3...</td>\n",
       "      <td>2013</td>\n",
       "      <td>[1107]</td>\n",
       "    </tr>\n",
       "    <tr>\n",
       "      <th>4</th>\n",
       "      <td>3</td>\n",
       "      <td>[64, 385, 449, 450, 71, 73, 268, 80, 216, 25, ...</td>\n",
       "      <td>2009</td>\n",
       "      <td>[1414]</td>\n",
       "    </tr>\n",
       "  </tbody>\n",
       "</table>\n",
       "</div>"
      ],
      "text/plain": [
       "  venue                                           keywords  year       author\n",
       "0        [64, 1, 322, 134, 136, 396, 270, 144, 476, 481...  2017  [1605, 759]\n",
       "1     0  [258, 260, 389, 261, 390, 396, 400, 17, 146, 2...  2013       [2182]\n",
       "2     1  [320, 454, 266, 462, 17, 339, 404, 342, 407, 2...  2007       [2176]\n",
       "3     2  [260, 132, 333, 15, 400, 272, 146, 401, 278, 3...  2013       [1107]\n",
       "4     3  [64, 385, 449, 450, 71, 73, 268, 80, 216, 25, ...  2009       [1414]"
      ]
     },
     "execution_count": 4,
     "metadata": {},
     "output_type": "execute_result"
    }
   ],
   "source": [
    "train_df = read_json('comp90051-22-s1-p1/train.json')\n",
    "train_df.head(5)"
   ]
  },
  {
   "cell_type": "code",
   "execution_count": 5,
   "id": "6f21dd37",
   "metadata": {},
   "outputs": [
    {
     "data": {
      "text/html": [
       "<div>\n",
       "<style scoped>\n",
       "    .dataframe tbody tr th:only-of-type {\n",
       "        vertical-align: middle;\n",
       "    }\n",
       "\n",
       "    .dataframe tbody tr th {\n",
       "        vertical-align: top;\n",
       "    }\n",
       "\n",
       "    .dataframe thead th {\n",
       "        text-align: right;\n",
       "    }\n",
       "</style>\n",
       "<table border=\"1\" class=\"dataframe\">\n",
       "  <thead>\n",
       "    <tr style=\"text-align: right;\">\n",
       "      <th></th>\n",
       "      <th>venue</th>\n",
       "      <th>keywords</th>\n",
       "      <th>year</th>\n",
       "      <th>coauthor</th>\n",
       "      <th>target</th>\n",
       "    </tr>\n",
       "  </thead>\n",
       "  <tbody>\n",
       "    <tr>\n",
       "      <th>0</th>\n",
       "      <td></td>\n",
       "      <td>[260, 6, 390, 136, 7, 11, 17, 285, 288, 162, 4...</td>\n",
       "      <td>2017</td>\n",
       "      <td>[]</td>\n",
       "      <td>988</td>\n",
       "    </tr>\n",
       "    <tr>\n",
       "      <th>1</th>\n",
       "      <td>94</td>\n",
       "      <td>[260, 454, 137, 14, 400, 274, 339, 213, 280, 2...</td>\n",
       "      <td>2019</td>\n",
       "      <td>[1001]</td>\n",
       "      <td>2123</td>\n",
       "    </tr>\n",
       "    <tr>\n",
       "      <th>2</th>\n",
       "      <td>31</td>\n",
       "      <td>[390, 198, 7, 461, 462, 14, 404, 277, 24, 473,...</td>\n",
       "      <td>2014</td>\n",
       "      <td>[]</td>\n",
       "      <td>1578</td>\n",
       "    </tr>\n",
       "    <tr>\n",
       "      <th>3</th>\n",
       "      <td>6</td>\n",
       "      <td>[195, 6, 390, 10, 459, 464, 338, 146, 276, 466...</td>\n",
       "      <td>2010</td>\n",
       "      <td>[1347]</td>\n",
       "      <td>2072</td>\n",
       "    </tr>\n",
       "    <tr>\n",
       "      <th>4</th>\n",
       "      <td>162</td>\n",
       "      <td>[64, 1, 260, 457, 73, 147, 282, 27, 156, 43, 3...</td>\n",
       "      <td>2016</td>\n",
       "      <td>[1107]</td>\n",
       "      <td>995</td>\n",
       "    </tr>\n",
       "  </tbody>\n",
       "</table>\n",
       "</div>"
      ],
      "text/plain": [
       "  venue                                           keywords  year coauthor  \\\n",
       "0        [260, 6, 390, 136, 7, 11, 17, 285, 288, 162, 4...  2017       []   \n",
       "1    94  [260, 454, 137, 14, 400, 274, 339, 213, 280, 2...  2019   [1001]   \n",
       "2    31  [390, 198, 7, 461, 462, 14, 404, 277, 24, 473,...  2014       []   \n",
       "3     6  [195, 6, 390, 10, 459, 464, 338, 146, 276, 466...  2010   [1347]   \n",
       "4   162  [64, 1, 260, 457, 73, 147, 282, 27, 156, 43, 3...  2016   [1107]   \n",
       "\n",
       "  target  \n",
       "0    988  \n",
       "1   2123  \n",
       "2   1578  \n",
       "3   2072  \n",
       "4    995  "
      ]
     },
     "execution_count": 5,
     "metadata": {},
     "output_type": "execute_result"
    }
   ],
   "source": [
    "test_df = read_json('comp90051-22-s1-p1/test.json')\n",
    "test_df.head(5)"
   ]
  },
  {
   "cell_type": "code",
   "execution_count": 6,
   "id": "b3ee5b94",
   "metadata": {},
   "outputs": [
    {
     "name": "stdout",
     "output_type": "stream",
     "text": [
      "shape of train_df    = (26108, 4)\n",
      "shape of test_df     = (2000, 5)\n"
     ]
    }
   ],
   "source": [
    "# print dimension for each dataframe\n",
    "print(f\"shape of train_df    = {train_df.shape}\")\n",
    "print(f\"shape of test_df     = {test_df.shape}\")"
   ]
  },
  {
   "cell_type": "markdown",
   "id": "9d631078",
   "metadata": {},
   "source": [
    "## 2. Create Label"
   ]
  },
  {
   "cell_type": "code",
   "execution_count": 7,
   "id": "2800e9c1",
   "metadata": {},
   "outputs": [],
   "source": [
    "def get_transformed_df(df):\n",
    "    aus = df['author']\n",
    "    transformed_lst = []\n",
    "    for i in range(df.shape[0]):\n",
    "        for j in aus[i]:\n",
    "            temp = list(df.values[i][:-1])\n",
    "            temp.append([au for au in aus[i] if au!=j])\n",
    "            temp.append(j)\n",
    "            transformed_lst.append(temp)\n",
    "    cols = list(df.columns[:-1])\n",
    "    cols.append('coauthor')\n",
    "    cols.append('target')\n",
    "    return pd.DataFrame(transformed_lst,columns=cols)"
   ]
  },
  {
   "cell_type": "code",
   "execution_count": 8,
   "id": "a695d068",
   "metadata": {},
   "outputs": [],
   "source": [
    "transformed_df = get_transformed_df(train_df)"
   ]
  },
  {
   "cell_type": "code",
   "execution_count": 9,
   "id": "e3749171",
   "metadata": {},
   "outputs": [
    {
     "data": {
      "text/html": [
       "<div>\n",
       "<style scoped>\n",
       "    .dataframe tbody tr th:only-of-type {\n",
       "        vertical-align: middle;\n",
       "    }\n",
       "\n",
       "    .dataframe tbody tr th {\n",
       "        vertical-align: top;\n",
       "    }\n",
       "\n",
       "    .dataframe thead th {\n",
       "        text-align: right;\n",
       "    }\n",
       "</style>\n",
       "<table border=\"1\" class=\"dataframe\">\n",
       "  <thead>\n",
       "    <tr style=\"text-align: right;\">\n",
       "      <th></th>\n",
       "      <th>venue</th>\n",
       "      <th>keywords</th>\n",
       "      <th>year</th>\n",
       "      <th>coauthor</th>\n",
       "      <th>target</th>\n",
       "    </tr>\n",
       "  </thead>\n",
       "  <tbody>\n",
       "    <tr>\n",
       "      <th>0</th>\n",
       "      <td></td>\n",
       "      <td>[64, 1, 322, 134, 136, 396, 270, 144, 476, 481...</td>\n",
       "      <td>2017</td>\n",
       "      <td>[759]</td>\n",
       "      <td>1605</td>\n",
       "    </tr>\n",
       "    <tr>\n",
       "      <th>1</th>\n",
       "      <td></td>\n",
       "      <td>[64, 1, 322, 134, 136, 396, 270, 144, 476, 481...</td>\n",
       "      <td>2017</td>\n",
       "      <td>[1605]</td>\n",
       "      <td>759</td>\n",
       "    </tr>\n",
       "    <tr>\n",
       "      <th>2</th>\n",
       "      <td>0</td>\n",
       "      <td>[258, 260, 389, 261, 390, 396, 400, 17, 146, 2...</td>\n",
       "      <td>2013</td>\n",
       "      <td>[]</td>\n",
       "      <td>2182</td>\n",
       "    </tr>\n",
       "    <tr>\n",
       "      <th>3</th>\n",
       "      <td>1</td>\n",
       "      <td>[320, 454, 266, 462, 17, 339, 404, 342, 407, 2...</td>\n",
       "      <td>2007</td>\n",
       "      <td>[]</td>\n",
       "      <td>2176</td>\n",
       "    </tr>\n",
       "    <tr>\n",
       "      <th>4</th>\n",
       "      <td>2</td>\n",
       "      <td>[260, 132, 333, 15, 400, 272, 146, 401, 278, 3...</td>\n",
       "      <td>2013</td>\n",
       "      <td>[]</td>\n",
       "      <td>1107</td>\n",
       "    </tr>\n",
       "  </tbody>\n",
       "</table>\n",
       "</div>"
      ],
      "text/plain": [
       "  venue                                           keywords  year coauthor  \\\n",
       "0        [64, 1, 322, 134, 136, 396, 270, 144, 476, 481...  2017    [759]   \n",
       "1        [64, 1, 322, 134, 136, 396, 270, 144, 476, 481...  2017   [1605]   \n",
       "2     0  [258, 260, 389, 261, 390, 396, 400, 17, 146, 2...  2013       []   \n",
       "3     1  [320, 454, 266, 462, 17, 339, 404, 342, 407, 2...  2007       []   \n",
       "4     2  [260, 132, 333, 15, 400, 272, 146, 401, 278, 3...  2013       []   \n",
       "\n",
       "   target  \n",
       "0    1605  \n",
       "1     759  \n",
       "2    2182  \n",
       "3    2176  \n",
       "4    1107  "
      ]
     },
     "execution_count": 9,
     "metadata": {},
     "output_type": "execute_result"
    }
   ],
   "source": [
    "transformed_df.head()"
   ]
  },
  {
   "cell_type": "code",
   "execution_count": null,
   "id": "5f7d7aad",
   "metadata": {},
   "outputs": [],
   "source": []
  },
  {
   "cell_type": "markdown",
   "id": "9a7934c3",
   "metadata": {},
   "source": [
    "## 3. One-hot"
   ]
  },
  {
   "cell_type": "code",
   "execution_count": 10,
   "id": "758d316d",
   "metadata": {},
   "outputs": [],
   "source": [
    "import torch\n",
    "def get_onehot_col(col, size, col_prefix):\n",
    "    transformed_col = []\n",
    "    for i in col:\n",
    "        transformed_col.append(torch.zeros(size, dtype=torch.int).scatter_(0, torch.tensor(i), value=1).tolist())\n",
    "    col_names = [col_prefix+'_'+str(i) for i in range(size)]\n",
    "    return pd.DataFrame(transformed_col, columns=col_names)"
   ]
  },
  {
   "cell_type": "code",
   "execution_count": 11,
   "id": "8622253d",
   "metadata": {},
   "outputs": [],
   "source": [
    "transformed_df.loc[transformed_df['venue']=='',['venue']]=470\n",
    "venue_transformed = get_onehot_col(transformed_df['venue'], 471, \"venue\")\n",
    "\n",
    "#keywords_transformed = get_onehot_col(transformed_df['keywords'], 500, \"keywords\")\n",
    "\n",
    "transformed_df['year'] = transformed_df['year']-2000\n",
    "year_transformed = get_onehot_col(transformed_df['year'], 20, \"year\")\n",
    "\n",
    "coauthor_transformed = get_onehot_col(transformed_df['coauthor'], 2302, \"coauthor\")\n",
    "\n",
    "target_transformed = get_onehot_col(transformed_df['target'], 2302, \"target\")\n",
    "\n",
    "\n"
   ]
  },
  {
   "cell_type": "markdown",
   "id": "9b1758a7",
   "metadata": {},
   "source": [
    "## 3. Tf-idf for keywords"
   ]
  },
  {
   "cell_type": "code",
   "execution_count": 12,
   "id": "64ab1b11",
   "metadata": {},
   "outputs": [],
   "source": [
    "def list_to_str(lst, to_str=True):\n",
    "    temp = []\n",
    "    for i in lst:\n",
    "        temp.append(str(i))\n",
    "    \n",
    "    return ' '.join(temp)"
   ]
  },
  {
   "cell_type": "code",
   "execution_count": 13,
   "id": "55e72360",
   "metadata": {},
   "outputs": [],
   "source": [
    "keywords_transformed_lst = transformed_df['keywords'].apply(list_to_str)\n"
   ]
  },
  {
   "cell_type": "code",
   "execution_count": 14,
   "id": "15e71da6",
   "metadata": {},
   "outputs": [],
   "source": [
    "from sklearn.feature_extraction.text import TfidfVectorizer\n",
    "vectorizer = TfidfVectorizer()\n",
    "keywords_embedding = vectorizer.fit_transform(list(keywords_transformed_lst))\n",
    "\n",
    "keywords_transformed_tfidf = pd.DataFrame.sparse.from_spmatrix(keywords_embedding, columns=['keywords_'+str(i) for i in range(keywords_embedding.shape[1])])\n",
    "\n"
   ]
  },
  {
   "cell_type": "code",
   "execution_count": 15,
   "id": "d0dcea32",
   "metadata": {},
   "outputs": [
    {
     "data": {
      "text/html": [
       "<div>\n",
       "<style scoped>\n",
       "    .dataframe tbody tr th:only-of-type {\n",
       "        vertical-align: middle;\n",
       "    }\n",
       "\n",
       "    .dataframe tbody tr th {\n",
       "        vertical-align: top;\n",
       "    }\n",
       "\n",
       "    .dataframe thead th {\n",
       "        text-align: right;\n",
       "    }\n",
       "</style>\n",
       "<table border=\"1\" class=\"dataframe\">\n",
       "  <thead>\n",
       "    <tr style=\"text-align: right;\">\n",
       "      <th></th>\n",
       "      <th>keywords_0</th>\n",
       "      <th>keywords_1</th>\n",
       "      <th>keywords_2</th>\n",
       "      <th>keywords_3</th>\n",
       "      <th>keywords_4</th>\n",
       "      <th>keywords_5</th>\n",
       "      <th>keywords_6</th>\n",
       "      <th>keywords_7</th>\n",
       "      <th>keywords_8</th>\n",
       "      <th>keywords_9</th>\n",
       "      <th>...</th>\n",
       "      <th>keywords_480</th>\n",
       "      <th>keywords_481</th>\n",
       "      <th>keywords_482</th>\n",
       "      <th>keywords_483</th>\n",
       "      <th>keywords_484</th>\n",
       "      <th>keywords_485</th>\n",
       "      <th>keywords_486</th>\n",
       "      <th>keywords_487</th>\n",
       "      <th>keywords_488</th>\n",
       "      <th>keywords_489</th>\n",
       "    </tr>\n",
       "  </thead>\n",
       "  <tbody>\n",
       "    <tr>\n",
       "      <th>0</th>\n",
       "      <td>0.0</td>\n",
       "      <td>0.000000</td>\n",
       "      <td>0.0</td>\n",
       "      <td>0.0</td>\n",
       "      <td>0.0</td>\n",
       "      <td>0.0</td>\n",
       "      <td>0.0</td>\n",
       "      <td>0.0</td>\n",
       "      <td>0.0</td>\n",
       "      <td>0.0</td>\n",
       "      <td>...</td>\n",
       "      <td>0.0</td>\n",
       "      <td>0.0</td>\n",
       "      <td>0.000000</td>\n",
       "      <td>0.0</td>\n",
       "      <td>0.000000</td>\n",
       "      <td>0.000000</td>\n",
       "      <td>0.0</td>\n",
       "      <td>0.0</td>\n",
       "      <td>0.0</td>\n",
       "      <td>0.0</td>\n",
       "    </tr>\n",
       "    <tr>\n",
       "      <th>1</th>\n",
       "      <td>0.0</td>\n",
       "      <td>0.000000</td>\n",
       "      <td>0.0</td>\n",
       "      <td>0.0</td>\n",
       "      <td>0.0</td>\n",
       "      <td>0.0</td>\n",
       "      <td>0.0</td>\n",
       "      <td>0.0</td>\n",
       "      <td>0.0</td>\n",
       "      <td>0.0</td>\n",
       "      <td>...</td>\n",
       "      <td>0.0</td>\n",
       "      <td>0.0</td>\n",
       "      <td>0.000000</td>\n",
       "      <td>0.0</td>\n",
       "      <td>0.000000</td>\n",
       "      <td>0.000000</td>\n",
       "      <td>0.0</td>\n",
       "      <td>0.0</td>\n",
       "      <td>0.0</td>\n",
       "      <td>0.0</td>\n",
       "    </tr>\n",
       "    <tr>\n",
       "      <th>2</th>\n",
       "      <td>0.0</td>\n",
       "      <td>0.139497</td>\n",
       "      <td>0.0</td>\n",
       "      <td>0.0</td>\n",
       "      <td>0.0</td>\n",
       "      <td>0.0</td>\n",
       "      <td>0.0</td>\n",
       "      <td>0.0</td>\n",
       "      <td>0.0</td>\n",
       "      <td>0.0</td>\n",
       "      <td>...</td>\n",
       "      <td>0.0</td>\n",
       "      <td>0.0</td>\n",
       "      <td>0.000000</td>\n",
       "      <td>0.0</td>\n",
       "      <td>0.000000</td>\n",
       "      <td>0.000000</td>\n",
       "      <td>0.0</td>\n",
       "      <td>0.0</td>\n",
       "      <td>0.0</td>\n",
       "      <td>0.0</td>\n",
       "    </tr>\n",
       "    <tr>\n",
       "      <th>3</th>\n",
       "      <td>0.0</td>\n",
       "      <td>0.000000</td>\n",
       "      <td>0.0</td>\n",
       "      <td>0.0</td>\n",
       "      <td>0.0</td>\n",
       "      <td>0.0</td>\n",
       "      <td>0.0</td>\n",
       "      <td>0.0</td>\n",
       "      <td>0.0</td>\n",
       "      <td>0.0</td>\n",
       "      <td>...</td>\n",
       "      <td>0.0</td>\n",
       "      <td>0.0</td>\n",
       "      <td>0.000000</td>\n",
       "      <td>0.0</td>\n",
       "      <td>0.177834</td>\n",
       "      <td>0.187039</td>\n",
       "      <td>0.0</td>\n",
       "      <td>0.0</td>\n",
       "      <td>0.0</td>\n",
       "      <td>0.0</td>\n",
       "    </tr>\n",
       "    <tr>\n",
       "      <th>4</th>\n",
       "      <td>0.0</td>\n",
       "      <td>0.000000</td>\n",
       "      <td>0.0</td>\n",
       "      <td>0.0</td>\n",
       "      <td>0.0</td>\n",
       "      <td>0.0</td>\n",
       "      <td>0.0</td>\n",
       "      <td>0.0</td>\n",
       "      <td>0.0</td>\n",
       "      <td>0.0</td>\n",
       "      <td>...</td>\n",
       "      <td>0.0</td>\n",
       "      <td>0.0</td>\n",
       "      <td>0.203782</td>\n",
       "      <td>0.0</td>\n",
       "      <td>0.000000</td>\n",
       "      <td>0.000000</td>\n",
       "      <td>0.0</td>\n",
       "      <td>0.0</td>\n",
       "      <td>0.0</td>\n",
       "      <td>0.0</td>\n",
       "    </tr>\n",
       "  </tbody>\n",
       "</table>\n",
       "<p>5 rows × 490 columns</p>\n",
       "</div>"
      ],
      "text/plain": [
       "   keywords_0  keywords_1  keywords_2  keywords_3  keywords_4  keywords_5  \\\n",
       "0         0.0    0.000000         0.0         0.0         0.0         0.0   \n",
       "1         0.0    0.000000         0.0         0.0         0.0         0.0   \n",
       "2         0.0    0.139497         0.0         0.0         0.0         0.0   \n",
       "3         0.0    0.000000         0.0         0.0         0.0         0.0   \n",
       "4         0.0    0.000000         0.0         0.0         0.0         0.0   \n",
       "\n",
       "   keywords_6  keywords_7  keywords_8  keywords_9  ...  keywords_480  \\\n",
       "0         0.0         0.0         0.0         0.0  ...           0.0   \n",
       "1         0.0         0.0         0.0         0.0  ...           0.0   \n",
       "2         0.0         0.0         0.0         0.0  ...           0.0   \n",
       "3         0.0         0.0         0.0         0.0  ...           0.0   \n",
       "4         0.0         0.0         0.0         0.0  ...           0.0   \n",
       "\n",
       "   keywords_481  keywords_482  keywords_483  keywords_484  keywords_485  \\\n",
       "0           0.0      0.000000           0.0      0.000000      0.000000   \n",
       "1           0.0      0.000000           0.0      0.000000      0.000000   \n",
       "2           0.0      0.000000           0.0      0.000000      0.000000   \n",
       "3           0.0      0.000000           0.0      0.177834      0.187039   \n",
       "4           0.0      0.203782           0.0      0.000000      0.000000   \n",
       "\n",
       "   keywords_486  keywords_487  keywords_488  keywords_489  \n",
       "0           0.0           0.0           0.0           0.0  \n",
       "1           0.0           0.0           0.0           0.0  \n",
       "2           0.0           0.0           0.0           0.0  \n",
       "3           0.0           0.0           0.0           0.0  \n",
       "4           0.0           0.0           0.0           0.0  \n",
       "\n",
       "[5 rows x 490 columns]"
      ]
     },
     "execution_count": 15,
     "metadata": {},
     "output_type": "execute_result"
    }
   ],
   "source": [
    "keywords_transformed_tfidf.head()"
   ]
  },
  {
   "cell_type": "code",
   "execution_count": null,
   "id": "81304389",
   "metadata": {},
   "outputs": [],
   "source": []
  },
  {
   "cell_type": "markdown",
   "id": "efb71a2f",
   "metadata": {},
   "source": [
    "## 3. Combine"
   ]
  },
  {
   "cell_type": "code",
   "execution_count": 16,
   "id": "c8f297a0",
   "metadata": {},
   "outputs": [],
   "source": [
    "\n",
    "#transformed_df_comb = pd.concat([venue_transformed,keywords_transformed,keywords_transformed_tfidf,year_transformed,transformed_df['year'], coauthor_transformed],axis=1)\n",
    "transformed_df_comb = pd.concat([venue_transformed,keywords_transformed_tfidf,year_transformed, coauthor_transformed],axis=1)\n",
    "\n"
   ]
  },
  {
   "cell_type": "code",
   "execution_count": 17,
   "id": "a85add93",
   "metadata": {},
   "outputs": [],
   "source": [
    "transformed_df_comb['target'] = transformed_df['target'].values"
   ]
  },
  {
   "cell_type": "code",
   "execution_count": 18,
   "id": "1a7b1480",
   "metadata": {},
   "outputs": [
    {
     "data": {
      "text/html": [
       "<div>\n",
       "<style scoped>\n",
       "    .dataframe tbody tr th:only-of-type {\n",
       "        vertical-align: middle;\n",
       "    }\n",
       "\n",
       "    .dataframe tbody tr th {\n",
       "        vertical-align: top;\n",
       "    }\n",
       "\n",
       "    .dataframe thead th {\n",
       "        text-align: right;\n",
       "    }\n",
       "</style>\n",
       "<table border=\"1\" class=\"dataframe\">\n",
       "  <thead>\n",
       "    <tr style=\"text-align: right;\">\n",
       "      <th></th>\n",
       "      <th>venue_0</th>\n",
       "      <th>venue_1</th>\n",
       "      <th>venue_2</th>\n",
       "      <th>venue_3</th>\n",
       "      <th>venue_4</th>\n",
       "      <th>venue_5</th>\n",
       "      <th>venue_6</th>\n",
       "      <th>venue_7</th>\n",
       "      <th>venue_8</th>\n",
       "      <th>venue_9</th>\n",
       "      <th>...</th>\n",
       "      <th>coauthor_2293</th>\n",
       "      <th>coauthor_2294</th>\n",
       "      <th>coauthor_2295</th>\n",
       "      <th>coauthor_2296</th>\n",
       "      <th>coauthor_2297</th>\n",
       "      <th>coauthor_2298</th>\n",
       "      <th>coauthor_2299</th>\n",
       "      <th>coauthor_2300</th>\n",
       "      <th>coauthor_2301</th>\n",
       "      <th>target</th>\n",
       "    </tr>\n",
       "  </thead>\n",
       "  <tbody>\n",
       "    <tr>\n",
       "      <th>0</th>\n",
       "      <td>0</td>\n",
       "      <td>0</td>\n",
       "      <td>0</td>\n",
       "      <td>0</td>\n",
       "      <td>0</td>\n",
       "      <td>0</td>\n",
       "      <td>0</td>\n",
       "      <td>0</td>\n",
       "      <td>0</td>\n",
       "      <td>0</td>\n",
       "      <td>...</td>\n",
       "      <td>0</td>\n",
       "      <td>0</td>\n",
       "      <td>0</td>\n",
       "      <td>0</td>\n",
       "      <td>0</td>\n",
       "      <td>0</td>\n",
       "      <td>0</td>\n",
       "      <td>0</td>\n",
       "      <td>0</td>\n",
       "      <td>1605</td>\n",
       "    </tr>\n",
       "    <tr>\n",
       "      <th>1</th>\n",
       "      <td>0</td>\n",
       "      <td>0</td>\n",
       "      <td>0</td>\n",
       "      <td>0</td>\n",
       "      <td>0</td>\n",
       "      <td>0</td>\n",
       "      <td>0</td>\n",
       "      <td>0</td>\n",
       "      <td>0</td>\n",
       "      <td>0</td>\n",
       "      <td>...</td>\n",
       "      <td>0</td>\n",
       "      <td>0</td>\n",
       "      <td>0</td>\n",
       "      <td>0</td>\n",
       "      <td>0</td>\n",
       "      <td>0</td>\n",
       "      <td>0</td>\n",
       "      <td>0</td>\n",
       "      <td>0</td>\n",
       "      <td>759</td>\n",
       "    </tr>\n",
       "    <tr>\n",
       "      <th>2</th>\n",
       "      <td>1</td>\n",
       "      <td>0</td>\n",
       "      <td>0</td>\n",
       "      <td>0</td>\n",
       "      <td>0</td>\n",
       "      <td>0</td>\n",
       "      <td>0</td>\n",
       "      <td>0</td>\n",
       "      <td>0</td>\n",
       "      <td>0</td>\n",
       "      <td>...</td>\n",
       "      <td>0</td>\n",
       "      <td>0</td>\n",
       "      <td>0</td>\n",
       "      <td>0</td>\n",
       "      <td>0</td>\n",
       "      <td>0</td>\n",
       "      <td>0</td>\n",
       "      <td>0</td>\n",
       "      <td>0</td>\n",
       "      <td>2182</td>\n",
       "    </tr>\n",
       "    <tr>\n",
       "      <th>3</th>\n",
       "      <td>0</td>\n",
       "      <td>1</td>\n",
       "      <td>0</td>\n",
       "      <td>0</td>\n",
       "      <td>0</td>\n",
       "      <td>0</td>\n",
       "      <td>0</td>\n",
       "      <td>0</td>\n",
       "      <td>0</td>\n",
       "      <td>0</td>\n",
       "      <td>...</td>\n",
       "      <td>0</td>\n",
       "      <td>0</td>\n",
       "      <td>0</td>\n",
       "      <td>0</td>\n",
       "      <td>0</td>\n",
       "      <td>0</td>\n",
       "      <td>0</td>\n",
       "      <td>0</td>\n",
       "      <td>0</td>\n",
       "      <td>2176</td>\n",
       "    </tr>\n",
       "    <tr>\n",
       "      <th>4</th>\n",
       "      <td>0</td>\n",
       "      <td>0</td>\n",
       "      <td>1</td>\n",
       "      <td>0</td>\n",
       "      <td>0</td>\n",
       "      <td>0</td>\n",
       "      <td>0</td>\n",
       "      <td>0</td>\n",
       "      <td>0</td>\n",
       "      <td>0</td>\n",
       "      <td>...</td>\n",
       "      <td>0</td>\n",
       "      <td>0</td>\n",
       "      <td>0</td>\n",
       "      <td>0</td>\n",
       "      <td>0</td>\n",
       "      <td>0</td>\n",
       "      <td>0</td>\n",
       "      <td>0</td>\n",
       "      <td>0</td>\n",
       "      <td>1107</td>\n",
       "    </tr>\n",
       "  </tbody>\n",
       "</table>\n",
       "<p>5 rows × 3284 columns</p>\n",
       "</div>"
      ],
      "text/plain": [
       "   venue_0  venue_1  venue_2  venue_3  venue_4  venue_5  venue_6  venue_7  \\\n",
       "0        0        0        0        0        0        0        0        0   \n",
       "1        0        0        0        0        0        0        0        0   \n",
       "2        1        0        0        0        0        0        0        0   \n",
       "3        0        1        0        0        0        0        0        0   \n",
       "4        0        0        1        0        0        0        0        0   \n",
       "\n",
       "   venue_8  venue_9  ...  coauthor_2293  coauthor_2294  coauthor_2295  \\\n",
       "0        0        0  ...              0              0              0   \n",
       "1        0        0  ...              0              0              0   \n",
       "2        0        0  ...              0              0              0   \n",
       "3        0        0  ...              0              0              0   \n",
       "4        0        0  ...              0              0              0   \n",
       "\n",
       "   coauthor_2296  coauthor_2297  coauthor_2298  coauthor_2299  coauthor_2300  \\\n",
       "0              0              0              0              0              0   \n",
       "1              0              0              0              0              0   \n",
       "2              0              0              0              0              0   \n",
       "3              0              0              0              0              0   \n",
       "4              0              0              0              0              0   \n",
       "\n",
       "   coauthor_2301  target  \n",
       "0              0    1605  \n",
       "1              0     759  \n",
       "2              0    2182  \n",
       "3              0    2176  \n",
       "4              0    1107  \n",
       "\n",
       "[5 rows x 3284 columns]"
      ]
     },
     "execution_count": 18,
     "metadata": {},
     "output_type": "execute_result"
    }
   ],
   "source": [
    "transformed_df_comb.head()"
   ]
  },
  {
   "cell_type": "code",
   "execution_count": null,
   "id": "cb3dd2ec",
   "metadata": {},
   "outputs": [],
   "source": []
  },
  {
   "cell_type": "markdown",
   "id": "6179eb1b",
   "metadata": {},
   "source": [
    "## 2. Train test split"
   ]
  },
  {
   "cell_type": "code",
   "execution_count": 19,
   "id": "22ff164d",
   "metadata": {},
   "outputs": [
    {
     "name": "stdout",
     "output_type": "stream",
     "text": [
      "X_train shape: (38400, 3283), y_train shape: (38400,)\n",
      "X_val   shape: (9600, 3283), y_val   shape: (9600,)\n"
     ]
    }
   ],
   "source": [
    "from sklearn.model_selection import train_test_split\n",
    "X_train, X_val,y_train,   y_val = train_test_split(transformed_df_comb.iloc[:,:-1], transformed_df_comb['target'],test_size=0.2, random_state=90051)\n",
    "\n",
    "print(\"X_train shape: {}, y_train shape: {}\".format(X_train.shape, y_train.shape))\n",
    "print(\"X_val   shape: {}, y_val   shape: {}\".format(X_val.shape, y_val.shape))\n",
    "\n"
   ]
  },
  {
   "cell_type": "code",
   "execution_count": 20,
   "id": "9fe4015e",
   "metadata": {},
   "outputs": [
    {
     "name": "stdout",
     "output_type": "stream",
     "text": [
      "X_val_comb shape:  (19200, 3283)\n",
      "y_val_comb shape:  (24000,)\n"
     ]
    }
   ],
   "source": [
    "X_val_pos = X_val\n",
    "X_val_neg = X_val\n",
    "y_val_pos = y_val\n",
    "y_val_neg = pd.Series(np.random.choice([i for i in range(2302)], 14400))\n",
    "X_val_comb = pd.concat([X_val_pos, X_val_neg],axis = 0)\n",
    "y_val_comb = y_val_pos.append(y_val_neg, ignore_index=True)\n",
    "\n",
    "true_label = [1 for i in range(X_val_pos.shape[0])]+[0 for i in range(X_val_pos.shape[0])]\n",
    "print(\"X_val_comb shape: \", X_val_comb.shape)\n",
    "print(\"y_val_comb shape: \", y_val_comb.shape)"
   ]
  },
  {
   "cell_type": "markdown",
   "id": "a286cac1",
   "metadata": {},
   "source": [
    "## 3. Model: Multinomal NB"
   ]
  },
  {
   "cell_type": "code",
   "execution_count": 21,
   "id": "8f9efaff",
   "metadata": {},
   "outputs": [
    {
     "data": {
      "text/plain": [
       "MultinomialNB()"
      ]
     },
     "execution_count": 21,
     "metadata": {},
     "output_type": "execute_result"
    }
   ],
   "source": [
    "from sklearn.naive_bayes import MultinomialNB\n",
    "clf_NB = MultinomialNB()\n",
    "clf_NB.fit(X_train, y_train)"
   ]
  },
  {
   "cell_type": "code",
   "execution_count": 22,
   "id": "65b68e27",
   "metadata": {},
   "outputs": [
    {
     "data": {
      "text/plain": [
       "0.8625240125868056"
      ]
     },
     "execution_count": 22,
     "metadata": {},
     "output_type": "execute_result"
    }
   ],
   "source": [
    "from sklearn.metrics import roc_auc_score\n",
    "\n",
    "pred_NB = clf_NB.predict_proba(X_val_comb)\n",
    "res = []\n",
    "for i in range(len(pred_NB)):\n",
    "    res.append(pred_NB[i][y_val_comb[i]])\n",
    "\n",
    "roc_auc_score(true_label, res) #0.8625240125868056\n"
   ]
  },
  {
   "cell_type": "markdown",
   "id": "70568c78",
   "metadata": {},
   "source": [
    "## 3. Model: LR"
   ]
  },
  {
   "cell_type": "code",
   "execution_count": 23,
   "id": "b49bd7ae",
   "metadata": {},
   "outputs": [],
   "source": [
    "from sklearn.metrics import roc_auc_score"
   ]
  },
  {
   "cell_type": "code",
   "execution_count": 24,
   "id": "10d69068",
   "metadata": {},
   "outputs": [],
   "source": [
    "from sklearn.multiclass import OneVsRestClassifier\n",
    "from sklearn.linear_model import LogisticRegression"
   ]
  },
  {
   "cell_type": "markdown",
   "id": "196c115d",
   "metadata": {},
   "source": [
    "- C=0.1"
   ]
  },
  {
   "cell_type": "code",
   "execution_count": 25,
   "id": "24d28241",
   "metadata": {},
   "outputs": [
    {
     "name": "stderr",
     "output_type": "stream",
     "text": [
      "[Parallel(n_jobs=1)]: Using backend SequentialBackend with 1 concurrent workers.\n",
      " This problem is unconstrained.\n"
     ]
    },
    {
     "name": "stdout",
     "output_type": "stream",
     "text": [
      "RUNNING THE L-BFGS-B CODE\n",
      "\n",
      "           * * *\n",
      "\n",
      "Machine precision = 2.220D-16\n",
      " N =      7559768     M =           10\n",
      "\n",
      "At X0         0 variables are exactly at the bounds\n",
      "\n",
      "At iterate    0    f=  2.97275D+05    |proj g|=  1.36319D+02\n",
      "\n",
      "           * * *\n",
      "\n",
      "Tit   = total number of iterations\n",
      "Tnf   = total number of function evaluations\n",
      "Tnint = total number of segments explored during Cauchy searches\n",
      "Skip  = number of BFGS updates skipped\n",
      "Nact  = number of active bounds at final generalized Cauchy point\n",
      "Projg = norm of the final projected gradient\n",
      "F     = final function value\n",
      "\n",
      "           * * *\n",
      "\n",
      "   N    Tit     Tnf  Tnint  Skip  Nact     Projg        F\n",
      "*****     41     47      1     0     0   4.757D-02   2.627D+05\n",
      "  F =   262714.77227337018     \n",
      "\n",
      "CONVERGENCE: REL_REDUCTION_OF_F_<=_FACTR*EPSMCH             \n",
      "CPU times: user 29min 15s, sys: 2min 2s, total: 31min 17s\n",
      "Wall time: 11min 5s\n"
     ]
    },
    {
     "name": "stderr",
     "output_type": "stream",
     "text": [
      "[Parallel(n_jobs=1)]: Done   1 out of   1 | elapsed: 11.0min finished\n"
     ]
    },
    {
     "data": {
      "text/plain": [
       "LogisticRegression(C=0.1, multi_class='multinomial', verbose=True)"
      ]
     },
     "execution_count": 25,
     "metadata": {},
     "output_type": "execute_result"
    }
   ],
   "source": [
    "%%time\n",
    "\n",
    "clf_LR_01 = LogisticRegression(multi_class=\"multinomial\", C=0.1, verbose=True)\n",
    "clf_LR_01.fit(X_train, y_train)      "
   ]
  },
  {
   "cell_type": "code",
   "execution_count": 26,
   "id": "c217da00",
   "metadata": {},
   "outputs": [
    {
     "data": {
      "text/plain": [
       "0.8142860785590277"
      ]
     },
     "execution_count": 26,
     "metadata": {},
     "output_type": "execute_result"
    }
   ],
   "source": [
    "pred_LR_01 = clf_LR_01.predict_proba(X_val_comb)\n",
    "res_01 = []\n",
    "for i in range(len(pred_LR_01)):\n",
    "    res_01.append(pred_LR_01[i][y_val_comb[i]])\n",
    "\n",
    "roc_auc_score(true_label, res_01)  #0.8142860785590277"
   ]
  },
  {
   "cell_type": "markdown",
   "id": "c4ce820a",
   "metadata": {},
   "source": [
    "- C=1"
   ]
  },
  {
   "cell_type": "code",
   "execution_count": 27,
   "id": "026b8a83",
   "metadata": {},
   "outputs": [
    {
     "name": "stderr",
     "output_type": "stream",
     "text": [
      "[Parallel(n_jobs=1)]: Using backend SequentialBackend with 1 concurrent workers.\n"
     ]
    },
    {
     "name": "stdout",
     "output_type": "stream",
     "text": [
      "RUNNING THE L-BFGS-B CODE\n",
      "\n",
      "           * * *\n",
      "\n",
      "Machine precision = 2.220D-16\n",
      " N =      7559768     M =           10\n",
      "\n",
      "At X0         0 variables are exactly at the bounds\n"
     ]
    },
    {
     "name": "stderr",
     "output_type": "stream",
     "text": [
      " This problem is unconstrained.\n"
     ]
    },
    {
     "name": "stdout",
     "output_type": "stream",
     "text": [
      "\n",
      "At iterate    0    f=  2.97275D+05    |proj g|=  1.36319D+02\n",
      "\n",
      "At iterate   50    f=  1.58805D+05    |proj g|=  4.30335D-01\n",
      "\n",
      "           * * *\n",
      "\n",
      "Tit   = total number of iterations\n",
      "Tnf   = total number of function evaluations\n",
      "Tnint = total number of segments explored during Cauchy searches\n",
      "Skip  = number of BFGS updates skipped\n",
      "Nact  = number of active bounds at final generalized Cauchy point\n",
      "Projg = norm of the final projected gradient\n",
      "F     = final function value\n",
      "\n",
      "           * * *\n",
      "\n",
      "   N    Tit     Tnf  Tnint  Skip  Nact     Projg        F\n",
      "*****     76     84      1     0     0   2.677D-02   1.588D+05\n",
      "  F =   158804.04363234574     \n",
      "\n",
      "CONVERGENCE: REL_REDUCTION_OF_F_<=_FACTR*EPSMCH             \n",
      "CPU times: user 51min 1s, sys: 3min 16s, total: 54min 18s\n",
      "Wall time: 18min 56s\n"
     ]
    },
    {
     "name": "stderr",
     "output_type": "stream",
     "text": [
      "[Parallel(n_jobs=1)]: Done   1 out of   1 | elapsed: 18.8min finished\n"
     ]
    },
    {
     "data": {
      "text/plain": [
       "LogisticRegression(C=1, multi_class='multinomial', verbose=True)"
      ]
     },
     "execution_count": 27,
     "metadata": {},
     "output_type": "execute_result"
    }
   ],
   "source": [
    "%%time\n",
    "\n",
    "clf_LR_1 = LogisticRegression(multi_class=\"multinomial\", C=1, verbose=True)\n",
    "clf_LR_1.fit(X_train, y_train)"
   ]
  },
  {
   "cell_type": "code",
   "execution_count": 28,
   "id": "af0ee8e9",
   "metadata": {},
   "outputs": [
    {
     "data": {
      "text/plain": [
       "0.9470608289930555"
      ]
     },
     "execution_count": 28,
     "metadata": {},
     "output_type": "execute_result"
    }
   ],
   "source": [
    "pred_LR_1 = clf_LR_1.predict_proba(X_val_comb)\n",
    "res_1 = []\n",
    "for i in range(len(pred_LR_1)):\n",
    "    res_1.append(pred_LR_1[i][y_val_comb[i]])\n",
    "\n",
    "roc_auc_score(true_label, res_1) #0.9470608289930555"
   ]
  },
  {
   "cell_type": "code",
   "execution_count": null,
   "id": "e269d49b",
   "metadata": {},
   "outputs": [],
   "source": []
  },
  {
   "cell_type": "markdown",
   "id": "59767423",
   "metadata": {},
   "source": [
    "## 4. Read on test data"
   ]
  },
  {
   "cell_type": "code",
   "execution_count": 29,
   "id": "675cfd47",
   "metadata": {},
   "outputs": [
    {
     "data": {
      "text/html": [
       "<div>\n",
       "<style scoped>\n",
       "    .dataframe tbody tr th:only-of-type {\n",
       "        vertical-align: middle;\n",
       "    }\n",
       "\n",
       "    .dataframe tbody tr th {\n",
       "        vertical-align: top;\n",
       "    }\n",
       "\n",
       "    .dataframe thead th {\n",
       "        text-align: right;\n",
       "    }\n",
       "</style>\n",
       "<table border=\"1\" class=\"dataframe\">\n",
       "  <thead>\n",
       "    <tr style=\"text-align: right;\">\n",
       "      <th></th>\n",
       "      <th>venue</th>\n",
       "      <th>keywords</th>\n",
       "      <th>year</th>\n",
       "      <th>coauthor</th>\n",
       "      <th>target</th>\n",
       "    </tr>\n",
       "  </thead>\n",
       "  <tbody>\n",
       "    <tr>\n",
       "      <th>0</th>\n",
       "      <td></td>\n",
       "      <td>[260, 6, 390, 136, 7, 11, 17, 285, 288, 162, 4...</td>\n",
       "      <td>2017</td>\n",
       "      <td>[]</td>\n",
       "      <td>988</td>\n",
       "    </tr>\n",
       "    <tr>\n",
       "      <th>1</th>\n",
       "      <td>94</td>\n",
       "      <td>[260, 454, 137, 14, 400, 274, 339, 213, 280, 2...</td>\n",
       "      <td>2019</td>\n",
       "      <td>[1001]</td>\n",
       "      <td>2123</td>\n",
       "    </tr>\n",
       "    <tr>\n",
       "      <th>2</th>\n",
       "      <td>31</td>\n",
       "      <td>[390, 198, 7, 461, 462, 14, 404, 277, 24, 473,...</td>\n",
       "      <td>2014</td>\n",
       "      <td>[]</td>\n",
       "      <td>1578</td>\n",
       "    </tr>\n",
       "    <tr>\n",
       "      <th>3</th>\n",
       "      <td>6</td>\n",
       "      <td>[195, 6, 390, 10, 459, 464, 338, 146, 276, 466...</td>\n",
       "      <td>2010</td>\n",
       "      <td>[1347]</td>\n",
       "      <td>2072</td>\n",
       "    </tr>\n",
       "    <tr>\n",
       "      <th>4</th>\n",
       "      <td>162</td>\n",
       "      <td>[64, 1, 260, 457, 73, 147, 282, 27, 156, 43, 3...</td>\n",
       "      <td>2016</td>\n",
       "      <td>[1107]</td>\n",
       "      <td>995</td>\n",
       "    </tr>\n",
       "  </tbody>\n",
       "</table>\n",
       "</div>"
      ],
      "text/plain": [
       "  venue                                           keywords  year coauthor  \\\n",
       "0        [260, 6, 390, 136, 7, 11, 17, 285, 288, 162, 4...  2017       []   \n",
       "1    94  [260, 454, 137, 14, 400, 274, 339, 213, 280, 2...  2019   [1001]   \n",
       "2    31  [390, 198, 7, 461, 462, 14, 404, 277, 24, 473,...  2014       []   \n",
       "3     6  [195, 6, 390, 10, 459, 464, 338, 146, 276, 466...  2010   [1347]   \n",
       "4   162  [64, 1, 260, 457, 73, 147, 282, 27, 156, 43, 3...  2016   [1107]   \n",
       "\n",
       "  target  \n",
       "0    988  \n",
       "1   2123  \n",
       "2   1578  \n",
       "3   2072  \n",
       "4    995  "
      ]
     },
     "execution_count": 29,
     "metadata": {},
     "output_type": "execute_result"
    }
   ],
   "source": [
    "test_df = read_json('comp90051-22-s1-p1/test.json')\n",
    "test_df.head(5)"
   ]
  },
  {
   "cell_type": "markdown",
   "id": "acf25972",
   "metadata": {},
   "source": [
    "- One hot"
   ]
  },
  {
   "cell_type": "code",
   "execution_count": 30,
   "id": "1986ddfd",
   "metadata": {},
   "outputs": [],
   "source": [
    "test_df.loc[test_df['venue']=='',['venue']]=470\n",
    "venue_transformed_test = get_onehot_col(test_df['venue'], 471, \"venue\")\n",
    "\n",
    "#keywords_transformed_test = get_onehot_col(test_df['keywords'], 500, \"keywords\")\n",
    "\n",
    "test_df['year'] = test_df['year']-2000\n",
    "year_transformed_test = get_onehot_col(test_df['year'], 20, \"year\")\n",
    "\n",
    "coauthor_transformed_test = get_onehot_col(test_df['coauthor'], 2302, \"coauthor\")\n",
    "\n",
    "target_transformed_test = get_onehot_col(test_df['target'], 2302, \"target\")\n",
    "\n",
    "\n",
    "\n"
   ]
  },
  {
   "cell_type": "code",
   "execution_count": 31,
   "id": "3d17a3ef",
   "metadata": {},
   "outputs": [
    {
     "data": {
      "text/html": [
       "<div>\n",
       "<style scoped>\n",
       "    .dataframe tbody tr th:only-of-type {\n",
       "        vertical-align: middle;\n",
       "    }\n",
       "\n",
       "    .dataframe tbody tr th {\n",
       "        vertical-align: top;\n",
       "    }\n",
       "\n",
       "    .dataframe thead th {\n",
       "        text-align: right;\n",
       "    }\n",
       "</style>\n",
       "<table border=\"1\" class=\"dataframe\">\n",
       "  <thead>\n",
       "    <tr style=\"text-align: right;\">\n",
       "      <th></th>\n",
       "      <th>venue</th>\n",
       "      <th>keywords</th>\n",
       "      <th>year</th>\n",
       "      <th>coauthor</th>\n",
       "      <th>target</th>\n",
       "    </tr>\n",
       "  </thead>\n",
       "  <tbody>\n",
       "    <tr>\n",
       "      <th>0</th>\n",
       "      <td>470</td>\n",
       "      <td>[260, 6, 390, 136, 7, 11, 17, 285, 288, 162, 4...</td>\n",
       "      <td>17</td>\n",
       "      <td>[]</td>\n",
       "      <td>988</td>\n",
       "    </tr>\n",
       "    <tr>\n",
       "      <th>1</th>\n",
       "      <td>94</td>\n",
       "      <td>[260, 454, 137, 14, 400, 274, 339, 213, 280, 2...</td>\n",
       "      <td>19</td>\n",
       "      <td>[1001]</td>\n",
       "      <td>2123</td>\n",
       "    </tr>\n",
       "    <tr>\n",
       "      <th>2</th>\n",
       "      <td>31</td>\n",
       "      <td>[390, 198, 7, 461, 462, 14, 404, 277, 24, 473,...</td>\n",
       "      <td>14</td>\n",
       "      <td>[]</td>\n",
       "      <td>1578</td>\n",
       "    </tr>\n",
       "    <tr>\n",
       "      <th>3</th>\n",
       "      <td>6</td>\n",
       "      <td>[195, 6, 390, 10, 459, 464, 338, 146, 276, 466...</td>\n",
       "      <td>10</td>\n",
       "      <td>[1347]</td>\n",
       "      <td>2072</td>\n",
       "    </tr>\n",
       "    <tr>\n",
       "      <th>4</th>\n",
       "      <td>162</td>\n",
       "      <td>[64, 1, 260, 457, 73, 147, 282, 27, 156, 43, 3...</td>\n",
       "      <td>16</td>\n",
       "      <td>[1107]</td>\n",
       "      <td>995</td>\n",
       "    </tr>\n",
       "    <tr>\n",
       "      <th>...</th>\n",
       "      <td>...</td>\n",
       "      <td>...</td>\n",
       "      <td>...</td>\n",
       "      <td>...</td>\n",
       "      <td>...</td>\n",
       "    </tr>\n",
       "    <tr>\n",
       "      <th>1995</th>\n",
       "      <td>14</td>\n",
       "      <td>[194, 260, 69, 73, 14, 462, 334, 17, 336, 280,...</td>\n",
       "      <td>15</td>\n",
       "      <td>[]</td>\n",
       "      <td>1876</td>\n",
       "    </tr>\n",
       "    <tr>\n",
       "      <th>1996</th>\n",
       "      <td>5</td>\n",
       "      <td>[64, 260, 261, 135, 7, 75, 332, 334, 15, 463, ...</td>\n",
       "      <td>16</td>\n",
       "      <td>[]</td>\n",
       "      <td>1976</td>\n",
       "    </tr>\n",
       "    <tr>\n",
       "      <th>1997</th>\n",
       "      <td>58</td>\n",
       "      <td>[451, 136, 459, 15, 146, 276, 342, 285, 222, 2...</td>\n",
       "      <td>4</td>\n",
       "      <td>[646]</td>\n",
       "      <td>1131</td>\n",
       "    </tr>\n",
       "    <tr>\n",
       "      <th>1998</th>\n",
       "      <td>6</td>\n",
       "      <td>[128, 64, 322, 260, 261, 388, 391, 455, 265, 1...</td>\n",
       "      <td>16</td>\n",
       "      <td>[1684, 1040, 1713]</td>\n",
       "      <td>2124</td>\n",
       "    </tr>\n",
       "    <tr>\n",
       "      <th>1999</th>\n",
       "      <td>470</td>\n",
       "      <td>[132, 271, 17, 19, 148, 278, 409, 287, 161, 29...</td>\n",
       "      <td>11</td>\n",
       "      <td>[]</td>\n",
       "      <td>427</td>\n",
       "    </tr>\n",
       "  </tbody>\n",
       "</table>\n",
       "<p>2000 rows × 5 columns</p>\n",
       "</div>"
      ],
      "text/plain": [
       "     venue                                           keywords year  \\\n",
       "0      470  [260, 6, 390, 136, 7, 11, 17, 285, 288, 162, 4...   17   \n",
       "1       94  [260, 454, 137, 14, 400, 274, 339, 213, 280, 2...   19   \n",
       "2       31  [390, 198, 7, 461, 462, 14, 404, 277, 24, 473,...   14   \n",
       "3        6  [195, 6, 390, 10, 459, 464, 338, 146, 276, 466...   10   \n",
       "4      162  [64, 1, 260, 457, 73, 147, 282, 27, 156, 43, 3...   16   \n",
       "...    ...                                                ...  ...   \n",
       "1995    14  [194, 260, 69, 73, 14, 462, 334, 17, 336, 280,...   15   \n",
       "1996     5  [64, 260, 261, 135, 7, 75, 332, 334, 15, 463, ...   16   \n",
       "1997    58  [451, 136, 459, 15, 146, 276, 342, 285, 222, 2...    4   \n",
       "1998     6  [128, 64, 322, 260, 261, 388, 391, 455, 265, 1...   16   \n",
       "1999   470  [132, 271, 17, 19, 148, 278, 409, 287, 161, 29...   11   \n",
       "\n",
       "                coauthor target  \n",
       "0                     []    988  \n",
       "1                 [1001]   2123  \n",
       "2                     []   1578  \n",
       "3                 [1347]   2072  \n",
       "4                 [1107]    995  \n",
       "...                  ...    ...  \n",
       "1995                  []   1876  \n",
       "1996                  []   1976  \n",
       "1997               [646]   1131  \n",
       "1998  [1684, 1040, 1713]   2124  \n",
       "1999                  []    427  \n",
       "\n",
       "[2000 rows x 5 columns]"
      ]
     },
     "execution_count": 31,
     "metadata": {},
     "output_type": "execute_result"
    }
   ],
   "source": [
    "test_df"
   ]
  },
  {
   "cell_type": "markdown",
   "id": "b4e331b8",
   "metadata": {},
   "source": [
    "- tf-idf"
   ]
  },
  {
   "cell_type": "code",
   "execution_count": 32,
   "id": "047d10a6",
   "metadata": {},
   "outputs": [],
   "source": [
    "keywords_transformed_lst_test = test_df['keywords'].apply(list_to_str)\n",
    "\n",
    "keywords_embedding_test = vectorizer.transform(list(keywords_transformed_lst_test))\n",
    "\n",
    "\n",
    "keywords_transformed_test_tfidf = pd.DataFrame.sparse.from_spmatrix(keywords_embedding_test, columns=['keywords_'+str(i) for i in range(keywords_embedding.shape[1])])"
   ]
  },
  {
   "cell_type": "markdown",
   "id": "5fc1829b",
   "metadata": {},
   "source": [
    "- combine"
   ]
  },
  {
   "cell_type": "code",
   "execution_count": 33,
   "id": "1258f641",
   "metadata": {},
   "outputs": [],
   "source": [
    "# transformed_df_comb_test = pd.concat([venue_transformed_test,keywords_transformed_test,keywords_transformed_test_tfidf,year_transformed_test,test_df['year'].reset_index(drop=True),coauthor_transformed_test],axis=1)\n",
    "\n",
    "transformed_df_comb_test = pd.concat([venue_transformed_test,keywords_transformed_test_tfidf,year_transformed_test,coauthor_transformed_test],axis=1)\n",
    "target = test_df['target']\n",
    "\n",
    "\n"
   ]
  },
  {
   "cell_type": "code",
   "execution_count": 82,
   "id": "8b5e99ac",
   "metadata": {},
   "outputs": [
    {
     "data": {
      "text/plain": [
       "(2000, 3284)"
      ]
     },
     "execution_count": 82,
     "metadata": {},
     "output_type": "execute_result"
    }
   ],
   "source": [
    "transformed_df_comb_test.shape"
   ]
  },
  {
   "cell_type": "markdown",
   "id": "40054cb1",
   "metadata": {},
   "source": [
    "## 5. Fit on test data - MNB\n",
    "- AUC on Kaggle: "
   ]
  },
  {
   "cell_type": "code",
   "execution_count": 72,
   "id": "81cd843d",
   "metadata": {
    "collapsed": true
   },
   "outputs": [
    {
     "ename": "AttributeError",
     "evalue": "'MultinomialNB' object has no attribute 'feature_log_prob_'",
     "output_type": "error",
     "traceback": [
      "\u001b[0;31m---------------------------------------------------------------------------\u001b[0m",
      "\u001b[0;31mAttributeError\u001b[0m                            Traceback (most recent call last)",
      "\u001b[0;32m/var/folders/w1/d3p_d5tj66d_l8ljkjjbgwmh0000gn/T/ipykernel_3767/781872947.py\u001b[0m in \u001b[0;36m<module>\u001b[0;34m\u001b[0m\n\u001b[0;32m----> 1\u001b[0;31m \u001b[0mpred_MNB_test\u001b[0m \u001b[0;34m=\u001b[0m \u001b[0mclf_MNB\u001b[0m\u001b[0;34m.\u001b[0m\u001b[0mpredict_proba\u001b[0m\u001b[0;34m(\u001b[0m\u001b[0mtransformed_df_comb_test\u001b[0m\u001b[0;34m)\u001b[0m\u001b[0;34m\u001b[0m\u001b[0;34m\u001b[0m\u001b[0m\n\u001b[0m\u001b[1;32m      2\u001b[0m \u001b[0mres_test_MNB\u001b[0m \u001b[0;34m=\u001b[0m \u001b[0;34m[\u001b[0m\u001b[0;34m]\u001b[0m\u001b[0;34m\u001b[0m\u001b[0;34m\u001b[0m\u001b[0m\n\u001b[1;32m      3\u001b[0m \u001b[0;32mfor\u001b[0m \u001b[0mi\u001b[0m \u001b[0;32min\u001b[0m \u001b[0mrange\u001b[0m\u001b[0;34m(\u001b[0m\u001b[0mlen\u001b[0m\u001b[0;34m(\u001b[0m\u001b[0mpred_MNB_test\u001b[0m\u001b[0;34m)\u001b[0m\u001b[0;34m)\u001b[0m\u001b[0;34m:\u001b[0m\u001b[0;34m\u001b[0m\u001b[0;34m\u001b[0m\u001b[0m\n\u001b[1;32m      4\u001b[0m     \u001b[0mres_test_MNB\u001b[0m\u001b[0;34m.\u001b[0m\u001b[0mappend\u001b[0m\u001b[0;34m(\u001b[0m\u001b[0mpred_MNB_test\u001b[0m\u001b[0;34m[\u001b[0m\u001b[0mi\u001b[0m\u001b[0;34m]\u001b[0m\u001b[0;34m[\u001b[0m\u001b[0mtarget\u001b[0m\u001b[0;34m[\u001b[0m\u001b[0mi\u001b[0m\u001b[0;34m]\u001b[0m\u001b[0;34m]\u001b[0m\u001b[0;34m)\u001b[0m\u001b[0;34m\u001b[0m\u001b[0;34m\u001b[0m\u001b[0m\n\u001b[1;32m      5\u001b[0m \u001b[0;34m\u001b[0m\u001b[0m\n",
      "\u001b[0;32m~/opt/anaconda3/envs/python385/lib/python3.8/site-packages/sklearn/naive_bayes.py\u001b[0m in \u001b[0;36mpredict_proba\u001b[0;34m(self, X)\u001b[0m\n\u001b[1;32m    113\u001b[0m             \u001b[0morder\u001b[0m\u001b[0;34m,\u001b[0m \u001b[0;32mas\u001b[0m \u001b[0mthey\u001b[0m \u001b[0mappear\u001b[0m \u001b[0;32min\u001b[0m \u001b[0mthe\u001b[0m \u001b[0mattribute\u001b[0m \u001b[0;34m:\u001b[0m\u001b[0mterm\u001b[0m\u001b[0;34m:\u001b[0m\u001b[0;31m`\u001b[0m\u001b[0mclasses_\u001b[0m\u001b[0;31m`\u001b[0m\u001b[0;34m.\u001b[0m\u001b[0;34m\u001b[0m\u001b[0;34m\u001b[0m\u001b[0m\n\u001b[1;32m    114\u001b[0m         \"\"\"\n\u001b[0;32m--> 115\u001b[0;31m         \u001b[0;32mreturn\u001b[0m \u001b[0mnp\u001b[0m\u001b[0;34m.\u001b[0m\u001b[0mexp\u001b[0m\u001b[0;34m(\u001b[0m\u001b[0mself\u001b[0m\u001b[0;34m.\u001b[0m\u001b[0mpredict_log_proba\u001b[0m\u001b[0;34m(\u001b[0m\u001b[0mX\u001b[0m\u001b[0;34m)\u001b[0m\u001b[0;34m)\u001b[0m\u001b[0;34m\u001b[0m\u001b[0;34m\u001b[0m\u001b[0m\n\u001b[0m\u001b[1;32m    116\u001b[0m \u001b[0;34m\u001b[0m\u001b[0m\n\u001b[1;32m    117\u001b[0m \u001b[0;34m\u001b[0m\u001b[0m\n",
      "\u001b[0;32m~/opt/anaconda3/envs/python385/lib/python3.8/site-packages/sklearn/naive_bayes.py\u001b[0m in \u001b[0;36mpredict_log_proba\u001b[0;34m(self, X)\u001b[0m\n\u001b[1;32m     93\u001b[0m         \u001b[0mcheck_is_fitted\u001b[0m\u001b[0;34m(\u001b[0m\u001b[0mself\u001b[0m\u001b[0;34m)\u001b[0m\u001b[0;34m\u001b[0m\u001b[0;34m\u001b[0m\u001b[0m\n\u001b[1;32m     94\u001b[0m         \u001b[0mX\u001b[0m \u001b[0;34m=\u001b[0m \u001b[0mself\u001b[0m\u001b[0;34m.\u001b[0m\u001b[0m_check_X\u001b[0m\u001b[0;34m(\u001b[0m\u001b[0mX\u001b[0m\u001b[0;34m)\u001b[0m\u001b[0;34m\u001b[0m\u001b[0;34m\u001b[0m\u001b[0m\n\u001b[0;32m---> 95\u001b[0;31m         \u001b[0mjll\u001b[0m \u001b[0;34m=\u001b[0m \u001b[0mself\u001b[0m\u001b[0;34m.\u001b[0m\u001b[0m_joint_log_likelihood\u001b[0m\u001b[0;34m(\u001b[0m\u001b[0mX\u001b[0m\u001b[0;34m)\u001b[0m\u001b[0;34m\u001b[0m\u001b[0;34m\u001b[0m\u001b[0m\n\u001b[0m\u001b[1;32m     96\u001b[0m         \u001b[0;31m# normalize by P(x) = P(f_1, ..., f_n)\u001b[0m\u001b[0;34m\u001b[0m\u001b[0;34m\u001b[0m\u001b[0;34m\u001b[0m\u001b[0m\n\u001b[1;32m     97\u001b[0m         \u001b[0mlog_prob_x\u001b[0m \u001b[0;34m=\u001b[0m \u001b[0mlogsumexp\u001b[0m\u001b[0;34m(\u001b[0m\u001b[0mjll\u001b[0m\u001b[0;34m,\u001b[0m \u001b[0maxis\u001b[0m\u001b[0;34m=\u001b[0m\u001b[0;36m1\u001b[0m\u001b[0;34m)\u001b[0m\u001b[0;34m\u001b[0m\u001b[0;34m\u001b[0m\u001b[0m\n",
      "\u001b[0;32m~/opt/anaconda3/envs/python385/lib/python3.8/site-packages/sklearn/naive_bayes.py\u001b[0m in \u001b[0;36m_joint_log_likelihood\u001b[0;34m(self, X)\u001b[0m\n\u001b[1;32m    783\u001b[0m     \u001b[0;32mdef\u001b[0m \u001b[0m_joint_log_likelihood\u001b[0m\u001b[0;34m(\u001b[0m\u001b[0mself\u001b[0m\u001b[0;34m,\u001b[0m \u001b[0mX\u001b[0m\u001b[0;34m)\u001b[0m\u001b[0;34m:\u001b[0m\u001b[0;34m\u001b[0m\u001b[0;34m\u001b[0m\u001b[0m\n\u001b[1;32m    784\u001b[0m         \u001b[0;34m\"\"\"Calculate the posterior log probability of the samples X\"\"\"\u001b[0m\u001b[0;34m\u001b[0m\u001b[0;34m\u001b[0m\u001b[0m\n\u001b[0;32m--> 785\u001b[0;31m         return (safe_sparse_dot(X, self.feature_log_prob_.T) +\n\u001b[0m\u001b[1;32m    786\u001b[0m                 self.class_log_prior_)\n\u001b[1;32m    787\u001b[0m \u001b[0;34m\u001b[0m\u001b[0m\n",
      "\u001b[0;31mAttributeError\u001b[0m: 'MultinomialNB' object has no attribute 'feature_log_prob_'"
     ]
    }
   ],
   "source": [
    "pred_MNB_test = clf_MNB.predict_proba(transformed_df_comb_test)\n",
    "res_test_MNB = []\n",
    "for i in range(len(pred_MNB_test)):\n",
    "    res_test_MNB.append(pred_MNB_test[i][target[i]])\n",
    "\n"
   ]
  },
  {
   "cell_type": "code",
   "execution_count": 121,
   "id": "558cdfd3",
   "metadata": {},
   "outputs": [],
   "source": [
    "sample_df = pd.read_csv('comp90051-22-s1-p1/sample.csv',index_col=0)\n",
    "sample_df['Predicted'] = res_test_MNB\n",
    "sample_df.to_csv('predicted_MNB.csv')\n"
   ]
  },
  {
   "cell_type": "markdown",
   "id": "324e3d6b",
   "metadata": {},
   "source": [
    "## 5. Fit on test data - LR\n",
    "- AUC on Kaggle: 0.86347\n",
    "- AUC on Kaggle: 0.76389(c=0.1)"
   ]
  },
  {
   "cell_type": "code",
   "execution_count": 34,
   "id": "fa179ae1",
   "metadata": {},
   "outputs": [],
   "source": [
    "pred_LR_test = clf_LR_1.predict_proba(transformed_df_comb_test)\n",
    "res_test = []\n",
    "for i in range(len(pred_LR_test)):\n",
    "    res_test.append(pred_LR_test[i][target[i]])\n"
   ]
  },
  {
   "cell_type": "code",
   "execution_count": 35,
   "id": "9727a0a1",
   "metadata": {},
   "outputs": [],
   "source": [
    "sample_df = pd.read_csv('comp90051-22-s1-p1/sample.csv',index_col=0)\n",
    "sample_df['Predicted'] = res_test\n",
    "sample_df.to_csv('predicted_LR_tfidf_1.csv')"
   ]
  }
 ],
 "metadata": {
  "kernelspec": {
   "display_name": "Python 3 (ipykernel)",
   "language": "python",
   "name": "python3"
  },
  "language_info": {
   "codemirror_mode": {
    "name": "ipython",
    "version": 3
   },
   "file_extension": ".py",
   "mimetype": "text/x-python",
   "name": "python",
   "nbconvert_exporter": "python",
   "pygments_lexer": "ipython3",
   "version": "3.8.5"
  }
 },
 "nbformat": 4,
 "nbformat_minor": 5
}

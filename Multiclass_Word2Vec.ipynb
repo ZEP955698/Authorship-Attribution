{
 "cells": [
  {
   "cell_type": "markdown",
   "id": "e99aabf5",
   "metadata": {},
   "source": [
    "# Project 1: Document author identification"
   ]
  },
  {
   "cell_type": "code",
   "execution_count": 1,
   "id": "bb0cecb7",
   "metadata": {},
   "outputs": [],
   "source": [
    "import warnings\n",
    "warnings.filterwarnings('ignore')"
   ]
  },
  {
   "cell_type": "code",
   "execution_count": 2,
   "id": "d58b093f",
   "metadata": {},
   "outputs": [],
   "source": [
    "import numpy as np\n",
    "import pandas as pd"
   ]
  },
  {
   "cell_type": "code",
   "execution_count": 20,
   "id": "0b790a98",
   "metadata": {},
   "outputs": [],
   "source": [
    "import matplotlib as mpl\n",
    "\n",
    "%matplotlib inline\n",
    "mpl.rcParams['figure.figsize'] = 18, 7\n",
    "pd.set_option('display.float_format', lambda x: '%.5f' % x)"
   ]
  },
  {
   "cell_type": "markdown",
   "id": "704c8957",
   "metadata": {},
   "source": [
    "## 1. Read the file and import data"
   ]
  },
  {
   "cell_type": "code",
   "execution_count": 3,
   "id": "9da8be6d",
   "metadata": {},
   "outputs": [],
   "source": [
    "import json\n",
    "\n",
    "# read json file\n",
    "def read_json(path):\n",
    "    with open(path, 'r') as file:\n",
    "         temp = json.load(file)\n",
    "    df = pd.DataFrame(temp).T\n",
    "    return df"
   ]
  },
  {
   "cell_type": "code",
   "execution_count": 4,
   "id": "b3683731",
   "metadata": {},
   "outputs": [
    {
     "data": {
      "text/html": [
       "<div>\n",
       "<style scoped>\n",
       "    .dataframe tbody tr th:only-of-type {\n",
       "        vertical-align: middle;\n",
       "    }\n",
       "\n",
       "    .dataframe tbody tr th {\n",
       "        vertical-align: top;\n",
       "    }\n",
       "\n",
       "    .dataframe thead th {\n",
       "        text-align: right;\n",
       "    }\n",
       "</style>\n",
       "<table border=\"1\" class=\"dataframe\">\n",
       "  <thead>\n",
       "    <tr style=\"text-align: right;\">\n",
       "      <th></th>\n",
       "      <th>venue</th>\n",
       "      <th>keywords</th>\n",
       "      <th>year</th>\n",
       "      <th>author</th>\n",
       "    </tr>\n",
       "  </thead>\n",
       "  <tbody>\n",
       "    <tr>\n",
       "      <th>0</th>\n",
       "      <td></td>\n",
       "      <td>[64, 1, 322, 134, 136, 396, 270, 144, 476, 481...</td>\n",
       "      <td>2017</td>\n",
       "      <td>[1605, 759]</td>\n",
       "    </tr>\n",
       "    <tr>\n",
       "      <th>1</th>\n",
       "      <td>0</td>\n",
       "      <td>[258, 260, 389, 261, 390, 396, 400, 17, 146, 2...</td>\n",
       "      <td>2013</td>\n",
       "      <td>[2182]</td>\n",
       "    </tr>\n",
       "    <tr>\n",
       "      <th>2</th>\n",
       "      <td>1</td>\n",
       "      <td>[320, 454, 266, 462, 17, 339, 404, 342, 407, 2...</td>\n",
       "      <td>2007</td>\n",
       "      <td>[2176]</td>\n",
       "    </tr>\n",
       "    <tr>\n",
       "      <th>3</th>\n",
       "      <td>2</td>\n",
       "      <td>[260, 132, 333, 15, 400, 272, 146, 401, 278, 3...</td>\n",
       "      <td>2013</td>\n",
       "      <td>[1107]</td>\n",
       "    </tr>\n",
       "    <tr>\n",
       "      <th>4</th>\n",
       "      <td>3</td>\n",
       "      <td>[64, 385, 449, 450, 71, 73, 268, 80, 216, 25, ...</td>\n",
       "      <td>2009</td>\n",
       "      <td>[1414]</td>\n",
       "    </tr>\n",
       "  </tbody>\n",
       "</table>\n",
       "</div>"
      ],
      "text/plain": [
       "  venue                                           keywords  year       author\n",
       "0        [64, 1, 322, 134, 136, 396, 270, 144, 476, 481...  2017  [1605, 759]\n",
       "1     0  [258, 260, 389, 261, 390, 396, 400, 17, 146, 2...  2013       [2182]\n",
       "2     1  [320, 454, 266, 462, 17, 339, 404, 342, 407, 2...  2007       [2176]\n",
       "3     2  [260, 132, 333, 15, 400, 272, 146, 401, 278, 3...  2013       [1107]\n",
       "4     3  [64, 385, 449, 450, 71, 73, 268, 80, 216, 25, ...  2009       [1414]"
      ]
     },
     "execution_count": 4,
     "metadata": {},
     "output_type": "execute_result"
    }
   ],
   "source": [
    "train_df = read_json('comp90051-22-s1-p1/train.json')\n",
    "train_df.head(5)"
   ]
  },
  {
   "cell_type": "code",
   "execution_count": 5,
   "id": "6f21dd37",
   "metadata": {},
   "outputs": [
    {
     "data": {
      "text/html": [
       "<div>\n",
       "<style scoped>\n",
       "    .dataframe tbody tr th:only-of-type {\n",
       "        vertical-align: middle;\n",
       "    }\n",
       "\n",
       "    .dataframe tbody tr th {\n",
       "        vertical-align: top;\n",
       "    }\n",
       "\n",
       "    .dataframe thead th {\n",
       "        text-align: right;\n",
       "    }\n",
       "</style>\n",
       "<table border=\"1\" class=\"dataframe\">\n",
       "  <thead>\n",
       "    <tr style=\"text-align: right;\">\n",
       "      <th></th>\n",
       "      <th>venue</th>\n",
       "      <th>keywords</th>\n",
       "      <th>year</th>\n",
       "      <th>coauthor</th>\n",
       "      <th>target</th>\n",
       "    </tr>\n",
       "  </thead>\n",
       "  <tbody>\n",
       "    <tr>\n",
       "      <th>0</th>\n",
       "      <td></td>\n",
       "      <td>[260, 6, 390, 136, 7, 11, 17, 285, 288, 162, 4...</td>\n",
       "      <td>2017</td>\n",
       "      <td>[]</td>\n",
       "      <td>988</td>\n",
       "    </tr>\n",
       "    <tr>\n",
       "      <th>1</th>\n",
       "      <td>94</td>\n",
       "      <td>[260, 454, 137, 14, 400, 274, 339, 213, 280, 2...</td>\n",
       "      <td>2019</td>\n",
       "      <td>[1001]</td>\n",
       "      <td>2123</td>\n",
       "    </tr>\n",
       "    <tr>\n",
       "      <th>2</th>\n",
       "      <td>31</td>\n",
       "      <td>[390, 198, 7, 461, 462, 14, 404, 277, 24, 473,...</td>\n",
       "      <td>2014</td>\n",
       "      <td>[]</td>\n",
       "      <td>1578</td>\n",
       "    </tr>\n",
       "    <tr>\n",
       "      <th>3</th>\n",
       "      <td>6</td>\n",
       "      <td>[195, 6, 390, 10, 459, 464, 338, 146, 276, 466...</td>\n",
       "      <td>2010</td>\n",
       "      <td>[1347]</td>\n",
       "      <td>2072</td>\n",
       "    </tr>\n",
       "    <tr>\n",
       "      <th>4</th>\n",
       "      <td>162</td>\n",
       "      <td>[64, 1, 260, 457, 73, 147, 282, 27, 156, 43, 3...</td>\n",
       "      <td>2016</td>\n",
       "      <td>[1107]</td>\n",
       "      <td>995</td>\n",
       "    </tr>\n",
       "  </tbody>\n",
       "</table>\n",
       "</div>"
      ],
      "text/plain": [
       "  venue                                           keywords  year coauthor  \\\n",
       "0        [260, 6, 390, 136, 7, 11, 17, 285, 288, 162, 4...  2017       []   \n",
       "1    94  [260, 454, 137, 14, 400, 274, 339, 213, 280, 2...  2019   [1001]   \n",
       "2    31  [390, 198, 7, 461, 462, 14, 404, 277, 24, 473,...  2014       []   \n",
       "3     6  [195, 6, 390, 10, 459, 464, 338, 146, 276, 466...  2010   [1347]   \n",
       "4   162  [64, 1, 260, 457, 73, 147, 282, 27, 156, 43, 3...  2016   [1107]   \n",
       "\n",
       "  target  \n",
       "0    988  \n",
       "1   2123  \n",
       "2   1578  \n",
       "3   2072  \n",
       "4    995  "
      ]
     },
     "execution_count": 5,
     "metadata": {},
     "output_type": "execute_result"
    }
   ],
   "source": [
    "test_df = read_json('comp90051-22-s1-p1/test.json')\n",
    "test_df.head(5)"
   ]
  },
  {
   "cell_type": "code",
   "execution_count": 6,
   "id": "b3ee5b94",
   "metadata": {},
   "outputs": [
    {
     "name": "stdout",
     "output_type": "stream",
     "text": [
      "shape of train_df    = (26108, 4)\n",
      "shape of test_df     = (2000, 5)\n"
     ]
    }
   ],
   "source": [
    "# print dimension for each dataframe\n",
    "print(f\"shape of train_df    = {train_df.shape}\")\n",
    "print(f\"shape of test_df     = {test_df.shape}\")"
   ]
  },
  {
   "cell_type": "markdown",
   "id": "9d631078",
   "metadata": {},
   "source": [
    "## 2. Create Label (make it same as test data)"
   ]
  },
  {
   "cell_type": "code",
   "execution_count": 7,
   "id": "2800e9c1",
   "metadata": {},
   "outputs": [],
   "source": [
    "def get_transformed_df(df):\n",
    "    aus = df['author']\n",
    "    transformed_lst = []\n",
    "    for i in range(df.shape[0]):\n",
    "        for j in aus[i]:\n",
    "            temp = list(df.values[i][:-1])\n",
    "            temp.append([au for au in aus[i] if au!=j])\n",
    "            temp.append(j)\n",
    "            transformed_lst.append(temp)\n",
    "    cols = list(df.columns[:-1])\n",
    "    cols.append('coauthor')\n",
    "    cols.append('target')\n",
    "    return pd.DataFrame(transformed_lst,columns=cols)"
   ]
  },
  {
   "cell_type": "code",
   "execution_count": 8,
   "id": "a695d068",
   "metadata": {},
   "outputs": [],
   "source": [
    "transformed_df = get_transformed_df(train_df)"
   ]
  },
  {
   "cell_type": "code",
   "execution_count": 9,
   "id": "e3749171",
   "metadata": {},
   "outputs": [
    {
     "data": {
      "text/html": [
       "<div>\n",
       "<style scoped>\n",
       "    .dataframe tbody tr th:only-of-type {\n",
       "        vertical-align: middle;\n",
       "    }\n",
       "\n",
       "    .dataframe tbody tr th {\n",
       "        vertical-align: top;\n",
       "    }\n",
       "\n",
       "    .dataframe thead th {\n",
       "        text-align: right;\n",
       "    }\n",
       "</style>\n",
       "<table border=\"1\" class=\"dataframe\">\n",
       "  <thead>\n",
       "    <tr style=\"text-align: right;\">\n",
       "      <th></th>\n",
       "      <th>venue</th>\n",
       "      <th>keywords</th>\n",
       "      <th>year</th>\n",
       "      <th>coauthor</th>\n",
       "      <th>target</th>\n",
       "    </tr>\n",
       "  </thead>\n",
       "  <tbody>\n",
       "    <tr>\n",
       "      <th>0</th>\n",
       "      <td></td>\n",
       "      <td>[64, 1, 322, 134, 136, 396, 270, 144, 476, 481...</td>\n",
       "      <td>2017</td>\n",
       "      <td>[759]</td>\n",
       "      <td>1605</td>\n",
       "    </tr>\n",
       "    <tr>\n",
       "      <th>1</th>\n",
       "      <td></td>\n",
       "      <td>[64, 1, 322, 134, 136, 396, 270, 144, 476, 481...</td>\n",
       "      <td>2017</td>\n",
       "      <td>[1605]</td>\n",
       "      <td>759</td>\n",
       "    </tr>\n",
       "    <tr>\n",
       "      <th>2</th>\n",
       "      <td>0</td>\n",
       "      <td>[258, 260, 389, 261, 390, 396, 400, 17, 146, 2...</td>\n",
       "      <td>2013</td>\n",
       "      <td>[]</td>\n",
       "      <td>2182</td>\n",
       "    </tr>\n",
       "    <tr>\n",
       "      <th>3</th>\n",
       "      <td>1</td>\n",
       "      <td>[320, 454, 266, 462, 17, 339, 404, 342, 407, 2...</td>\n",
       "      <td>2007</td>\n",
       "      <td>[]</td>\n",
       "      <td>2176</td>\n",
       "    </tr>\n",
       "    <tr>\n",
       "      <th>4</th>\n",
       "      <td>2</td>\n",
       "      <td>[260, 132, 333, 15, 400, 272, 146, 401, 278, 3...</td>\n",
       "      <td>2013</td>\n",
       "      <td>[]</td>\n",
       "      <td>1107</td>\n",
       "    </tr>\n",
       "  </tbody>\n",
       "</table>\n",
       "</div>"
      ],
      "text/plain": [
       "  venue                                           keywords  year coauthor  \\\n",
       "0        [64, 1, 322, 134, 136, 396, 270, 144, 476, 481...  2017    [759]   \n",
       "1        [64, 1, 322, 134, 136, 396, 270, 144, 476, 481...  2017   [1605]   \n",
       "2     0  [258, 260, 389, 261, 390, 396, 400, 17, 146, 2...  2013       []   \n",
       "3     1  [320, 454, 266, 462, 17, 339, 404, 342, 407, 2...  2007       []   \n",
       "4     2  [260, 132, 333, 15, 400, 272, 146, 401, 278, 3...  2013       []   \n",
       "\n",
       "   target  \n",
       "0    1605  \n",
       "1     759  \n",
       "2    2182  \n",
       "3    2176  \n",
       "4    1107  "
      ]
     },
     "execution_count": 9,
     "metadata": {},
     "output_type": "execute_result"
    }
   ],
   "source": [
    "transformed_df.head()"
   ]
  },
  {
   "cell_type": "markdown",
   "id": "da5a013f",
   "metadata": {},
   "source": [
    "## 2. Create \"word embeddings\" for keywords (Word2Vec using SkipGram)"
   ]
  },
  {
   "cell_type": "code",
   "execution_count": 23,
   "id": "3fba1c9e",
   "metadata": {},
   "outputs": [],
   "source": [
    "corpus = list(transformed_df['keywords'])\n",
    "max_window_size = max([len(i) for i in corpus])"
   ]
  },
  {
   "cell_type": "code",
   "execution_count": 24,
   "id": "bb93f168",
   "metadata": {},
   "outputs": [],
   "source": [
    "from gensim.models.word2vec import Word2Vec\n",
    "\n",
    "WINDOW_SIZE_KEYWORDS = 6\n",
    "VECTOR_SIZE_KEYWORDS = 12\n",
    "\n",
    "model_keywords = Word2Vec(corpus,  # previously generated walks\n",
    "                 hs=1,  # use hierarchical softmax\n",
    "                 sg = 1,  # use skip-gram\n",
    "                 vector_size=VECTOR_SIZE_KEYWORDS,  # size of the embedding\n",
    "                 window=WINDOW_SIZE_KEYWORDS,\n",
    "                 workers=4,\n",
    "                 seed=42)"
   ]
  },
  {
   "cell_type": "code",
   "execution_count": 25,
   "id": "76a14822",
   "metadata": {},
   "outputs": [
    {
     "data": {
      "text/plain": [
       "(500, 12)"
      ]
     },
     "execution_count": 25,
     "metadata": {},
     "output_type": "execute_result"
    }
   ],
   "source": [
    "# embeddings for each keyword\n",
    "embedding_keywords = model_keywords.wv.vectors\n",
    "embedding_keywords.shape"
   ]
  },
  {
   "cell_type": "code",
   "execution_count": 26,
   "id": "243f356f",
   "metadata": {},
   "outputs": [
    {
     "data": {
      "text/plain": [
       "array([ 0.10633333, -0.37958515, -0.1963936 ,  0.04065178, -0.5484793 ,\n",
       "        0.5884821 ,  0.8255234 , -0.6020208 , -0.617839  , -0.64155775,\n",
       "       -0.7866536 , -0.47699666], dtype=float32)"
      ]
     },
     "execution_count": 26,
     "metadata": {},
     "output_type": "execute_result"
    }
   ],
   "source": [
    "# get embedding for keyword 499\n",
    "# Same as \"model_keywords.wv.__getitem__(499)\"\n",
    "model_keywords.wv.get_vector(499) "
   ]
  },
  {
   "cell_type": "code",
   "execution_count": 27,
   "id": "3e90565a",
   "metadata": {},
   "outputs": [
    {
     "data": {
      "image/png": "[encoded data removed]",
      "text/plain": [
       "<Figure size 1296x504 with 1 Axes>"
      ]
     },
     "metadata": {
      "needs_background": "light"
     },
     "output_type": "display_data"
    }
   ],
   "source": [
    "import umap.umap_ as umap\n",
    "import seaborn as sns\n",
    "\n",
    "# visualize keywords in 2d space\n",
    "u = umap.UMAP(random_state=90051)\n",
    "umap_embs_keywords = u.fit_transform(embedding_keywords)\n",
    "\n",
    "ax = sns.scatterplot(x = umap_embs_keywords[:, 0], y = umap_embs_keywords[:, 1]).set(title=\"Visualization of keyword embeddings in 2d space\")\n",
    "\n",
    "\n"
   ]
  },
  {
   "cell_type": "markdown",
   "id": "c0c33f2a",
   "metadata": {},
   "source": [
    "- The pattern in the visualization shows there are two clusters, illustrate there are potentially two main areas of those papers"
   ]
  },
  {
   "cell_type": "markdown",
   "id": "9a7934c3",
   "metadata": {},
   "source": [
    "## 3. One-hot"
   ]
  },
  {
   "cell_type": "code",
   "execution_count": 10,
   "id": "758d316d",
   "metadata": {},
   "outputs": [],
   "source": [
    "import torch\n",
    "def get_onehot_col(col, size, col_prefix):\n",
    "    transformed_col = []\n",
    "    for i in col:\n",
    "        transformed_col.append(torch.zeros(size, dtype=torch.int).scatter_(0, torch.tensor(i), value=1).tolist())\n",
    "    col_names = [col_prefix+'_'+str(i) for i in range(size)]\n",
    "    return pd.DataFrame(transformed_col, columns=col_names)"
   ]
  },
  {
   "cell_type": "code",
   "execution_count": 11,
   "id": "8622253d",
   "metadata": {},
   "outputs": [],
   "source": [
    "transformed_df.loc[transformed_df['venue']=='',['venue']]=470\n",
    "venue_transformed = get_onehot_col(transformed_df['venue'], 471, \"venue\")\n",
    "\n",
    "#keywords_transformed = get_onehot_col(transformed_df['keywords'], 500, \"keywords\")\n",
    "\n",
    "transformed_df['year'] = transformed_df['year']-2000\n",
    "year_transformed = get_onehot_col(transformed_df['year'], 20, \"year\")\n",
    "\n",
    "coauthor_transformed = get_onehot_col(transformed_df['coauthor'], 2302, \"coauthor\")\n",
    "\n",
    "target_transformed = get_onehot_col(transformed_df['target'], 2302, \"target\")\n",
    "\n",
    "\n"
   ]
  },
  {
   "cell_type": "markdown",
   "id": "9b1758a7",
   "metadata": {},
   "source": [
    "## 3. Create word embeddings for keywords (SkipGram)"
   ]
  },
  {
   "cell_type": "code",
   "execution_count": 52,
   "id": "55e72360",
   "metadata": {},
   "outputs": [],
   "source": [
    "def convert_to_emb(lst, model):\n",
    "    \n",
    "    curr = []\n",
    "    for i in lst:\n",
    "        try:\n",
    "            curr.append(model.wv.get_vector(i))\n",
    "        except:\n",
    "            continue\n",
    "    if curr == []:\n",
    "        return list([0 for i in range(model.vector_size)])\n",
    "    return np.mean(np.array(curr), axis=0).tolist()\n",
    "\n",
    "\n",
    "keywords_tran = []\n",
    "for row in transformed_df['keywords']:\n",
    "    keywords_tran.append(convert_to_emb(row, model_keywords ))\n",
    "\n",
    "keywords_cols = [\"keyword_\"+str(i) for i in range(VECTOR_SIZE_KEYWORDS)]\n",
    "keywords_transformed_word2vec = pd.DataFrame(keywords_tran, columns=keywords_cols)\n",
    "\n",
    "\n",
    "\n"
   ]
  },
  {
   "cell_type": "code",
   "execution_count": 53,
   "id": "d0dcea32",
   "metadata": {},
   "outputs": [
    {
     "data": {
      "text/html": [
       "<div>\n",
       "<style scoped>\n",
       "    .dataframe tbody tr th:only-of-type {\n",
       "        vertical-align: middle;\n",
       "    }\n",
       "\n",
       "    .dataframe tbody tr th {\n",
       "        vertical-align: top;\n",
       "    }\n",
       "\n",
       "    .dataframe thead th {\n",
       "        text-align: right;\n",
       "    }\n",
       "</style>\n",
       "<table border=\"1\" class=\"dataframe\">\n",
       "  <thead>\n",
       "    <tr style=\"text-align: right;\">\n",
       "      <th></th>\n",
       "      <th>keyword_0</th>\n",
       "      <th>keyword_1</th>\n",
       "      <th>keyword_2</th>\n",
       "      <th>keyword_3</th>\n",
       "      <th>keyword_4</th>\n",
       "      <th>keyword_5</th>\n",
       "      <th>keyword_6</th>\n",
       "      <th>keyword_7</th>\n",
       "      <th>keyword_8</th>\n",
       "      <th>keyword_9</th>\n",
       "      <th>keyword_10</th>\n",
       "      <th>keyword_11</th>\n",
       "    </tr>\n",
       "  </thead>\n",
       "  <tbody>\n",
       "    <tr>\n",
       "      <th>0</th>\n",
       "      <td>0.10779</td>\n",
       "      <td>0.04545</td>\n",
       "      <td>0.18435</td>\n",
       "      <td>-0.51457</td>\n",
       "      <td>-0.39999</td>\n",
       "      <td>0.52017</td>\n",
       "      <td>0.38116</td>\n",
       "      <td>-0.80316</td>\n",
       "      <td>-0.04370</td>\n",
       "      <td>-0.02749</td>\n",
       "      <td>-0.07267</td>\n",
       "      <td>-0.17975</td>\n",
       "    </tr>\n",
       "    <tr>\n",
       "      <th>1</th>\n",
       "      <td>0.10779</td>\n",
       "      <td>0.04545</td>\n",
       "      <td>0.18435</td>\n",
       "      <td>-0.51457</td>\n",
       "      <td>-0.39999</td>\n",
       "      <td>0.52017</td>\n",
       "      <td>0.38116</td>\n",
       "      <td>-0.80316</td>\n",
       "      <td>-0.04370</td>\n",
       "      <td>-0.02749</td>\n",
       "      <td>-0.07267</td>\n",
       "      <td>-0.17975</td>\n",
       "    </tr>\n",
       "    <tr>\n",
       "      <th>2</th>\n",
       "      <td>0.14102</td>\n",
       "      <td>0.09187</td>\n",
       "      <td>0.06748</td>\n",
       "      <td>-0.44692</td>\n",
       "      <td>-0.31678</td>\n",
       "      <td>0.53614</td>\n",
       "      <td>0.33748</td>\n",
       "      <td>-0.80720</td>\n",
       "      <td>-0.01964</td>\n",
       "      <td>-0.00305</td>\n",
       "      <td>-0.02810</td>\n",
       "      <td>-0.29140</td>\n",
       "    </tr>\n",
       "    <tr>\n",
       "      <th>3</th>\n",
       "      <td>0.14934</td>\n",
       "      <td>0.10197</td>\n",
       "      <td>-0.07031</td>\n",
       "      <td>-0.27358</td>\n",
       "      <td>-0.24233</td>\n",
       "      <td>0.51248</td>\n",
       "      <td>0.16031</td>\n",
       "      <td>-0.87437</td>\n",
       "      <td>0.02315</td>\n",
       "      <td>-0.12109</td>\n",
       "      <td>-0.15121</td>\n",
       "      <td>-0.15526</td>\n",
       "    </tr>\n",
       "    <tr>\n",
       "      <th>4</th>\n",
       "      <td>0.09312</td>\n",
       "      <td>0.16307</td>\n",
       "      <td>-0.01512</td>\n",
       "      <td>-0.29342</td>\n",
       "      <td>-0.42790</td>\n",
       "      <td>0.56073</td>\n",
       "      <td>0.23019</td>\n",
       "      <td>-0.83085</td>\n",
       "      <td>0.12729</td>\n",
       "      <td>-0.22188</td>\n",
       "      <td>-0.12807</td>\n",
       "      <td>-0.04007</td>\n",
       "    </tr>\n",
       "  </tbody>\n",
       "</table>\n",
       "</div>"
      ],
      "text/plain": [
       "   keyword_0  keyword_1  keyword_2  keyword_3  keyword_4  keyword_5  \\\n",
       "0    0.10779    0.04545    0.18435   -0.51457   -0.39999    0.52017   \n",
       "1    0.10779    0.04545    0.18435   -0.51457   -0.39999    0.52017   \n",
       "2    0.14102    0.09187    0.06748   -0.44692   -0.31678    0.53614   \n",
       "3    0.14934    0.10197   -0.07031   -0.27358   -0.24233    0.51248   \n",
       "4    0.09312    0.16307   -0.01512   -0.29342   -0.42790    0.56073   \n",
       "\n",
       "   keyword_6  keyword_7  keyword_8  keyword_9  keyword_10  keyword_11  \n",
       "0    0.38116   -0.80316   -0.04370   -0.02749    -0.07267    -0.17975  \n",
       "1    0.38116   -0.80316   -0.04370   -0.02749    -0.07267    -0.17975  \n",
       "2    0.33748   -0.80720   -0.01964   -0.00305    -0.02810    -0.29140  \n",
       "3    0.16031   -0.87437    0.02315   -0.12109    -0.15121    -0.15526  \n",
       "4    0.23019   -0.83085    0.12729   -0.22188    -0.12807    -0.04007  "
      ]
     },
     "execution_count": 53,
     "metadata": {},
     "output_type": "execute_result"
    }
   ],
   "source": [
    "keywords_transformed_word2vec.head()"
   ]
  },
  {
   "cell_type": "markdown",
   "id": "efb71a2f",
   "metadata": {},
   "source": [
    "## 3. Combine"
   ]
  },
  {
   "cell_type": "code",
   "execution_count": 54,
   "id": "c8f297a0",
   "metadata": {},
   "outputs": [],
   "source": [
    "\n",
    "#transformed_df_comb = pd.concat([venue_transformed,keywords_transformed,keywords_transformed_tfidf,year_transformed,transformed_df['year'], coauthor_transformed],axis=1)\n",
    "transformed_df_comb = pd.concat([venue_transformed,keywords_transformed_word2vec,year_transformed, coauthor_transformed],axis=1)\n",
    "\n"
   ]
  },
  {
   "cell_type": "code",
   "execution_count": 55,
   "id": "a85add93",
   "metadata": {},
   "outputs": [],
   "source": [
    "transformed_df_comb['target'] = transformed_df['target'].values"
   ]
  },
  {
   "cell_type": "code",
   "execution_count": 56,
   "id": "1a7b1480",
   "metadata": {},
   "outputs": [
    {
     "data": {
      "text/html": [
       "<div>\n",
       "<style scoped>\n",
       "    .dataframe tbody tr th:only-of-type {\n",
       "        vertical-align: middle;\n",
       "    }\n",
       "\n",
       "    .dataframe tbody tr th {\n",
       "        vertical-align: top;\n",
       "    }\n",
       "\n",
       "    .dataframe thead th {\n",
       "        text-align: right;\n",
       "    }\n",
       "</style>\n",
       "<table border=\"1\" class=\"dataframe\">\n",
       "  <thead>\n",
       "    <tr style=\"text-align: right;\">\n",
       "      <th></th>\n",
       "      <th>venue_0</th>\n",
       "      <th>venue_1</th>\n",
       "      <th>venue_2</th>\n",
       "      <th>venue_3</th>\n",
       "      <th>venue_4</th>\n",
       "      <th>venue_5</th>\n",
       "      <th>venue_6</th>\n",
       "      <th>venue_7</th>\n",
       "      <th>venue_8</th>\n",
       "      <th>venue_9</th>\n",
       "      <th>...</th>\n",
       "      <th>coauthor_2293</th>\n",
       "      <th>coauthor_2294</th>\n",
       "      <th>coauthor_2295</th>\n",
       "      <th>coauthor_2296</th>\n",
       "      <th>coauthor_2297</th>\n",
       "      <th>coauthor_2298</th>\n",
       "      <th>coauthor_2299</th>\n",
       "      <th>coauthor_2300</th>\n",
       "      <th>coauthor_2301</th>\n",
       "      <th>target</th>\n",
       "    </tr>\n",
       "  </thead>\n",
       "  <tbody>\n",
       "    <tr>\n",
       "      <th>0</th>\n",
       "      <td>0</td>\n",
       "      <td>0</td>\n",
       "      <td>0</td>\n",
       "      <td>0</td>\n",
       "      <td>0</td>\n",
       "      <td>0</td>\n",
       "      <td>0</td>\n",
       "      <td>0</td>\n",
       "      <td>0</td>\n",
       "      <td>0</td>\n",
       "      <td>...</td>\n",
       "      <td>0</td>\n",
       "      <td>0</td>\n",
       "      <td>0</td>\n",
       "      <td>0</td>\n",
       "      <td>0</td>\n",
       "      <td>0</td>\n",
       "      <td>0</td>\n",
       "      <td>0</td>\n",
       "      <td>0</td>\n",
       "      <td>1605</td>\n",
       "    </tr>\n",
       "    <tr>\n",
       "      <th>1</th>\n",
       "      <td>0</td>\n",
       "      <td>0</td>\n",
       "      <td>0</td>\n",
       "      <td>0</td>\n",
       "      <td>0</td>\n",
       "      <td>0</td>\n",
       "      <td>0</td>\n",
       "      <td>0</td>\n",
       "      <td>0</td>\n",
       "      <td>0</td>\n",
       "      <td>...</td>\n",
       "      <td>0</td>\n",
       "      <td>0</td>\n",
       "      <td>0</td>\n",
       "      <td>0</td>\n",
       "      <td>0</td>\n",
       "      <td>0</td>\n",
       "      <td>0</td>\n",
       "      <td>0</td>\n",
       "      <td>0</td>\n",
       "      <td>759</td>\n",
       "    </tr>\n",
       "    <tr>\n",
       "      <th>2</th>\n",
       "      <td>1</td>\n",
       "      <td>0</td>\n",
       "      <td>0</td>\n",
       "      <td>0</td>\n",
       "      <td>0</td>\n",
       "      <td>0</td>\n",
       "      <td>0</td>\n",
       "      <td>0</td>\n",
       "      <td>0</td>\n",
       "      <td>0</td>\n",
       "      <td>...</td>\n",
       "      <td>0</td>\n",
       "      <td>0</td>\n",
       "      <td>0</td>\n",
       "      <td>0</td>\n",
       "      <td>0</td>\n",
       "      <td>0</td>\n",
       "      <td>0</td>\n",
       "      <td>0</td>\n",
       "      <td>0</td>\n",
       "      <td>2182</td>\n",
       "    </tr>\n",
       "    <tr>\n",
       "      <th>3</th>\n",
       "      <td>0</td>\n",
       "      <td>1</td>\n",
       "      <td>0</td>\n",
       "      <td>0</td>\n",
       "      <td>0</td>\n",
       "      <td>0</td>\n",
       "      <td>0</td>\n",
       "      <td>0</td>\n",
       "      <td>0</td>\n",
       "      <td>0</td>\n",
       "      <td>...</td>\n",
       "      <td>0</td>\n",
       "      <td>0</td>\n",
       "      <td>0</td>\n",
       "      <td>0</td>\n",
       "      <td>0</td>\n",
       "      <td>0</td>\n",
       "      <td>0</td>\n",
       "      <td>0</td>\n",
       "      <td>0</td>\n",
       "      <td>2176</td>\n",
       "    </tr>\n",
       "    <tr>\n",
       "      <th>4</th>\n",
       "      <td>0</td>\n",
       "      <td>0</td>\n",
       "      <td>1</td>\n",
       "      <td>0</td>\n",
       "      <td>0</td>\n",
       "      <td>0</td>\n",
       "      <td>0</td>\n",
       "      <td>0</td>\n",
       "      <td>0</td>\n",
       "      <td>0</td>\n",
       "      <td>...</td>\n",
       "      <td>0</td>\n",
       "      <td>0</td>\n",
       "      <td>0</td>\n",
       "      <td>0</td>\n",
       "      <td>0</td>\n",
       "      <td>0</td>\n",
       "      <td>0</td>\n",
       "      <td>0</td>\n",
       "      <td>0</td>\n",
       "      <td>1107</td>\n",
       "    </tr>\n",
       "  </tbody>\n",
       "</table>\n",
       "<p>5 rows × 2806 columns</p>\n",
       "</div>"
      ],
      "text/plain": [
       "   venue_0  venue_1  venue_2  venue_3  venue_4  venue_5  venue_6  venue_7  \\\n",
       "0        0        0        0        0        0        0        0        0   \n",
       "1        0        0        0        0        0        0        0        0   \n",
       "2        1        0        0        0        0        0        0        0   \n",
       "3        0        1        0        0        0        0        0        0   \n",
       "4        0        0        1        0        0        0        0        0   \n",
       "\n",
       "   venue_8  venue_9  ...  coauthor_2293  coauthor_2294  coauthor_2295  \\\n",
       "0        0        0  ...              0              0              0   \n",
       "1        0        0  ...              0              0              0   \n",
       "2        0        0  ...              0              0              0   \n",
       "3        0        0  ...              0              0              0   \n",
       "4        0        0  ...              0              0              0   \n",
       "\n",
       "   coauthor_2296  coauthor_2297  coauthor_2298  coauthor_2299  coauthor_2300  \\\n",
       "0              0              0              0              0              0   \n",
       "1              0              0              0              0              0   \n",
       "2              0              0              0              0              0   \n",
       "3              0              0              0              0              0   \n",
       "4              0              0              0              0              0   \n",
       "\n",
       "   coauthor_2301  target  \n",
       "0              0    1605  \n",
       "1              0     759  \n",
       "2              0    2182  \n",
       "3              0    2176  \n",
       "4              0    1107  \n",
       "\n",
       "[5 rows x 2806 columns]"
      ]
     },
     "execution_count": 56,
     "metadata": {},
     "output_type": "execute_result"
    }
   ],
   "source": [
    "transformed_df_comb.head()"
   ]
  },
  {
   "cell_type": "code",
   "execution_count": 58,
   "id": "cb3dd2ec",
   "metadata": {},
   "outputs": [
    {
     "data": {
      "text/plain": [
       "(48000, 2806)"
      ]
     },
     "execution_count": 58,
     "metadata": {},
     "output_type": "execute_result"
    }
   ],
   "source": [
    "transformed_df_comb.shape"
   ]
  },
  {
   "cell_type": "markdown",
   "id": "6179eb1b",
   "metadata": {},
   "source": [
    "## 2. Train test split"
   ]
  },
  {
   "cell_type": "code",
   "execution_count": 71,
   "id": "22ff164d",
   "metadata": {},
   "outputs": [
    {
     "name": "stdout",
     "output_type": "stream",
     "text": [
      "X_train shape: (38400, 2805), y_train shape: (38400,)\n",
      "X_val   shape: (9600, 2805), y_val   shape: (9600,)\n"
     ]
    }
   ],
   "source": [
    "from sklearn.model_selection import train_test_split\n",
    "X_train, X_val,y_train,   y_val = train_test_split(transformed_df_comb.iloc[:,:-1], transformed_df_comb['target'],test_size=0.2, random_state=90051)\n",
    "\n",
    "print(\"X_train shape: {}, y_train shape: {}\".format(X_train.shape, y_train.shape))\n",
    "print(\"X_val   shape: {}, y_val   shape: {}\".format(X_val.shape, y_val.shape))\n",
    "\n"
   ]
  },
  {
   "cell_type": "code",
   "execution_count": 72,
   "id": "9fe4015e",
   "metadata": {},
   "outputs": [
    {
     "name": "stdout",
     "output_type": "stream",
     "text": [
      "X_val_comb shape:  (19200, 2805)\n",
      "y_val_comb shape:  (24000,)\n"
     ]
    }
   ],
   "source": [
    "X_val_pos = X_val\n",
    "X_val_neg = X_val\n",
    "y_val_pos = y_val\n",
    "y_val_neg = pd.Series(np.random.choice([i for i in range(2302)], 14400))\n",
    "X_val_comb = pd.concat([X_val_pos, X_val_neg],axis = 0)\n",
    "y_val_comb = y_val_pos.append(y_val_neg, ignore_index=True)\n",
    "\n",
    "true_label = [1 for i in range(X_val_pos.shape[0])]+[0 for i in range(X_val_pos.shape[0])]\n",
    "print(\"X_val_comb shape: \", X_val_comb.shape)\n",
    "print(\"y_val_comb shape: \", y_val_comb.shape)"
   ]
  },
  {
   "cell_type": "markdown",
   "id": "a286cac1",
   "metadata": {},
   "source": [
    "## 3. Model: Gaussian NB"
   ]
  },
  {
   "cell_type": "code",
   "execution_count": 98,
   "id": "8f9efaff",
   "metadata": {},
   "outputs": [
    {
     "data": {
      "text/plain": [
       "GaussianNB()"
      ]
     },
     "execution_count": 98,
     "metadata": {},
     "output_type": "execute_result"
    }
   ],
   "source": [
    "from sklearn.naive_bayes import MultinomialNB\n",
    "from sklearn.naive_bayes import GaussianNB\n",
    "\n",
    "\n",
    "clf_NB = GaussianNB()\n",
    "clf_NB.fit(X_train, y_train)"
   ]
  },
  {
   "cell_type": "code",
   "execution_count": 99,
   "id": "65b68e27",
   "metadata": {},
   "outputs": [
    {
     "data": {
      "text/plain": [
       "0.7436069390190972"
      ]
     },
     "execution_count": 99,
     "metadata": {},
     "output_type": "execute_result"
    }
   ],
   "source": [
    "from sklearn.metrics import roc_auc_score\n",
    "\n",
    "pred_NB = clf_NB.predict_proba(X_val_comb)\n",
    "res = []\n",
    "for i in range(len(pred_NB)):\n",
    "    res.append(pred_NB[i][y_val_comb[i]])\n",
    "\n",
    "roc_auc_score(true_label, res) # 0.7436069390190972"
   ]
  },
  {
   "cell_type": "markdown",
   "id": "70568c78",
   "metadata": {},
   "source": [
    "## 3. Model: LR"
   ]
  },
  {
   "cell_type": "code",
   "execution_count": 77,
   "id": "b49bd7ae",
   "metadata": {},
   "outputs": [],
   "source": [
    "from sklearn.metrics import roc_auc_score"
   ]
  },
  {
   "cell_type": "code",
   "execution_count": 78,
   "id": "10d69068",
   "metadata": {},
   "outputs": [],
   "source": [
    "from sklearn.multiclass import OneVsRestClassifier\n",
    "from sklearn.linear_model import LogisticRegression"
   ]
  },
  {
   "cell_type": "markdown",
   "id": "196c115d",
   "metadata": {},
   "source": [
    "- C=1"
   ]
  },
  {
   "cell_type": "code",
   "execution_count": 79,
   "id": "24d28241",
   "metadata": {
    "collapsed": true
   },
   "outputs": [
    {
     "name": "stderr",
     "output_type": "stream",
     "text": [
      "[Parallel(n_jobs=1)]: Using backend SequentialBackend with 1 concurrent workers.\n"
     ]
    },
    {
     "name": "stdout",
     "output_type": "stream",
     "text": [
      "RUNNING THE L-BFGS-B CODE\n",
      "\n",
      "           * * *\n",
      "\n",
      "Machine precision = 2.220D-16\n",
      " N =      6459412     M =           10\n",
      "\n",
      "At X0         0 variables are exactly at the bounds\n",
      "\n",
      "At iterate    0    f=  2.97275D+05    |proj g|=  1.36319D+02\n"
     ]
    },
    {
     "name": "stderr",
     "output_type": "stream",
     "text": [
      " This problem is unconstrained.\n"
     ]
    },
    {
     "name": "stdout",
     "output_type": "stream",
     "text": [
      "\n",
      "At iterate   50    f=  1.75341D+05    |proj g|=  3.79947D+00\n",
      "\n",
      "At iterate  100    f=  1.75320D+05    |proj g|=  2.64064D-01\n",
      "\n",
      "           * * *\n",
      "\n",
      "Tit   = total number of iterations\n",
      "Tnf   = total number of function evaluations\n",
      "Tnint = total number of segments explored during Cauchy searches\n",
      "Skip  = number of BFGS updates skipped\n",
      "Nact  = number of active bounds at final generalized Cauchy point\n",
      "Projg = norm of the final projected gradient\n",
      "F     = final function value\n",
      "\n",
      "           * * *\n",
      "\n",
      "   N    Tit     Tnf  Tnint  Skip  Nact     Projg        F\n",
      "*****    100    107      1     0     0   2.641D-01   1.753D+05\n",
      "  F =   175319.52897649939     \n",
      "\n",
      "STOP: TOTAL NO. of ITERATIONS REACHED LIMIT                 \n",
      "CPU times: user 55min 25s, sys: 4min 11s, total: 59min 36s\n",
      "Wall time: 21min 18s\n"
     ]
    },
    {
     "name": "stderr",
     "output_type": "stream",
     "text": [
      "[Parallel(n_jobs=1)]: Done   1 out of   1 | elapsed: 21.2min finished\n"
     ]
    },
    {
     "data": {
      "text/plain": [
       "LogisticRegression(C=1, multi_class='multinomial', verbose=True)"
      ]
     },
     "execution_count": 79,
     "metadata": {},
     "output_type": "execute_result"
    }
   ],
   "source": [
    "%%time\n",
    "\n",
    "clf_LR_1 = LogisticRegression(multi_class=\"multinomial\", C=1, verbose=True)\n",
    "clf_LR_1.fit(X_train, y_train)      "
   ]
  },
  {
   "cell_type": "code",
   "execution_count": 80,
   "id": "c217da00",
   "metadata": {},
   "outputs": [
    {
     "data": {
      "text/plain": [
       "0.9336609917534724"
      ]
     },
     "execution_count": 80,
     "metadata": {},
     "output_type": "execute_result"
    }
   ],
   "source": [
    "pred_LR_1 = clf_LR_1.predict_proba(X_val_comb)\n",
    "res_1 = []\n",
    "for i in range(len(pred_LR_1)):\n",
    "    res_1.append(pred_LR_1[i][y_val_comb[i]])\n",
    "\n",
    "# 0.9406964916087963\n",
    "roc_auc_score(true_label, res_1) # 0.9336609917534724"
   ]
  },
  {
   "cell_type": "markdown",
   "id": "c4ce820a",
   "metadata": {},
   "source": [
    "- C=0.1"
   ]
  },
  {
   "cell_type": "code",
   "execution_count": 81,
   "id": "026b8a83",
   "metadata": {
    "collapsed": true
   },
   "outputs": [
    {
     "name": "stderr",
     "output_type": "stream",
     "text": [
      "[Parallel(n_jobs=1)]: Using backend SequentialBackend with 1 concurrent workers.\n"
     ]
    },
    {
     "name": "stdout",
     "output_type": "stream",
     "text": [
      "RUNNING THE L-BFGS-B CODE\n",
      "\n",
      "           * * *\n",
      "\n",
      "Machine precision = 2.220D-16\n",
      " N =      6459412     M =           10\n",
      "\n",
      "At X0         0 variables are exactly at the bounds\n"
     ]
    },
    {
     "name": "stderr",
     "output_type": "stream",
     "text": [
      " This problem is unconstrained.\n"
     ]
    },
    {
     "name": "stdout",
     "output_type": "stream",
     "text": [
      "\n",
      "At iterate    0    f=  2.97275D+05    |proj g|=  1.36319D+02\n",
      "\n",
      "At iterate   50    f=  2.65551D+05    |proj g|=  2.39026D-01\n",
      "\n",
      "           * * *\n",
      "\n",
      "Tit   = total number of iterations\n",
      "Tnf   = total number of function evaluations\n",
      "Tnint = total number of segments explored during Cauchy searches\n",
      "Skip  = number of BFGS updates skipped\n",
      "Nact  = number of active bounds at final generalized Cauchy point\n",
      "Projg = norm of the final projected gradient\n",
      "F     = final function value\n",
      "\n",
      "           * * *\n",
      "\n",
      "   N    Tit     Tnf  Tnint  Skip  Nact     Projg        F\n",
      "*****     64     69      1     0     0   6.580D-02   2.656D+05\n",
      "  F =   265550.50604333245     \n",
      "\n",
      "CONVERGENCE: REL_REDUCTION_OF_F_<=_FACTR*EPSMCH             \n",
      "CPU times: user 35min 3s, sys: 2min 32s, total: 37min 36s\n",
      "Wall time: 13min 25s\n"
     ]
    },
    {
     "name": "stderr",
     "output_type": "stream",
     "text": [
      "[Parallel(n_jobs=1)]: Done   1 out of   1 | elapsed: 13.4min finished\n"
     ]
    },
    {
     "data": {
      "text/plain": [
       "LogisticRegression(C=0.1, multi_class='multinomial', verbose=True)"
      ]
     },
     "execution_count": 81,
     "metadata": {},
     "output_type": "execute_result"
    }
   ],
   "source": [
    "%%time\n",
    "\n",
    "clf_LR_01 = LogisticRegression(multi_class=\"multinomial\", C=0.1, verbose=True)\n",
    "clf_LR_01.fit(X_train, y_train)      "
   ]
  },
  {
   "cell_type": "code",
   "execution_count": 82,
   "id": "af0ee8e9",
   "metadata": {},
   "outputs": [
    {
     "data": {
      "text/plain": [
       "0.8081501410590277"
      ]
     },
     "execution_count": 82,
     "metadata": {},
     "output_type": "execute_result"
    }
   ],
   "source": [
    "pred_LR_01 = clf_LR_01.predict_proba(X_val_comb)\n",
    "res_01 = []\n",
    "for i in range(len(pred_LR_01)):\n",
    "    res_01.append(pred_LR_01[i][y_val_comb[i]])\n",
    "\n",
    "roc_auc_score(true_label, res_01) # 0.8081501410590277"
   ]
  },
  {
   "cell_type": "markdown",
   "id": "59767423",
   "metadata": {},
   "source": [
    "## 4. Read on test data"
   ]
  },
  {
   "cell_type": "code",
   "execution_count": 92,
   "id": "675cfd47",
   "metadata": {},
   "outputs": [
    {
     "data": {
      "text/html": [
       "<div>\n",
       "<style scoped>\n",
       "    .dataframe tbody tr th:only-of-type {\n",
       "        vertical-align: middle;\n",
       "    }\n",
       "\n",
       "    .dataframe tbody tr th {\n",
       "        vertical-align: top;\n",
       "    }\n",
       "\n",
       "    .dataframe thead th {\n",
       "        text-align: right;\n",
       "    }\n",
       "</style>\n",
       "<table border=\"1\" class=\"dataframe\">\n",
       "  <thead>\n",
       "    <tr style=\"text-align: right;\">\n",
       "      <th></th>\n",
       "      <th>venue</th>\n",
       "      <th>keywords</th>\n",
       "      <th>year</th>\n",
       "      <th>coauthor</th>\n",
       "      <th>target</th>\n",
       "    </tr>\n",
       "  </thead>\n",
       "  <tbody>\n",
       "    <tr>\n",
       "      <th>0</th>\n",
       "      <td></td>\n",
       "      <td>[260, 6, 390, 136, 7, 11, 17, 285, 288, 162, 4...</td>\n",
       "      <td>2017</td>\n",
       "      <td>[]</td>\n",
       "      <td>988</td>\n",
       "    </tr>\n",
       "    <tr>\n",
       "      <th>1</th>\n",
       "      <td>94</td>\n",
       "      <td>[260, 454, 137, 14, 400, 274, 339, 213, 280, 2...</td>\n",
       "      <td>2019</td>\n",
       "      <td>[1001]</td>\n",
       "      <td>2123</td>\n",
       "    </tr>\n",
       "    <tr>\n",
       "      <th>2</th>\n",
       "      <td>31</td>\n",
       "      <td>[390, 198, 7, 461, 462, 14, 404, 277, 24, 473,...</td>\n",
       "      <td>2014</td>\n",
       "      <td>[]</td>\n",
       "      <td>1578</td>\n",
       "    </tr>\n",
       "    <tr>\n",
       "      <th>3</th>\n",
       "      <td>6</td>\n",
       "      <td>[195, 6, 390, 10, 459, 464, 338, 146, 276, 466...</td>\n",
       "      <td>2010</td>\n",
       "      <td>[1347]</td>\n",
       "      <td>2072</td>\n",
       "    </tr>\n",
       "    <tr>\n",
       "      <th>4</th>\n",
       "      <td>162</td>\n",
       "      <td>[64, 1, 260, 457, 73, 147, 282, 27, 156, 43, 3...</td>\n",
       "      <td>2016</td>\n",
       "      <td>[1107]</td>\n",
       "      <td>995</td>\n",
       "    </tr>\n",
       "  </tbody>\n",
       "</table>\n",
       "</div>"
      ],
      "text/plain": [
       "  venue                                           keywords  year coauthor  \\\n",
       "0        [260, 6, 390, 136, 7, 11, 17, 285, 288, 162, 4...  2017       []   \n",
       "1    94  [260, 454, 137, 14, 400, 274, 339, 213, 280, 2...  2019   [1001]   \n",
       "2    31  [390, 198, 7, 461, 462, 14, 404, 277, 24, 473,...  2014       []   \n",
       "3     6  [195, 6, 390, 10, 459, 464, 338, 146, 276, 466...  2010   [1347]   \n",
       "4   162  [64, 1, 260, 457, 73, 147, 282, 27, 156, 43, 3...  2016   [1107]   \n",
       "\n",
       "  target  \n",
       "0    988  \n",
       "1   2123  \n",
       "2   1578  \n",
       "3   2072  \n",
       "4    995  "
      ]
     },
     "execution_count": 92,
     "metadata": {},
     "output_type": "execute_result"
    }
   ],
   "source": [
    "test_df = read_json('comp90051-22-s1-p1/test.json')\n",
    "test_df.head(5)"
   ]
  },
  {
   "cell_type": "markdown",
   "id": "acf25972",
   "metadata": {},
   "source": [
    "- One hot"
   ]
  },
  {
   "cell_type": "code",
   "execution_count": 93,
   "id": "1986ddfd",
   "metadata": {},
   "outputs": [],
   "source": [
    "test_df.loc[test_df['venue']=='',['venue']]=470\n",
    "venue_transformed_test = get_onehot_col(test_df['venue'], 471, \"venue\")\n",
    "\n",
    "#keywords_transformed_test = get_onehot_col(test_df['keywords'], 500, \"keywords\")\n",
    "\n",
    "test_df['year'] = test_df['year']-2000\n",
    "year_transformed_test = get_onehot_col(test_df['year'], 20, \"year\")\n",
    "\n",
    "coauthor_transformed_test = get_onehot_col(test_df['coauthor'], 2302, \"coauthor\")\n",
    "\n",
    "target_transformed_test = get_onehot_col(test_df['target'], 2302, \"target\")\n",
    "\n",
    "\n",
    "\n"
   ]
  },
  {
   "cell_type": "code",
   "execution_count": 94,
   "id": "3d17a3ef",
   "metadata": {},
   "outputs": [
    {
     "data": {
      "text/html": [
       "<div>\n",
       "<style scoped>\n",
       "    .dataframe tbody tr th:only-of-type {\n",
       "        vertical-align: middle;\n",
       "    }\n",
       "\n",
       "    .dataframe tbody tr th {\n",
       "        vertical-align: top;\n",
       "    }\n",
       "\n",
       "    .dataframe thead th {\n",
       "        text-align: right;\n",
       "    }\n",
       "</style>\n",
       "<table border=\"1\" class=\"dataframe\">\n",
       "  <thead>\n",
       "    <tr style=\"text-align: right;\">\n",
       "      <th></th>\n",
       "      <th>venue</th>\n",
       "      <th>keywords</th>\n",
       "      <th>year</th>\n",
       "      <th>coauthor</th>\n",
       "      <th>target</th>\n",
       "    </tr>\n",
       "  </thead>\n",
       "  <tbody>\n",
       "    <tr>\n",
       "      <th>0</th>\n",
       "      <td>470</td>\n",
       "      <td>[260, 6, 390, 136, 7, 11, 17, 285, 288, 162, 4...</td>\n",
       "      <td>17</td>\n",
       "      <td>[]</td>\n",
       "      <td>988</td>\n",
       "    </tr>\n",
       "    <tr>\n",
       "      <th>1</th>\n",
       "      <td>94</td>\n",
       "      <td>[260, 454, 137, 14, 400, 274, 339, 213, 280, 2...</td>\n",
       "      <td>19</td>\n",
       "      <td>[1001]</td>\n",
       "      <td>2123</td>\n",
       "    </tr>\n",
       "    <tr>\n",
       "      <th>2</th>\n",
       "      <td>31</td>\n",
       "      <td>[390, 198, 7, 461, 462, 14, 404, 277, 24, 473,...</td>\n",
       "      <td>14</td>\n",
       "      <td>[]</td>\n",
       "      <td>1578</td>\n",
       "    </tr>\n",
       "    <tr>\n",
       "      <th>3</th>\n",
       "      <td>6</td>\n",
       "      <td>[195, 6, 390, 10, 459, 464, 338, 146, 276, 466...</td>\n",
       "      <td>10</td>\n",
       "      <td>[1347]</td>\n",
       "      <td>2072</td>\n",
       "    </tr>\n",
       "    <tr>\n",
       "      <th>4</th>\n",
       "      <td>162</td>\n",
       "      <td>[64, 1, 260, 457, 73, 147, 282, 27, 156, 43, 3...</td>\n",
       "      <td>16</td>\n",
       "      <td>[1107]</td>\n",
       "      <td>995</td>\n",
       "    </tr>\n",
       "    <tr>\n",
       "      <th>...</th>\n",
       "      <td>...</td>\n",
       "      <td>...</td>\n",
       "      <td>...</td>\n",
       "      <td>...</td>\n",
       "      <td>...</td>\n",
       "    </tr>\n",
       "    <tr>\n",
       "      <th>1995</th>\n",
       "      <td>14</td>\n",
       "      <td>[194, 260, 69, 73, 14, 462, 334, 17, 336, 280,...</td>\n",
       "      <td>15</td>\n",
       "      <td>[]</td>\n",
       "      <td>1876</td>\n",
       "    </tr>\n",
       "    <tr>\n",
       "      <th>1996</th>\n",
       "      <td>5</td>\n",
       "      <td>[64, 260, 261, 135, 7, 75, 332, 334, 15, 463, ...</td>\n",
       "      <td>16</td>\n",
       "      <td>[]</td>\n",
       "      <td>1976</td>\n",
       "    </tr>\n",
       "    <tr>\n",
       "      <th>1997</th>\n",
       "      <td>58</td>\n",
       "      <td>[451, 136, 459, 15, 146, 276, 342, 285, 222, 2...</td>\n",
       "      <td>4</td>\n",
       "      <td>[646]</td>\n",
       "      <td>1131</td>\n",
       "    </tr>\n",
       "    <tr>\n",
       "      <th>1998</th>\n",
       "      <td>6</td>\n",
       "      <td>[128, 64, 322, 260, 261, 388, 391, 455, 265, 1...</td>\n",
       "      <td>16</td>\n",
       "      <td>[1684, 1040, 1713]</td>\n",
       "      <td>2124</td>\n",
       "    </tr>\n",
       "    <tr>\n",
       "      <th>1999</th>\n",
       "      <td>470</td>\n",
       "      <td>[132, 271, 17, 19, 148, 278, 409, 287, 161, 29...</td>\n",
       "      <td>11</td>\n",
       "      <td>[]</td>\n",
       "      <td>427</td>\n",
       "    </tr>\n",
       "  </tbody>\n",
       "</table>\n",
       "<p>2000 rows × 5 columns</p>\n",
       "</div>"
      ],
      "text/plain": [
       "     venue                                           keywords year  \\\n",
       "0      470  [260, 6, 390, 136, 7, 11, 17, 285, 288, 162, 4...   17   \n",
       "1       94  [260, 454, 137, 14, 400, 274, 339, 213, 280, 2...   19   \n",
       "2       31  [390, 198, 7, 461, 462, 14, 404, 277, 24, 473,...   14   \n",
       "3        6  [195, 6, 390, 10, 459, 464, 338, 146, 276, 466...   10   \n",
       "4      162  [64, 1, 260, 457, 73, 147, 282, 27, 156, 43, 3...   16   \n",
       "...    ...                                                ...  ...   \n",
       "1995    14  [194, 260, 69, 73, 14, 462, 334, 17, 336, 280,...   15   \n",
       "1996     5  [64, 260, 261, 135, 7, 75, 332, 334, 15, 463, ...   16   \n",
       "1997    58  [451, 136, 459, 15, 146, 276, 342, 285, 222, 2...    4   \n",
       "1998     6  [128, 64, 322, 260, 261, 388, 391, 455, 265, 1...   16   \n",
       "1999   470  [132, 271, 17, 19, 148, 278, 409, 287, 161, 29...   11   \n",
       "\n",
       "                coauthor target  \n",
       "0                     []    988  \n",
       "1                 [1001]   2123  \n",
       "2                     []   1578  \n",
       "3                 [1347]   2072  \n",
       "4                 [1107]    995  \n",
       "...                  ...    ...  \n",
       "1995                  []   1876  \n",
       "1996                  []   1976  \n",
       "1997               [646]   1131  \n",
       "1998  [1684, 1040, 1713]   2124  \n",
       "1999                  []    427  \n",
       "\n",
       "[2000 rows x 5 columns]"
      ]
     },
     "execution_count": 94,
     "metadata": {},
     "output_type": "execute_result"
    }
   ],
   "source": [
    "test_df"
   ]
  },
  {
   "cell_type": "markdown",
   "id": "b4e331b8",
   "metadata": {},
   "source": [
    "- word2vec"
   ]
  },
  {
   "cell_type": "code",
   "execution_count": 95,
   "id": "047d10a6",
   "metadata": {},
   "outputs": [],
   "source": [
    "\n",
    "keywords_tran_test = []\n",
    "for row in test_df['keywords']:\n",
    "    keywords_tran_test.append(convert_to_emb(row, model_keywords ))\n",
    "\n",
    "keywords_cols = [\"keyword_\"+str(i) for i in range(VECTOR_SIZE_KEYWORDS)]\n",
    "keywords_transformed_test_word2vec = pd.DataFrame(keywords_tran_test, columns=keywords_cols)\n",
    "\n"
   ]
  },
  {
   "cell_type": "markdown",
   "id": "5fc1829b",
   "metadata": {},
   "source": [
    "- combine"
   ]
  },
  {
   "cell_type": "code",
   "execution_count": 96,
   "id": "1258f641",
   "metadata": {},
   "outputs": [],
   "source": [
    "# transformed_df_comb_test = pd.concat([venue_transformed_test,keywords_transformed_test,keywords_transformed_test_tfidf,year_transformed_test,test_df['year'].reset_index(drop=True),coauthor_transformed_test],axis=1)\n",
    "\n",
    "transformed_df_comb_test = pd.concat([venue_transformed_test,keywords_transformed_test_word2vec,year_transformed_test,coauthor_transformed_test],axis=1)\n",
    "target = test_df['target']\n",
    "\n",
    "\n"
   ]
  },
  {
   "cell_type": "code",
   "execution_count": 97,
   "id": "8b5e99ac",
   "metadata": {},
   "outputs": [
    {
     "data": {
      "text/plain": [
       "(2000, 2805)"
      ]
     },
     "execution_count": 97,
     "metadata": {},
     "output_type": "execute_result"
    }
   ],
   "source": [
    "transformed_df_comb_test.shape"
   ]
  },
  {
   "cell_type": "markdown",
   "id": "324e3d6b",
   "metadata": {},
   "source": [
    "## 5. Fit on test data - LR\n",
    "- AUC on Kaggle: 0.84515(c=1)"
   ]
  },
  {
   "cell_type": "code",
   "execution_count": 89,
   "id": "fa179ae1",
   "metadata": {},
   "outputs": [],
   "source": [
    "pred_LR_test = clf_LR_01.predict_proba(transformed_df_comb_test)\n",
    "res_test = []\n",
    "for i in range(len(pred_LR_test)):\n",
    "    res_test.append(pred_LR_test[i][target[i]])\n"
   ]
  },
  {
   "cell_type": "code",
   "execution_count": 90,
   "id": "9727a0a1",
   "metadata": {},
   "outputs": [],
   "source": [
    "sample_df = pd.read_csv('comp90051-22-s1-p1/sample.csv',index_col=0)\n",
    "sample_df['Predicted'] = res_test\n",
    "sample_df.to_csv('predicted_LR_word2vec_lr_c1.csv')"
   ]
  }
 ],
 "metadata": {
  "kernelspec": {
   "display_name": "Python 3 (ipykernel)",
   "language": "python",
   "name": "python3"
  },
  "language_info": {
   "codemirror_mode": {
    "name": "ipython",
    "version": 3
   },
   "file_extension": ".py",
   "mimetype": "text/x-python",
   "name": "python",
   "nbconvert_exporter": "python",
   "pygments_lexer": "ipython3",
   "version": "3.8.5"
  }
 },
 "nbformat": 4,
 "nbformat_minor": 5
}
